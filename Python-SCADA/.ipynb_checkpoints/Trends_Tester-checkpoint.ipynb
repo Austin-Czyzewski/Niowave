{
 "cells": [
  {
   "cell_type": "markdown",
   "metadata": {},
   "source": [
    "### Python trends for this bad boy"
   ]
  },
  {
   "cell_type": "code",
   "execution_count": null,
   "metadata": {},
   "outputs": [],
   "source": [
    "from Tag_Database import *\n",
    "Tag_Names = list(locals().keys())[22:]\n",
    "All_Vars = vars()\n",
    "Tag_list = []\n",
    "for i in range(len(Tag_Names)):\n",
    "    Tag_list.append(All_Vars[Tag_Names[i]])\n",
    "import Master as M\n",
    "import numpy as np\n",
    "import matplotlib.pyplot as plt\n",
    "import matplotlib.animation as anime\n",
    "import seaborn\n",
    "seaborn.set()\n",
    "import time"
   ]
  },
  {
   "cell_type": "code",
   "execution_count": null,
   "metadata": {},
   "outputs": [],
   "source": [
    "Client = M.Make_Client('10.50.0.10')\n",
    "i = 0\n",
    "for Tag in Tag_list:\n",
    "    print(M.Read(Client,Tag))"
   ]
  },
  {
   "cell_type": "code",
   "execution_count": null,
   "metadata": {},
   "outputs": [],
   "source": [
    "Client = M.Make_Client('10.50.0.10')\n",
    "Start_Time = time.time()\n",
    "Full_list = []\n",
    "while time.time()-Start_Time < 600:\n",
    "    temp_list = []\n",
    "    for Tag in Tag_list:\n",
    "        temp_list.append(M.Read(Client,Tag))\n",
    "    Full_list.append(temp_list)\n",
    "    print(time.time()-Start_Time)\n",
    "    #time.sleep(1)\n",
    "Full = np.array(Full_list)\n",
    "print(Full)"
   ]
  },
  {
   "cell_type": "code",
   "execution_count": null,
   "metadata": {},
   "outputs": [],
   "source": [
    "np.shape(Full)"
   ]
  },
  {
   "cell_type": "code",
   "execution_count": null,
   "metadata": {},
   "outputs": [],
   "source": [
    "non0 = []\n",
    "plt.figure(figsize = (12,8))\n",
    "for i in range(151):\n",
    "    if Full[0,i] != 0:\n",
    "        non0.append(i)\n",
    "for i in non0[30:31]:\n",
    "    plt.plot(Full[:,i]/max(Full[:,i]), label = \"{}\".format(i))\n",
    "    \n",
    "plt.legend()"
   ]
  },
  {
   "cell_type": "code",
   "execution_count": null,
   "metadata": {},
   "outputs": [],
   "source": [
    "x = np.array(range(np.shape(Full)[0]))\n",
    "for Line in range(len(Full[:,0])):\n",
    "    for point in range(Line):\n",
    "        plt.scatter(x[Line],Full[Line,point])"
   ]
  },
  {
   "cell_type": "code",
   "execution_count": null,
   "metadata": {},
   "outputs": [],
   "source": [
    "!ping 10.50.0.10"
   ]
  },
  {
   "cell_type": "code",
   "execution_count": null,
   "metadata": {},
   "outputs": [],
   "source": [
    "Client = M.Make_Client('10.50.0.10')\n",
    "\n",
    "from pymodbus.client.sync import ModbusTcpClient\n",
    "from pymodbus.payload import BinaryPayloadDecoder\n",
    "from pymodbus.payload import BinaryPayloadBuilder\n",
    "from pymodbus.constants import Endian\n",
    "def Read(Client, Tag_Number):\n",
    "    '''\n",
    "        -Inputs: Client, see \"Client\" Above\n",
    "            __ Tag_Number: which modbus to read, convention is this: input the modbus start tag number. Must have a modbus tag.\n",
    "\n",
    "        -Must have established client before attempting to read from the client\n",
    "        \n",
    "        -Outputs: The value of that Moodbus tag\n",
    "\n",
    "        Method: Grab holding register value\n",
    "                - Decode that value into a 32 bit float\n",
    "                - Convert from 32 bit float to regular float\n",
    "        \n",
    "        -Required imports\n",
    "        from pymodbus.client.sync import ModbusTcpClient\n",
    "        from pymodbus.payload import BinaryPayloadDecoder\n",
    "        from pymodbus.constants import Endian\n",
    "\n",
    "        -example:\n",
    "        Client = Make_Client('192.168.1.2')\n",
    "        Dipole_1_Current = Read(Client,22201)\n",
    "\n",
    "    '''\n",
    "    Tag_Number = int(Tag_Number)-1\n",
    "    \n",
    "    Payload = Client.read_holding_registers(Tag_Number,2,unit=1)\n",
    "    Tag_Value_Bit = BinaryPayloadDecoder.fromRegisters(Payload.registers, byteorder=Endian.Big, wordorder=Endian.Big)\n",
    "    Tag_Value = Tag_Value_Bit.decode_32bit_float()\n",
    "\n",
    "    return Tag_Value\n",
    "'''\n",
    "def Read_Multiple(Client, Start_Tag, Number):\n",
    "    \n",
    "    Start_Tag_Number = int(Start_Tag) - 1\n",
    "    \n",
    "    Payload = Client.read_coils(Start_Tag_Number, count=Number)\n",
    "    Tag_Value_Bit = BinaryPayloadDecoder.fromRegisters(Payload, byteorder=Endian.Big, wordorder=Endian.Big)\n",
    "    Tag_Value = Tag_Value_Bit.decode_32bit_float()\n",
    "    \n",
    "    return Tag_Value\n",
    "'''\n",
    "Payload = Client.read_input_registers(20201, count = 42, unit = 1)\n",
    "print(Payload)\n",
    "print(np.shape(Payload))\n",
    "print('\\n\\n\\n\\n\\n\\n')\n",
    "Tag_Value_Bit = BinaryPayloadDecoder.fromRegisters(Payload.registers, byteorder=Endian.Big, wordorder=Endian.Big)\n",
    "print(Tag_Value_Bit)\n",
    "print('\\n\\n\\n\\n\\n\\n')\n",
    "Tag_Value = Tag_Value_Bit.decode_32bit_float()\n",
    "print(Tag_Value)"
   ]
  },
  {
   "cell_type": "code",
   "execution_count": null,
   "metadata": {},
   "outputs": [],
   "source": [
    "#BinaryPayloadDecoder(Payload, byteorder=Endian.Big, wordorder=Endian.Big)\n",
    "Client = M.Make_Client('10.50.0.10')\n",
    "Client.read_input_registers(11109, count = 3, unit = 1).registers"
   ]
  },
  {
   "cell_type": "code",
   "execution_count": null,
   "metadata": {},
   "outputs": [],
   "source": [
    "# bokeh basics\n",
    "import numpy as np\n",
    "from bokeh.plotting import figure\n",
    "from bokeh.io import show, output_notebook, curdoc\n",
    "from bokeh.models import LinearAxis, Range1d\n",
    "\n",
    "# Create a blank figure with labels\n",
    "curdoc().theme = 'dark_minimal'\n",
    "p = figure(plot_width = 700, plot_height = 600, \n",
    "           title = 'Example Glyphs',\n",
    "           x_axis_label = 'X', y_axis_label = 'Y', x_axis_type = 'datetime',)\n",
    "           #background_fill_color  = 'black',border_fill_color = 'black')\n",
    "\n",
    "p.extra_y_ranges = {\"foo\": Range1d(start=-100, end=200)}\n",
    "\n",
    "# Adding the second axis to the plot.  \n",
    "p.add_layout(LinearAxis(y_range_name=\"foo\"), 'left')\n",
    "\n",
    "# Example data\n",
    "squares_x = np.linspace(0,10,100)\n",
    "squares_y = np.linspace(0,10,100)**2\n",
    "circles_x = np.linspace(0,10,25)\n",
    "circles_y = np.linspace(0,10,25)**(1/2)*10\n",
    "\n",
    "# Add squares glyph\n",
    "p.square(squares_x, squares_y, size = 12, color = 'skyblue', alpha = 0.6)\n",
    "# Add circle glyph\n",
    "p.step(circles_x, circles_y, color = 'yellow', line_width=2, line_join = 'miter')\n",
    "\n",
    "# Set to output the plot in the notebook\n",
    "output_notebook()\n",
    "# Show the plot\n",
    "show(p)"
   ]
  },
  {
   "cell_type": "code",
   "execution_count": null,
   "metadata": {},
   "outputs": [],
   "source": [
    "import pandas as pd\n",
    "\n",
    "from bokeh.models import CustomJS\n",
    "from bokeh.palettes import Spectral4\n",
    "from bokeh.plotting import figure, output_file, show\n",
    "from bokeh.sampledata.stocks import AAPL, IBM, MSFT, GOOG\n",
    "\n",
    "p = figure(plot_width=800, plot_height=250, x_axis_type='datetime')\n",
    "p.title.text = 'Click on legend entries to hide lines'\n",
    "\n",
    "for data, name, color in zip([AAPL, IBM, MSFT, GOOG], [\"AAPL\", \"IBM\", \"MSFT\", \"GOOG\"], Spectral4):\n",
    "    df = pd.DataFrame(data)\n",
    "    df['date'] = pd.to_datetime(df['date'])\n",
    "    r = p.line(df['date'], df['close'], line_width=2, color=color, alpha=0.8, legend=name)\n",
    "    r.js_on_change('visible', CustomJS(code='console.log(\"VISIBLE CHANGED\")'))\n",
    "\n",
    "p.legend.location = 'top_left'\n",
    "p.legend.click_policy = 'hide'\n",
    "\n",
    "output_file('interactive_legend.html', title='interactive_legend.py example')\n",
    "\n",
    "show(p)"
   ]
  },
  {
   "cell_type": "markdown",
   "metadata": {},
   "source": [
    "# Trends that we need"
   ]
  },
  {
   "cell_type": "code",
   "execution_count": 1,
   "metadata": {},
   "outputs": [],
   "source": [
    "import time\n",
    "import numpy as np\n",
    "from Tag_Database import *\n",
    "\n",
    "Vacuums = [Gun_Vac, Gun_Cross, SRF_Cavity_Vac, HE_Sraight_Vac, \n",
    "           Insulating_Vac, E_Station_Vac]\n",
    "\n",
    "Temps = [BH_OC_Temp, DBA_Pipe_Temp, Cu_Gun_Temp, HE_Straight_Col, \n",
    "         DBA_Dump_CHWR, DBA_Dump_CHWS, Tuner_Plate_Temp, \n",
    "         Gate_Valve_Downstream_Temp, Gate_Valve_Upstream_Temp, \n",
    "         Loop_Bypass_CHWS, Loop_Bypass_CHWR, DBA_Coupler, \n",
    "         Coupler_Shoulder, Solenoid_4_Temp, Solenoid_5_Temp]"
   ]
  },
  {
   "cell_type": "code",
   "execution_count": 24,
   "metadata": {},
   "outputs": [],
   "source": [
    "file = open(\"tester.txt\",'w')\n",
    "file.truncate(0)\n",
    "Full_List = [[31101, 31103, 31105, 31107, 31121, 31125],\n",
    " [31101, 31103, 31105, 31107, 31121, 31125],\n",
    " [31101, 31103, 31105, 31107, 31121, 31125],\n",
    " [31101, 31103, 31105, 31107, 31121, 31125],\n",
    " [31101, 31103, 31105, 31107, 31121, 31125],\n",
    " [31101, 31103, 31105, 31107, 31121, 31125],\n",
    " [31101, 31103, 31105, 31107, 31121, 31125],\n",
    " [31101, 31103, 31105, 31107, 31121, 31125],\n",
    " [31101, 31103, 31105, 31107, 31121, 31125],\n",
    " [31101, 31103, 31105, 31107, 31121, 31125]]\n",
    "for line in Full_List:\n",
    "    file.write(str(line).strip(\"[]\")+\"\\n\")\n",
    "file.close()"
   ]
  },
  {
   "cell_type": "code",
   "execution_count": 4,
   "metadata": {},
   "outputs": [
    {
     "ename": "KeyboardInterrupt",
     "evalue": "",
     "output_type": "error",
     "traceback": [
      "\u001b[1;31m---------------------------------------------------------------------------\u001b[0m",
      "\u001b[1;31mKeyboardInterrupt\u001b[0m                         Traceback (most recent call last)",
      "\u001b[1;32m<ipython-input-4-24d7abaf9739>\u001b[0m in \u001b[0;36m<module>\u001b[1;34m\u001b[0m\n\u001b[0;32m     39\u001b[0m     \u001b[1;31m#    print(time.time()-mid_loop_time)\u001b[0m\u001b[1;33m\u001b[0m\u001b[1;33m\u001b[0m\u001b[1;33m\u001b[0m\u001b[0m\n\u001b[0;32m     40\u001b[0m     \u001b[0mfile\u001b[0m\u001b[1;33m.\u001b[0m\u001b[0mclose\u001b[0m\u001b[1;33m(\u001b[0m\u001b[1;33m)\u001b[0m\u001b[1;33m\u001b[0m\u001b[1;33m\u001b[0m\u001b[0m\n\u001b[1;32m---> 41\u001b[1;33m     \u001b[0mtime\u001b[0m\u001b[1;33m.\u001b[0m\u001b[0msleep\u001b[0m\u001b[1;33m(\u001b[0m\u001b[1;36m0.250\u001b[0m\u001b[1;33m)\u001b[0m\u001b[1;33m\u001b[0m\u001b[1;33m\u001b[0m\u001b[0m\n\u001b[0m\u001b[0;32m     42\u001b[0m     \u001b[0mi\u001b[0m \u001b[1;33m+=\u001b[0m \u001b[1;36m1\u001b[0m\u001b[1;33m\u001b[0m\u001b[1;33m\u001b[0m\u001b[0m\n\u001b[0;32m     43\u001b[0m     \u001b[1;32mif\u001b[0m \u001b[0mi\u001b[0m \u001b[1;33m>\u001b[0m \u001b[1;36m86400\u001b[0m\u001b[1;33m:\u001b[0m\u001b[1;33m\u001b[0m\u001b[1;33m\u001b[0m\u001b[0m\n",
      "\u001b[1;31mKeyboardInterrupt\u001b[0m: "
     ]
    }
   ],
   "source": [
    "i = 0\n",
    "Start = time.time()\n",
    "#while True:\n",
    "\n",
    "DST_Conversion = 3\n",
    "if time.localtime().tm_isdst == 1:\n",
    "    DST_Conversion = 4\n",
    "    \n",
    "while True:\n",
    "\n",
    "    temp_list = [time.time()*10**3-DST_Conversion*60*60*1000]\n",
    "    \n",
    "    #######################################\n",
    "    ### Loops for all different collections \n",
    "    #######################################\n",
    "    \n",
    "    for Tag in Vacuums:\n",
    "        #temp_list.append(M.Read(Client,Tag))\n",
    "        temp_list.append(Tag * i/12038.6)\n",
    "    for Tag in Temps:\n",
    "        #temp_list.append(M.Read(Client,Tag))\n",
    "        temp_list.append(Tag + i/12835.4)\n",
    "    \n",
    "    file = open(\"Data.txt\",'a')\n",
    "    file.write(str(temp_list).strip(\"[]\")+\"\\n\")\n",
    "    #file.write(str(temp_list).strip(\"[]\")+\"\\n\")\n",
    "    file.close()\n",
    "    #mid_loop_time = time.time()\n",
    "    with open(\"Data.txt\", \"r+\") as file:\n",
    "        contents = file.readlines()\n",
    "        #print(np.shape(contents)[0])\n",
    "        if np.shape(contents)[0] > 10000:\n",
    "            file.seek(0)\n",
    "            for num,j in enumerate(contents):\n",
    "                if num != 1:\n",
    "                    file.write(j)\n",
    "            file.truncate()\n",
    "    #if i % 250 == 0:\n",
    "    #    print(time.time()-mid_loop_time)\n",
    "    file.close()\n",
    "    time.sleep(0.250)\n",
    "    i += 1\n",
    "    if i > 86400:\n",
    "        break\n",
    "    \n",
    "print(time.time()-Start)"
   ]
  },
  {
   "cell_type": "code",
   "execution_count": 29,
   "metadata": {},
   "outputs": [],
   "source": [
    "with open(\"tester.txt\", \"r+\") as file:\n",
    "    contents = file.readlines()\n",
    "    file.seek(0)\n",
    "    for num,i in enumerate(contents):\n",
    "        if num != 1:\n",
    "            file.write(i)\n",
    "    file.truncate()\n",
    "file.close()"
   ]
  },
  {
   "cell_type": "code",
   "execution_count": 52,
   "metadata": {},
   "outputs": [
    {
     "data": {
      "text/plain": [
       "0.5691994731426239"
      ]
     },
     "execution_count": 52,
     "metadata": {},
     "output_type": "execute_result"
    }
   ],
   "source": [
    "569.1994731426239/1000"
   ]
  },
  {
   "cell_type": "code",
   "execution_count": 24,
   "metadata": {},
   "outputs": [
    {
     "name": "stdout",
     "output_type": "stream",
     "text": [
      "[31111.0, 31113.0, 31115.0, 31117.0, 31131.0, 31135.0, 30111.0, 30115.0, 30113.0, 30121.0, 30321.0, 30319.0, 30119.0, 30277.0, 30273.0, 30307.0, 30309.0, 30271.0, 30221.0, 30279.0, 30281.0]\n",
      "0.020458698272705078\n"
     ]
    }
   ],
   "source": [
    "import os\n",
    "start = time.time()\n",
    "with open('Data.txt', 'rb') as f:\n",
    "    f.seek(-2, os.SEEK_END)\n",
    "    while f.read(1) != b'\\n':\n",
    "        f.seek(-2, os.SEEK_CUR) \n",
    "    last_line = f.readline().decode().split(\",\")\n",
    "temp_list = []\n",
    "for item in last_line:\n",
    "    try:\n",
    "        temp_list.append(float(item))\n",
    "    except:\n",
    "        temp_list.append(float(item.strip(\"\\rn\")))\n",
    "print(temp_list)\n",
    "print(time.time()-start)"
   ]
  },
  {
   "cell_type": "code",
   "execution_count": 29,
   "metadata": {},
   "outputs": [
    {
     "data": {
      "text/plain": [
       "21"
      ]
     },
     "execution_count": 29,
     "metadata": {},
     "output_type": "execute_result"
    }
   ],
   "source": [
    "len(Temps)+len(Vacuums)"
   ]
  },
  {
   "cell_type": "code",
   "execution_count": 7,
   "metadata": {},
   "outputs": [
    {
     "data": {
      "text/plain": [
       "65.31697196422495"
      ]
     },
     "execution_count": 7,
     "metadata": {},
     "output_type": "execute_result"
    }
   ],
   "source": [
    "import numpy.random as random\n",
    "random.normal(60,5)"
   ]
  },
  {
   "cell_type": "code",
   "execution_count": 16,
   "metadata": {},
   "outputs": [],
   "source": [
    "import numpy as np\n",
    "with open(\"Data.txt\",'r') as file:\n",
    "    lines = file.readlines()\n",
    "for num,line in enumerate(lines[1:]):\n",
    "    lines[num+1] = line.strip(\"\\nr\").split(\",\")\n",
    "    if np.shape(line.strip(\"\\nr\").split(\",\"))[0] != 22:\n",
    "        print(\"AAAAAAAAAAAA\", num)\n",
    "data = np.array(lines[1:]).astype(float)"
   ]
  },
  {
   "cell_type": "code",
   "execution_count": 42,
   "metadata": {},
   "outputs": [
    {
     "data": {
      "text/plain": [
       "array([ 4899.39652451,  4901.98195803,  4904.56739156, ...,\n",
       "       69486.11134185, 69488.69677537, 69491.28220889])"
      ]
     },
     "execution_count": 42,
     "metadata": {},
     "output_type": "execute_result"
    }
   ],
   "source": [
    "with open(\"Data.txt\",'r') as file:\n",
    "    lines = file.readlines()\n",
    "for num,line in enumerate(lines[1:]):\n",
    "    lines[num+1] = line.strip(\"\\nr\").split(\",\")\n",
    "data = np.array(lines[1:]).astype(float)"
   ]
  },
  {
   "cell_type": "code",
   "execution_count": null,
   "metadata": {},
   "outputs": [],
   "source": []
  }
 ],
 "metadata": {
  "kernelspec": {
   "display_name": "Python 3",
   "language": "python",
   "name": "python3"
  },
  "language_info": {
   "codemirror_mode": {
    "name": "ipython",
    "version": 3
   },
   "file_extension": ".py",
   "mimetype": "text/x-python",
   "name": "python",
   "nbconvert_exporter": "python",
   "pygments_lexer": "ipython3",
   "version": "3.8.1"
  }
 },
 "nbformat": 4,
 "nbformat_minor": 4
}
