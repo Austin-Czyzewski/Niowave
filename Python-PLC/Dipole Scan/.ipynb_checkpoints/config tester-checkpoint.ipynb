{
 "cells": [
  {
   "cell_type": "code",
   "execution_count": 42,
   "metadata": {},
   "outputs": [
    {
     "name": "stdout",
     "output_type": "stream",
     "text": [
      "Current Tunnel: West\n",
      "\n",
      "PLC IP: 10.50.0.10\n",
      "\n",
      "Threshold_Percent: 0.05\n",
      "\n",
      "Runs: 1\n",
      "\n",
      "Step_size: .001\n",
      "\n",
      "count: 20\n",
      "\n",
      "pulsing_count: 50\n",
      "\n"
     ]
    }
   ],
   "source": [
    "def config_reader(file, config_type):\n",
    "    Lines = []\n",
    "    with open(file, 'r') as f:\n",
    "        for line in f:\n",
    "            Lines.append(line)\n",
    "            \n",
    "    if config_type == \"Dipole Scan\":\n",
    "        LOI = Lines[2:10]\n",
    "        Parameters = []\n",
    "        for param in LOI:\n",
    "            if param == \"\\n\":\n",
    "                continue\n",
    "            print(param)\n",
    "            try:\n",
    "                Parameters.append(float(param.strip(\"\\n\").replace(\" \",\"\").split(\":\")[1]))\n",
    "            except:\n",
    "                Parameters.append(param.strip(\"\\n\").replace(\" \",\"\").split(\":\")[1])\n",
    "        return Parameters\n",
    "    \n",
    "    if config_type == \"Dog Leg\":\n",
    "        return\n",
    "    \n",
    "    if config_type == \"IF Regulation\":\n",
    "        return\n",
    "    \n",
    "    if config_type == \"Cutoffs\":\n",
    "        return\n",
    "    \n",
    "    if config_type == \"Gun Walker\":\n",
    "        return\n",
    "    \n",
    "    return\n",
    "Tunnel, PLC_IP, Threshold_Percent, Runs, Step_Size, count, pulsing_count = config_reader('dp1_scan_config.txt', \"Dipole Scan\")"
   ]
  },
  {
   "cell_type": "code",
   "execution_count": 36,
   "metadata": {},
   "outputs": [
    {
     "name": "stdout",
     "output_type": "stream",
     "text": [
      "West 10.50.0.10 0.05 1.0 0.001 20.0 50.0\n",
      "<class 'str'>\n"
     ]
    }
   ],
   "source": [
    "print(Tunnel, PLC_IP, Threshold_Percent, Runs, Step_Size, count, pulsing_count)\n",
    "print(type(PLC_IP))"
   ]
  },
  {
   "cell_type": "code",
   "execution_count": null,
   "metadata": {},
   "outputs": [],
   "source": []
  }
 ],
 "metadata": {
  "kernelspec": {
   "display_name": "Python 3",
   "language": "python",
   "name": "python3"
  },
  "language_info": {
   "codemirror_mode": {
    "name": "ipython",
    "version": 3
   },
   "file_extension": ".py",
   "mimetype": "text/x-python",
   "name": "python",
   "nbconvert_exporter": "python",
   "pygments_lexer": "ipython3",
   "version": "3.8.1"
  }
 },
 "nbformat": 4,
 "nbformat_minor": 4
}
