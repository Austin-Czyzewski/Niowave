{
 "cells": [
  {
   "cell_type": "code",
   "execution_count": 28,
   "metadata": {},
   "outputs": [],
   "source": [
    "import Tag_Database as Tags\n",
    "\n",
    "WF1H_Tag, WF2H_Tag, WF1V_Tag, WF2V_Tag = Tags.WF6H, Tags.WF17H, Tags.WF6V, Tags.WF7V\n",
    "Moved_Magnets = [WF1H_Tag, WF2H_Tag, WF1V_Tag, WF2V_Tag]\n",
    "variables = vars(Tags)\n",
    "Controlled_Magnets = list()\n",
    "for Mag_Tag in Moved_Magnets:\n",
    "    for item in variables.items():\n",
    "        if item[1] == Mag_Tag:\n",
    "            Controlled_Magnets.append(item[0])"
   ]
  },
  {
   "cell_type": "code",
   "execution_count": 29,
   "metadata": {},
   "outputs": [
    {
     "name": "stdout",
     "output_type": "stream",
     "text": [
      "6 17\n",
      "<class 'str'>\n"
     ]
    }
   ],
   "source": [
    "import re\n",
    "\n",
    "try:\n",
    "    Magnet_1_String = re.findall(r'\\d+', Controlled_Magnets[0])[0]\n",
    "    Magnet_2_String = re.findall(r'\\d+', Controlled_Magnets[1])[0]\n",
    "    if type(Magnet_1_String) != str:\n",
    "        raise\n",
    "except:\n",
    "    Magnet_1_String = 'Woah'\n",
    "    print('you did it')\n",
    "\n",
    "print(Magnet_1_String, Magnet_2_String)\n",
    "print(type(Magnet_1_String))"
   ]
  },
  {
   "cell_type": "code",
   "execution_count": null,
   "metadata": {},
   "outputs": [],
   "source": []
  }
 ],
 "metadata": {
  "kernelspec": {
   "display_name": "Python 3",
   "language": "python",
   "name": "python3"
  },
  "language_info": {
   "codemirror_mode": {
    "name": "ipython",
    "version": 3
   },
   "file_extension": ".py",
   "mimetype": "text/x-python",
   "name": "python",
   "nbconvert_exporter": "python",
   "pygments_lexer": "ipython3",
   "version": "3.8.1"
  }
 },
 "nbformat": 4,
 "nbformat_minor": 4
}
