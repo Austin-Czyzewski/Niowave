{
 "cells": [
  {
   "cell_type": "markdown",
   "metadata": {},
   "source": [
    "# Dog Leg Version 3\n",
    "### Improvements to be made:\n",
    "- More exhaustive data collection\n",
    "- Gather Injection parameters at each step\n",
    "- Make Data collection more flexible\n",
    "- Make the Dog Leg run faster, as fast as possible"
   ]
  },
  {
   "cell_type": "markdown",
   "metadata": {},
   "source": [
    "#### Imports"
   ]
  },
  {
   "cell_type": "code",
   "execution_count": 15,
   "metadata": {},
   "outputs": [],
   "source": [
    "import Master as M\n",
    "import time\n",
    "import matplotlib.pyplot as plt\n",
    "import numpy as np\n",
    "from datetime import datetime\n",
    "import Tag_Database as Tags\n",
    "\n",
    "Client = M.Make_Client('10.50.0.10')"
   ]
  },
  {
   "cell_type": "markdown",
   "metadata": {},
   "source": [
    "#### Creating a read function that adds a list of tags to read and appends to the read list"
   ]
  },
  {
   "cell_type": "markdown",
   "metadata": {},
   "source": [
    "#### User Defined Variables"
   ]
  },
  {
   "cell_type": "code",
   "execution_count": 17,
   "metadata": {},
   "outputs": [],
   "source": [
    "start_time = time.time()\n",
    "\n",
    "Pulsing_Status = bool(M.Read(Client, Tags.Pulsing_Output, Bool = True))\n",
    "\n",
    "Move_To_Optimum = False\n",
    "\n",
    "# The tag list below is structured as multiple lists. Each of these lists contain the tag and whether or not that tag should be averaged\n",
    "Tag_List = [[Tags.WF6H, False], [Tags.WF7H, False], [Tags.WF6V, False], [Tags.WF7V, False], \\\n",
    "            [Tags.Emitted_Current, True], [Tags.Recirculator_Halfway, True], \\\n",
    "            [Tags.Recirculator_Bypass, True], [Tags.CU_V, False], [Tags.SRF_Pt, False]]\n",
    "\n",
    "Threshold_Percent = 0 #Float. The percentage of beam that we want to collect in order to turn the Dog Leg around\n",
    "\n",
    "Zoom_In_Factor = 1 #This is how much we want to zoomn in if we are interested in an artifact at the center of the dog leg or want higher precision in the center\n",
    "\n",
    "Scale_Factor = 0.91 #This is how much we want to scale off of the excel documents used prior to Dog Legs\n",
    "\n",
    "Read_Steps = 40 #Integer. Number of steps to be taken in the Dog Leg. Must be an integer\n",
    "\n",
    "if Pulsing_Status:\n",
    "    count = 25 #Integer. How many points will be recorded at each step and averaged over if pulsing\n",
    "    sleep_time = 0.010 #Float.(ms)Sleep for 20 ms, this is tested to not overload PLC or give redundant data\n",
    "else:\n",
    "    count = 10 #Non-pulsing count of steps to take\n",
    "    sleep_time = 0.010 #Non-pulsing sleep time\n",
    "\n",
    "Delta_6 = 0.384*Scale_Factor/Zoom_In_Factor #Change in Window Frame 6 Values throughout the test, standard is 0.384 from Dog Leg Excel sheets (01/01/2020)\n",
    "Delta_7 = 0.228*Scale_Factor/Zoom_In_Factor #Change in Window Frame 7 Values throughout the test, standard is 0.228 from Dog Leg Excel sheets (01/01/2020)"
   ]
  },
  {
   "cell_type": "markdown",
   "metadata": {},
   "source": [
    "#### Beginning of run snapshot"
   ]
  },
  {
   "cell_type": "code",
   "execution_count": 18,
   "metadata": {},
   "outputs": [
    {
     "name": "stdout",
     "output_type": "stream",
     "text": [
      "0.4385669231414795\n"
     ]
    }
   ],
   "source": [
    "a = time.time()\n",
    "Emission_Setpoint = M.Read(Client, Tags.Emission_Set)\n",
    "Emission_Actual = M.Read(Client, Tags.Emitted_Current, Average = True, count = count, sleep_time = sleep_time)\n",
    "WF6H_Start = M.Read(Client,Tags.WF6H) #Starting value for Window Frame 6 Horizontal\n",
    "WF7H_Start = M.Read(Client,Tags.WF7H) #Starting value for Window Frame 7 Horizontal\n",
    "WF6V_Start = M.Read(Client,Tags.WF6V) #Starting value for Window Frame 6 Horizontal\n",
    "WF7V_Start = M.Read(Client,Tags.WF7V) #Starting value for Window Frame 7 Horizontal\n",
    "IR_Temp = M.Read(Client, Tags.IR_Temp)\n",
    "VA_Temp = M.Read(Client, Tags.VA_Temp)\n",
    "V0_Setpoint = M.Read(Client, Tags.V0_SP)\n",
    "V0_Read = M.Read(Client, Tags.V0_Read)\n",
    "Cathode_V = M.Read(Client, Tags.Voltage_Read)\n",
    "Cathode_I = M.Read(Client, Tags.Current_Read)\n",
    "Cathode_Z = M.Read(Client, Tags.Impedance_Read)\n",
    "Cathode_P = M.Read(Client, Tags.Power_Read)\n",
    "CU_Gun_Pf = M.Read(Client, Tags.CU_Pf)\n",
    "CU_Gun_Pr = M.Read(Client, Tags.CU_Pr)\n",
    "CU_Gun_Pt = M.Read(Client, Tags.CU_Pt)\n",
    "CU_Gun_V = M.Read(Client, Tags.CU_V)\n",
    "BH_Gun_Pf = M.Read(Client, Tags.BH_Pf)\n",
    "BH_Gun_Pr = M.Read(Client, Tags.BH_Pr)\n",
    "BH_Gun_Pt = M.Read(Client, Tags.BH_Pt)\n",
    "SRF_Pf = M.Read(Client, Tags.SRF_Pf)\n",
    "SRF_Pr = M.Read(Client, Tags.SRF_Pr)\n",
    "SRF_Pt = M.Read(Client, Tags.SRF_Pt)\n",
    "Pulse_Freq = M.Read(Client, Tags.Pulse_Frequency)\n",
    "Pulse_Duty = M.Read(Client, Tags.Pulse_Duty)\n",
    "\n",
    "EC = M.Read(Client, Tags.Emitted_Current)\n",
    "print(time.time()-a)\n",
    "start_time = time.time()\n",
    "\n",
    "#Summing the start current of the two dumps\n",
    "Start_Current = (M.Read(Client, Tags.Recirculator_Halfway, Average = True, count = count,sleep_time = sleep_time) + \\\n",
    "                 M.Read(Client, Tags.Recirculator_Bypass, Average = True, count = count,sleep_time = sleep_time))\n",
    "\n",
    "H_Broken = V_Broken = False #Creating the check tag for the Horizontal dog leg, starting out as false as no errors could have been raised yet"
   ]
  },
  {
   "cell_type": "markdown",
   "metadata": {},
   "source": [
    "#### Creating the data structure"
   ]
  },
  {
   "cell_type": "code",
   "execution_count": 19,
   "metadata": {},
   "outputs": [
    {
     "name": "stdout",
     "output_type": "stream",
     "text": [
      "[]\n"
     ]
    }
   ],
   "source": [
    "Full_Data_Set = list()\n",
    "print(Full_Data_Set)\n",
    "WF6H_Tag = Tags.WF6H\n",
    "WF7H_Tag = Tags.WF7H\n",
    "WF6V_Tag = Tags.WF6V\n",
    "WF7V_Tag = Tags.WF7V"
   ]
  },
  {
   "cell_type": "markdown",
   "metadata": {},
   "source": [
    "## Start the Dog Leg Loop\n",
    "### Starting Horizontal Walk\n",
    "#### To the right"
   ]
  },
  {
   "cell_type": "code",
   "execution_count": 20,
   "metadata": {},
   "outputs": [
    {
     "name": "stdout",
     "output_type": "stream",
     "text": [
      "Right Displacement\n"
     ]
    },
    {
     "ename": "AttributeError",
     "evalue": "'ModbusIOException' object has no attribute 'registers'",
     "output_type": "error",
     "traceback": [
      "\u001b[1;31m---------------------------------------------------------------------------\u001b[0m",
      "\u001b[1;31mAttributeError\u001b[0m                            Traceback (most recent call last)",
      "\u001b[1;32m<ipython-input-20-066c09082c90>\u001b[0m in \u001b[0;36m<module>\u001b[1;34m\u001b[0m\n\u001b[0;32m      1\u001b[0m \u001b[0mprint\u001b[0m\u001b[1;33m(\u001b[0m\u001b[1;34m\"Right Displacement\"\u001b[0m\u001b[1;33m)\u001b[0m\u001b[1;33m\u001b[0m\u001b[1;33m\u001b[0m\u001b[0m\n\u001b[0;32m      2\u001b[0m \u001b[1;33m\u001b[0m\u001b[0m\n\u001b[1;32m----> 3\u001b[1;33m \u001b[0mFull_Data_Set\u001b[0m\u001b[1;33m.\u001b[0m\u001b[0mappend\u001b[0m\u001b[1;33m(\u001b[0m\u001b[0mGather\u001b[0m\u001b[1;33m(\u001b[0m\u001b[0mClient\u001b[0m\u001b[1;33m,\u001b[0m \u001b[0mFull_Data_Set\u001b[0m\u001b[1;33m,\u001b[0m \u001b[0mTag_List\u001b[0m\u001b[1;33m,\u001b[0m \u001b[0mcount\u001b[0m \u001b[1;33m=\u001b[0m \u001b[0mcount\u001b[0m\u001b[1;33m,\u001b[0m \u001b[0msleep_time\u001b[0m \u001b[1;33m=\u001b[0m \u001b[0msleep_time\u001b[0m\u001b[1;33m)\u001b[0m\u001b[1;33m)\u001b[0m\u001b[1;33m\u001b[0m\u001b[1;33m\u001b[0m\u001b[0m\n\u001b[0m\u001b[0;32m      4\u001b[0m \u001b[1;33m\u001b[0m\u001b[0m\n\u001b[0;32m      5\u001b[0m \u001b[1;32mfor\u001b[0m \u001b[0mRight_Steps\u001b[0m \u001b[1;32min\u001b[0m \u001b[0mrange\u001b[0m\u001b[1;33m(\u001b[0m\u001b[1;36m1\u001b[0m\u001b[1;33m,\u001b[0m \u001b[0mRead_Steps\u001b[0m \u001b[1;33m+\u001b[0m \u001b[1;36m1\u001b[0m\u001b[1;33m)\u001b[0m\u001b[1;33m:\u001b[0m\u001b[1;33m\u001b[0m\u001b[1;33m\u001b[0m\u001b[0m\n",
      "\u001b[1;32m<ipython-input-16-e75d805fce81>\u001b[0m in \u001b[0;36mGather\u001b[1;34m(Client, beginning_list, tag_list, count, sleep_time)\u001b[0m\n\u001b[0;32m      7\u001b[0m     \u001b[0mtemp_list\u001b[0m \u001b[1;33m=\u001b[0m \u001b[1;33m[\u001b[0m\u001b[1;33m]\u001b[0m\u001b[1;33m\u001b[0m\u001b[1;33m\u001b[0m\u001b[0m\n\u001b[0;32m      8\u001b[0m     \u001b[1;32mfor\u001b[0m \u001b[0mtag\u001b[0m\u001b[1;33m,\u001b[0m \u001b[0mavg\u001b[0m \u001b[1;32min\u001b[0m \u001b[0mtag_list\u001b[0m\u001b[1;33m:\u001b[0m\u001b[1;33m\u001b[0m\u001b[1;33m\u001b[0m\u001b[0m\n\u001b[1;32m----> 9\u001b[1;33m         \u001b[0mtemp_list\u001b[0m\u001b[1;33m.\u001b[0m\u001b[0mappend\u001b[0m\u001b[1;33m(\u001b[0m\u001b[0mM\u001b[0m\u001b[1;33m.\u001b[0m\u001b[0mRead\u001b[0m\u001b[1;33m(\u001b[0m\u001b[0mClient\u001b[0m\u001b[1;33m,\u001b[0m \u001b[0mtag\u001b[0m\u001b[1;33m,\u001b[0m \u001b[0mAverage\u001b[0m \u001b[1;33m=\u001b[0m \u001b[0mavg\u001b[0m\u001b[1;33m,\u001b[0m \u001b[0mcount\u001b[0m \u001b[1;33m=\u001b[0m \u001b[0mcount\u001b[0m\u001b[1;33m,\u001b[0m \u001b[0msleep_time\u001b[0m \u001b[1;33m=\u001b[0m \u001b[0msleep_time\u001b[0m\u001b[1;33m)\u001b[0m\u001b[1;33m)\u001b[0m\u001b[1;33m\u001b[0m\u001b[1;33m\u001b[0m\u001b[0m\n\u001b[0m\u001b[0;32m     10\u001b[0m     \u001b[1;32mreturn\u001b[0m \u001b[0mtemp_list\u001b[0m\u001b[1;33m\u001b[0m\u001b[1;33m\u001b[0m\u001b[0m\n",
      "\u001b[1;32m~\\Desktop\\Niowave\\Python-PLC\\Dog Leg\\Master.py\u001b[0m in \u001b[0;36mRead\u001b[1;34m(Client, Tag_Number, Average, count, sleep_time, Bool)\u001b[0m\n\u001b[0;32m    140\u001b[0m         \u001b[1;32melse\u001b[0m\u001b[1;33m:\u001b[0m\u001b[1;33m\u001b[0m\u001b[1;33m\u001b[0m\u001b[0m\n\u001b[0;32m    141\u001b[0m             \u001b[0mPayload\u001b[0m \u001b[1;33m=\u001b[0m \u001b[0mClient\u001b[0m\u001b[1;33m.\u001b[0m\u001b[0mread_holding_registers\u001b[0m\u001b[1;33m(\u001b[0m\u001b[0mTag_Number\u001b[0m\u001b[1;33m,\u001b[0m\u001b[1;36m2\u001b[0m\u001b[1;33m,\u001b[0m\u001b[0munit\u001b[0m\u001b[1;33m=\u001b[0m\u001b[1;36m1\u001b[0m\u001b[1;33m)\u001b[0m\u001b[1;33m\u001b[0m\u001b[1;33m\u001b[0m\u001b[0m\n\u001b[1;32m--> 142\u001b[1;33m             \u001b[0mTag_Value_Bit\u001b[0m \u001b[1;33m=\u001b[0m \u001b[0mBinaryPayloadDecoder\u001b[0m\u001b[1;33m.\u001b[0m\u001b[0mfromRegisters\u001b[0m\u001b[1;33m(\u001b[0m\u001b[0mPayload\u001b[0m\u001b[1;33m.\u001b[0m\u001b[0mregisters\u001b[0m\u001b[1;33m,\u001b[0m \u001b[0mbyteorder\u001b[0m\u001b[1;33m=\u001b[0m\u001b[0mEndian\u001b[0m\u001b[1;33m.\u001b[0m\u001b[0mBig\u001b[0m\u001b[1;33m,\u001b[0m \u001b[0mwordorder\u001b[0m\u001b[1;33m=\u001b[0m\u001b[0mEndian\u001b[0m\u001b[1;33m.\u001b[0m\u001b[0mBig\u001b[0m\u001b[1;33m)\u001b[0m\u001b[1;33m\u001b[0m\u001b[1;33m\u001b[0m\u001b[0m\n\u001b[0m\u001b[0;32m    143\u001b[0m             \u001b[0mTag_Value\u001b[0m \u001b[1;33m=\u001b[0m \u001b[0mTag_Value_Bit\u001b[0m\u001b[1;33m.\u001b[0m\u001b[0mdecode_32bit_float\u001b[0m\u001b[1;33m(\u001b[0m\u001b[1;33m)\u001b[0m\u001b[1;33m\u001b[0m\u001b[1;33m\u001b[0m\u001b[0m\n\u001b[0;32m    144\u001b[0m             \u001b[1;32mreturn\u001b[0m \u001b[0mTag_Value\u001b[0m\u001b[1;33m\u001b[0m\u001b[1;33m\u001b[0m\u001b[0m\n",
      "\u001b[1;31mAttributeError\u001b[0m: 'ModbusIOException' object has no attribute 'registers'"
     ]
    }
   ],
   "source": [
    "print(\"Right Displacement\")\n",
    "\n",
    "Full_Data_Set.append(M.Gather(Client, Full_Data_Set, Tag_List, count = count, sleep_time = sleep_time))\n",
    "\n",
    "for Right_Steps in range(1, Read_Steps + 1):\n",
    "    if Right_Steps != 1: #Don't check on the first run due to absence of Window Frame write values\n",
    "        #Comparing the current value to the last write value, if it is different, this updates the break loop for both Horizontal and Vertical\n",
    "        if abs(M.Read(Client,WF6H_Tag) - WF6H_Write_Value) or abs(M.Read(Client,WF7H_Tag) - WF7H_Write_Value) >= 0.001: #WF6H Check\n",
    "            H_Broken = V_Broken = True\n",
    "            print(\"Loop Broken\")\n",
    "            #break   \n",
    "            \n",
    "    WF6H_Write_Value = WF6H_Start + (Delta_6/Read_Steps)*Right_Steps #Calculated value to walk 6 to the right\n",
    "    WF7H_Write_Value = WF7H_Start - (Delta_7/Read_Steps)*Right_Steps #Calculated value to walk 7 to the left\n",
    "    \n",
    "    M.Write(Client, WF6H_Tag, WF6H_Write_Value) #Writing to 6h\n",
    "    M.Write(Client, WF7H_Tag, WF7H_Write_Value) #Writing to 7h\n",
    "    \n",
    "    a = time.time()\n",
    "    Full_Data_Set.append(M.Gather(Client, Full_Data_Set, Tag_List, count = count, sleep_time = sleep_time))\n",
    "    print(time.time()-a) \n",
    "    if abs(Full_Data_Set[-1][5] + Full_Data_Set[-1][6]) < abs(Threshold_Percent*Start_Current*.01): #Checking our threshold\n",
    "        break\n",
    "print(\"Moving to center\")\n",
    "\n",
    "M.Ramp_Two(Client, WF6H_Tag, WF7H_Tag, Magnet_1_Stop = WF6H_Start, Magnet_2_Stop = WF7H_Start, Resolution = Right_Steps//2, sleep_time = sleep_time) #Moves back to the start in hald of the same # of steps taken"
   ]
  },
  {
   "cell_type": "markdown",
   "metadata": {},
   "source": [
    "#### To the left"
   ]
  },
  {
   "cell_type": "code",
   "execution_count": 7,
   "metadata": {},
   "outputs": [
    {
     "name": "stdout",
     "output_type": "stream",
     "text": [
      "Left Displacement\n",
      "Moving to center\n"
     ]
    }
   ],
   "source": [
    "print(\"Left Displacement\")\n",
    "\n",
    "Full_Data_Set.append(M.Gather(Client, Full_Data_Set, Tag_List, count = count, sleep_time = sleep_time))\n",
    "\n",
    "for Left_Steps in range(1, Read_Steps + 1):\n",
    "    if H_Broken or V_Broken == True:\n",
    "        break\n",
    "    if Left_Steps != 1: #Don't check on the first run due to absence of Window Frame write values\n",
    "        #Comparing the current value to the last write value, if it is different, this updates the break loop for both Horizontal and Vertical\n",
    "        if abs(M.Read(Client,WF6H_Tag) - WF6H_Write_Value) or abs(M.Read(Client,WF7H_Tag) - WF7H_Write_Value) >= 0.001: #WF6H Check\n",
    "            H_Broken = V_Broken = True\n",
    "            print(\"Loop Broken\")\n",
    "            #break\n",
    "            \n",
    "    WF6H_Write_Value = WF6H_Start - (Delta_6/Read_Steps)*Left_Steps\n",
    "    WF7H_Write_Value = WF7H_Start + (Delta_7/Read_Steps)*Left_Steps\n",
    "    \n",
    "    M.Write(Client, WF6H_Tag, WF6H_Write_Value)\n",
    "    M.Write(Client, WF7H_Tag, WF7H_Write_Value)\n",
    "    \n",
    "    Full_Data_Set.append(M.Gather(Client, Full_Data_Set, Tag_List, count = count, sleep_time = sleep_time))\n",
    "    \n",
    "    if abs(Full_Data_Set[-1][5] + Full_Data_Set[-1][6]) < abs(Threshold_Percent*Start_Current*.01): #Checking our threshold\n",
    "        break\n",
    "        \n",
    "print(\"Moving to center\")\n",
    "\n",
    "M.Ramp_Two(Client, WF6H_Tag, WF7H_Tag, Magnet_1_Stop = WF6H_Start, Magnet_2_Stop = WF7H_Start, Resolution = Left_Steps//2, sleep_time = sleep_time)"
   ]
  },
  {
   "cell_type": "markdown",
   "metadata": {},
   "source": [
    "### Starting the vertical walk\n",
    "#### Upward"
   ]
  },
  {
   "cell_type": "code",
   "execution_count": 8,
   "metadata": {},
   "outputs": [
    {
     "name": "stdout",
     "output_type": "stream",
     "text": [
      "Upward Displacement\n",
      "Moving to center\n"
     ]
    }
   ],
   "source": [
    "print(\"Upward Displacement\")\n",
    "\n",
    "Full_Data_Set.append(M.Gather(Client, Full_Data_Set, Tag_List, count = count, sleep_time = sleep_time))\n",
    "\n",
    "for Upward_Steps in range(1, Read_Steps + 1):\n",
    "    if H_Broken or V_Broken == True:\n",
    "        break\n",
    "    if Upward_Steps != 1: #Don't check on the first run due to absence of Window Frame write values\n",
    "        #Comparing the current value to the last write value, if it is different, this updates the break loop for both Horizontal and Vertical\n",
    "        if abs(M.Read(Client,WF6H_Tag) - WF6H_Write_Value) or abs(M.Read(Client,WF7H_Tag) - WF7H_Write_Value) >= 0.001: #WF6H Check\n",
    "            H_Broken = V_Broken = True\n",
    "            print(\"Loop Broken\")\n",
    "            #break\n",
    "            \n",
    "    WF6V_Write_Value = WF6V_Start + (Delta_6/Read_Steps)*Upward_Steps\n",
    "    WF7V_Write_Value = WF7V_Start - (Delta_7/Read_Steps)*Upward_Steps\n",
    "    \n",
    "    M.Write(Client, WF6V_Tag, WF6V_Write_Value)\n",
    "    M.Write(Client, WF7V_Tag, WF7V_Write_Value)\n",
    "    \n",
    "    Full_Data_Set.append(M.Gather(Client, Full_Data_Set, Tag_List, count = count, sleep_time = sleep_time))\n",
    "    \n",
    "    if abs(Full_Data_Set[-1][5] + Full_Data_Set[-1][6]) < abs(Threshold_Percent*Start_Current*.01): #Checking our threshold\n",
    "        break\n",
    "\n",
    "print(\"Moving to center\")\n",
    "\n",
    "M.Ramp_Two(Client, WF6V_Tag, WF7V_Tag, Magnet_1_Stop = WF6V_Start, Magnet_2_Stop = WF7V_Start, Resolution = Upward_Steps//2, sleep_time = sleep_time)"
   ]
  },
  {
   "cell_type": "markdown",
   "metadata": {},
   "source": [
    "#### Downward"
   ]
  },
  {
   "cell_type": "code",
   "execution_count": 9,
   "metadata": {},
   "outputs": [
    {
     "name": "stdout",
     "output_type": "stream",
     "text": [
      "Downward Displacement\n",
      "Moving to center\n"
     ]
    }
   ],
   "source": [
    "print(\"Downward Displacement\")\n",
    "\n",
    "Full_Data_Set.append(M.Gather(Client, Full_Data_Set, Tag_List, count = count, sleep_time = sleep_time))\n",
    "\n",
    "for Downward_Steps in range(1, Read_Steps + 1):\n",
    "    if H_Broken or V_Broken == True:\n",
    "        break\n",
    "    if Downward_Steps != 1: #Don't check on the first run due to absence of Window Frame write values\n",
    "        #Comparing the current value to the last write value, if it is different, this updates the break loop for both Horizontal and Vertical\n",
    "        if abs(M.Read(Client,WF6H_Tag) - WF6H_Write_Value) or abs(M.Read(Client,WF7H_Tag) - WF7H_Write_Value) >= 0.001: #WF6H Check\n",
    "            H_Broken = V_Broken = True\n",
    "            print(\"Loop Broken\")\n",
    "            #break\n",
    "            \n",
    "    WF6V_Write_Value = WF6V_Start - (Delta_6/Read_Steps)*Downward_Steps\n",
    "    WF7V_Write_Value = WF7V_Start + (Delta_7/Read_Steps)*Downward_Steps\n",
    "    \n",
    "    M.Write(Client, WF6V_Tag, WF6V_Write_Value)\n",
    "    M.Write(Client, WF7V_Tag, WF7V_Write_Value)\n",
    "    \n",
    "    Full_Data_Set.append(M.Gather(Client, Full_Data_Set, Tag_List, count = count, sleep_time = sleep_time))\n",
    "    \n",
    "    if abs(Full_Data_Set[-1][5] + Full_Data_Set[-1][6]) < abs(Threshold_Percent*Start_Current*.01): #Checking our threshold\n",
    "        break\n",
    "\n",
    "print(\"Moving to center\")\n",
    "\n",
    "M.Ramp_Two(Client, WF6V_Tag, WF7V_Tag, Magnet_1_Stop = WF6V_Start, Magnet_2_Stop = WF7V_Start, Resolution = Downward_Steps//2, sleep_time = sleep_time)"
   ]
  },
  {
   "cell_type": "markdown",
   "metadata": {},
   "source": [
    "### Saving and Plotting\n",
    "#### Saving"
   ]
  },
  {
   "cell_type": "code",
   "execution_count": 10,
   "metadata": {},
   "outputs": [],
   "source": [
    "now = datetime.today().strftime('%y%m%d_%H%M') #Taking the current time in YYMMDD_HHmm format to save the plot and the txt file\n",
    "\n",
    "\n",
    "with open(now + \".txt\",'w') as f: #Opening a file with the current date and time\n",
    "    f.write(\"EC_Setpoint: {:.4f}, EC_Read: {:.4f}, IR_Temp: {:.4f}, VA_Temp: {:.4f}\".format(Emission_Setpoint, Emission_Actual, \\\n",
    "                                                    IR_Temp, VA_Temp) + '\\n')\n",
    "    f.write(\"V0_Set: {:.4f}, V0_Read {:.4f}, Pulse_Bool: {:.4f}, Rise_Threshold: {:.4f}\".format(V0_Setpoint, V0_Read, \\\n",
    "                                                    Pulsing_Status, Threshold_Percent) + '\\n')\n",
    "    \n",
    "    f.write(\"Cathode Voltage: {:.4f}, Cathode Current: {:.4f}, Cathode Impedance: {:.4f}, Cathode Power: {:.4f}\".format(Cathode_V, Cathode_I, \\\n",
    "                                                    Cathode_Z, Cathode_P) + '\\n')\n",
    "    f.write(\"Cu Gun Pf: {:.4f}, Cu Gun Pr: {:.4f}, Cu Gun Pt: {:.4f}, Cu Gun V: {:.4f}\".format(CU_Gun_Pf, CU_Gun_Pr, \\\n",
    "                                                    CU_Gun_Pt, CU_Gun_V) + '\\n')\n",
    "    f.write(\"BH Pf: {:.4f}, BH Pr: {:.4f}, BH Pt: {:.4f}, Pulse Frequency: {:.4f}\".format(BH_Gun_Pf, BH_Gun_Pr, \\\n",
    "                                                    BH_Gun_Pt, Pulse_Freq) + '\\n')\n",
    "    f.write(\"SRF Pf: {:.4f}, SRF Pr: {:.4f}, SRF Pt: {:.4f}, Pulse Duty: {:.4f}\".format(SRF_Pf, SRF_Pr, \\\n",
    "                                                    SRF_Pt, Pulse_Duty) + '\\n')\n",
    "    f.write(\"WF6H (A), WF7H(A), WF6V(A), WF7V(A), Avg'd Emitted Current(mA), Avg'd Loop Mid(mA), Avg'd Loop Bypass(mA), \")\n",
    "    f.write(\"Cu Gun (kV), SRF Pt (dBm)\" + '\\n')\n",
    "    for line in Full_Data_Set:\n",
    "        f.write(str(line).strip(\"([])\")+'\\n') #Writing each line in that file\n",
    "    f.close() #Closing the file to save it"
   ]
  },
  {
   "cell_type": "markdown",
   "metadata": {},
   "source": [
    "#### Plotting"
   ]
  },
  {
   "cell_type": "code",
   "execution_count": 11,
   "metadata": {},
   "outputs": [
    {
     "name": "stdout",
     "output_type": "stream",
     "text": [
      "This took 88.3 Seconds to run\n"
     ]
    },
    {
     "data": {
      "image/png": "[encoded data removed]",
      "text/plain": [
       "<Figure size 648x648 with 3 Axes>"
      ]
     },
     "metadata": {
      "needs_background": "light"
     },
     "output_type": "display_data"
    }
   ],
   "source": [
    "Full_Data_Array = np.array(Full_Data_Set) #Converting from a list to an array\n",
    "\n",
    "Horizontal_6 = Full_Data_Array[:(Right_Steps + 2 + Left_Steps),0] #Defining the steps on in the horizontal\n",
    "Horizontal_7 = Full_Data_Array[:(Right_Steps + 2 + Left_Steps),1]\n",
    "\n",
    "Vertical_6 = Full_Data_Array[(Right_Steps + 2 + Left_Steps):,2] #Defining the steps only in the Vertical\n",
    "Vertical_7 = Full_Data_Array[(Right_Steps + 2 + Left_Steps):,3]\n",
    "Dump_1 = Full_Data_Array[:,4] #Dump 1 all values\n",
    "Dump_2 = Full_Data_Array[:,5] #Dump 2 all values\n",
    "Emitted_Current = Full_Data_Array[:,6] #Emitted current all values\n",
    "Dump_Sum = Dump_1 + Dump_2 #All dump values\n",
    "\n",
    "### Plotting\n",
    "\n",
    "def convert_to_mms(locs): #Converting the xlabels to mm\n",
    "    new_list = []\n",
    "    for i in locs:\n",
    "        new_list.append(round(i/.384*12,2)) #Our conversion formula\n",
    "    return new_list\n",
    "\n",
    "def Delta6_7(locs): #Converting the 6 values to the same displacement in 7\n",
    "    new_list = []\n",
    "    for i in locs:\n",
    "        new_list.append(round(i/.384*.228,2))\n",
    "    return new_list\n",
    "\n",
    "#Dump Sum into percent from start\n",
    "Horizontal_Percent = Dump_Sum[:(Right_Steps + 2 + Left_Steps)]/Emitted_Current[:(Right_Steps + 2 + Left_Steps)]*100 #Defining the percents\n",
    "Vertical_Percent = Dump_Sum[(Right_Steps + 2 + Left_Steps):]/Emitted_Current[(Right_Steps + 2 + Left_Steps):]*100\n",
    "\n",
    "#FWHM of all of our data\n",
    "Horizontal_Above, Horizontal_Below, H_Width, Center_Value_6H, H_Goodsum, H_Badsum = M.FWHM(Horizontal_6, Horizontal_Percent, extras = True) #FWHM Calclations\n",
    "Vertical_Above, Vertical_Below, V_Width, Center_Value_6V, V_Goodsum, V_Badsum = M.FWHM(Vertical_6, Vertical_Percent, extras = True)\n",
    "_,_1,_2,Center_Value_7H,_3, _4 = M.FWHM(Horizontal_7, Horizontal_Percent, extras = True)\n",
    "_,_1,_2,Center_Value_7V,_3, _4 = M.FWHM(Vertical_7, Vertical_Percent, extras = True)\n",
    "\n",
    "\n",
    "#Plotting\n",
    "plt.figure(figsize = (9,9)) #Changing the figure to be larger\n",
    "\n",
    "ax1 = plt.subplot(1,1,1)\n",
    "ax1.scatter(Horizontal_6 - Horizontal_6[0], Horizontal_Above, label = 'Horizontal above FWHM',color = 'C0', alpha = 0.75) #Plotting 6H Above FWHM\n",
    "ax1.scatter(Horizontal_6 - Horizontal_6[0], Horizontal_Below, label = 'Horizontal below FWHM', color = 'C0', alpha = 0.5, marker = '.') #Plotting 6H below FWHM\n",
    "ax1.scatter(Vertical_6 - Vertical_6[0], Vertical_Above, label = 'Vertical above FWHM', color = 'C1', alpha = 0.75) #Plotting 6V above FWHM\n",
    "ax1.scatter(Vertical_6 - Vertical_6[0], Vertical_Below, label = 'Vertical below FWHM', color = 'C1', alpha = 0.5, marker = '.') #plotting 6V Below FWHM\n",
    "ax1.set_xlabel(\"Displacement WF6 (Amps)\", fontsize = 12) #Setting xlabel\n",
    "ax1.set_ylabel(\"Collection from start (%); ({0:.2f}\\u03BCA) collected at start\".format(1000*abs(min(Dump_Sum))), fontsize = 12) #Making the y axis label\n",
    "ax1.set_title(\"Dog Leg Taken at \" + now, fontsize = 16) #Making the title \n",
    "ax1.legend(bbox_to_anchor = (0.5,0.27), loc = 'upper center') #Adding the legend and placing it in the bottom center of the plot\n",
    "\n",
    "ax1.minorticks_on() #Turning on the minor axis\n",
    "ax1.grid(True,alpha = 0.25,which = 'both',color = 'gray') #Making the grid (and making it more in the background)\n",
    "\n",
    "locs = ax1.get_xticks() #Grabbing the xticks from that axis\n",
    "\n",
    "ax2 = ax1.twiny() #Copying axis\n",
    "\n",
    "ax2.set_xticks(locs) #Setting xticks to same position\n",
    "ax2.set_xticklabels(convert_to_mms(locs)) #Converting to mm\n",
    "ax2.xaxis.set_ticks_position('top') # set the position of the second x-axis to top\n",
    "ax2.xaxis.set_label_position('top') # set the position of the second x-axis to top\n",
    "ax2.spines['top'].set_position(('outward', 0)) #Setting the ticks to go out of graph area\n",
    "ax2.set_xlabel('Displacement (mm)', fontsize = 12) #Label\n",
    "ax2.set_xlim(ax1.get_xlim()) #Setting to the same limit as prior axis\n",
    "\n",
    "ax3 = ax1.twiny() #Repeat for axis 3\n",
    "\n",
    "ax3.set_xticks(locs)\n",
    "ax3.set_xticklabels(Delta6_7(locs))\n",
    "ax3.xaxis.set_ticks_position('bottom') # set the position of the second x-axis to bottom\n",
    "ax3.xaxis.set_label_position('bottom') # set the position of the second x-axis to bottom\n",
    "ax3.spines['bottom'].set_position(('outward', 40))\n",
    "ax3.set_xlabel('Displacement WF7(Amps)', fontsize = 12)\n",
    "ax3.set_xlim(ax1.get_xlim())\n",
    "\n",
    "col_labels = ['WF6 Start (A)','WF7 Start (A)','FWHM', 'Center (6,7) (A)', 'Sum Above', 'Sum Below'] #Making the table column names\n",
    "row_labels = ['Horizontal','Vertical','Params'] #making the table row names\n",
    "table_vals = [[round(WF6H_Start,3), round(WF7H_Start,3), round(H_Width,3), \"{:.3f}; {:.3f}\".format(Center_Value_6H, Center_Value_7H), round(H_Goodsum,1), round(H_Badsum,1)],\n",
    "              [round(WF6V_Start,3) , round(WF7V_Start,3), round(V_Width,3), \"{:.3f}; {:.3f}\".format(Center_Value_6V, Center_Value_7V) , round(V_Goodsum,1), round(V_Badsum,1)],\n",
    "              [\"Threshold %: {:.0f}\".format(Threshold_Percent),\"Zoom: {:.2f}\".format(Zoom_In_Factor),\"Scale: {:.2f}\".format(Scale_Factor),\n",
    "               \"# H Steps: {:.0f}\".format(Right_Steps + 2 + Left_Steps),\"# V Steps: {:.0f}\".format(Upward_Steps + 2 + Downward_Steps), \"EC (mA): {:.3f}\".format(EC)]] #Setting values\n",
    "\n",
    "the_table = plt.table(cellText=table_vals, #Putting the table onto the plot\n",
    "                  colWidths = [0.13]*6,\n",
    "                  rowLabels=row_labels,\n",
    "                  colLabels=col_labels,\n",
    "                  loc='lower center', zorder = 1) #Putting in the center and in front of all else\n",
    "\n",
    "plt.gca().set_ylim(bottom=-2) #Making sure the plot always goes below 0 in the y axis\n",
    "\n",
    "plt.tight_layout() #configuring plot to not cut off extraneous objects like title and x axes\n",
    "\n",
    "plt.savefig(now + \"_graph.svg\",transparent = True) #Saving the figure to a plot\n",
    "\n",
    "if Move_To_Optimum == True: #If the option to move to the optimum is true, then move the magnets there\n",
    "    print(\"Moving to optimum for 6 and 7\")\n",
    "    M.Ramp_Two(Client, WF6H_Tag, WF6V_Tag, Magnet_1_Stop = Center_Value_6H, Magnet_2_Stop = Center_Value_6V, Resolution = Read_Steps, sleep_time = .100)\n",
    "    M.Ramp_Two(Client, WF7H_Tag, WF7V_Tag, Magnet_1_Stop = Center_Value_7H, Magnet_2_Stop = Center_Value_7V, Resolution = Read_Steps, sleep_time = .100)\n",
    "\n",
    "\n",
    "print(\"This took {0:.1f} Seconds to run\".format(time.time() - start_time)) #Printing the amount of time the dog leg took\n",
    "\n",
    "plt.show()"
   ]
  },
  {
   "cell_type": "code",
   "execution_count": 60,
   "metadata": {},
   "outputs": [
    {
     "name": "stdout",
     "output_type": "stream",
     "text": [
      "62304\n",
      "62.304\n"
     ]
    }
   ],
   "source": [
    "import re\n",
    "string = \"WF6H(A): 2.304\"\n",
    "print(\"\".join(filter(str.isdigit, string)))\n",
    "print(re.compile(r'[^\\d.]+').sub('',string))"
   ]
  },
  {
   "cell_type": "code",
   "execution_count": null,
   "metadata": {},
   "outputs": [],
   "source": []
  }
 ],
 "metadata": {
  "kernelspec": {
   "display_name": "Python 3",
   "language": "python",
   "name": "python3"
  },
  "language_info": {
   "codemirror_mode": {
    "name": "ipython",
    "version": 3
   },
   "file_extension": ".py",
   "mimetype": "text/x-python",
   "name": "python",
   "nbconvert_exporter": "python",
   "pygments_lexer": "ipython3",
   "version": "3.8.1"
  }
 },
 "nbformat": 4,
 "nbformat_minor": 4
}
