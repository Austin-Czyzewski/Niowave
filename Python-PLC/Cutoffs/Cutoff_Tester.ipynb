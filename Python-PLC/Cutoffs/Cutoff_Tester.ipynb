{
 "cells": [
  {
   "cell_type": "code",
   "execution_count": 1,
   "metadata": {},
   "outputs": [],
   "source": [
    "import Master as M\n",
    "import Tag_Database as Tags\n",
    "import time"
   ]
  },
  {
   "cell_type": "code",
   "execution_count": 2,
   "metadata": {},
   "outputs": [
    {
     "name": "stdout",
     "output_type": "stream",
     "text": [
      "3.305405616760254\n",
      "3.305405616760254\n",
      "3.305405616760254\n",
      "3.305405616760254\n",
      "3.305405616760254\n",
      "3.305405616760254\n",
      "3.295405626296997\n",
      "3.295405626296997\n",
      "3.295405626296997\n",
      "3.295405626296997\n"
     ]
    }
   ],
   "source": [
    "Client = M.Make_Client('10.50.0.10')\n",
    "for i in range(10):\n",
    "    SP_Val = M.Read(Client, Tags.V0_SP)\n",
    "    print(SP_Val)\n"
   ]
  },
  {
   "cell_type": "code",
   "execution_count": 4,
   "metadata": {},
   "outputs": [
    {
     "name": "stdin",
     "output_type": "stream",
     "text": [
      "V0 Setpoint 1   1\n",
      "V0 Setpoint 2   1\n",
      "V0 Setpoint 3   1\n",
      "V0 Setpoint 4   1\n"
     ]
    },
    {
     "name": "stdout",
     "output_type": "stream",
     "text": [
      "[[2126.885498046875, 442.1307373046875, 5.800483226776123, 110.24210357666016, 100.16779327392578, 1.2134078741073608, 1.2576297521591187, 3.2953391075134277, 3.295405626296997, 3.2950339317321777, 4.0782614973977616e-07, 1698.48974609375, 1597.2083740234375, 2.115830421447754, 1700.0, 0.0, 2.355659246444702, 1.7344855070114136, 1.3578840494155884, 4.081391334533691]]\n",
      "[[2126.885498046875, 442.1307373046875, 5.800483226776123, 110.24210357666016, 100.16779327392578, 1.2134078741073608, 1.2576297521591187, 3.2953391075134277, 3.295405626296997, 3.2950339317321777, 4.0782614973977616e-07, 1698.48974609375, 1597.2083740234375, 2.115830421447754, 1700.0, 0.0, 2.355659246444702, 1.7344855070114136, 1.3578840494155884, 4.081391334533691], [2127.791015625, 441.646484375, 5.794125080108643, 109.47813415527344, 100.06101989746094, 1.2167598009109497, 1.2512716054916382, 3.320974111557007, 3.295405626296997, 3.2858784198760986, 4.152877011165401e-07, 1706.3544921875, 1595.1357421875, 2.1099472045898438, 1700.0, 0.0, 2.3410677909851074, 1.7226524353027344, 1.351906418800354, 4.012369632720947]]\n",
      "[[2126.885498046875, 442.1307373046875, 5.800483226776123, 110.24210357666016, 100.16779327392578, 1.2134078741073608, 1.2576297521591187, 3.2953391075134277, 3.295405626296997, 3.2950339317321777, 4.0782614973977616e-07, 1698.48974609375, 1597.2083740234375, 2.115830421447754, 1700.0, 0.0, 2.355659246444702, 1.7344855070114136, 1.3578840494155884, 4.081391334533691], [2127.791015625, 441.646484375, 5.794125080108643, 109.47813415527344, 100.06101989746094, 1.2167598009109497, 1.2512716054916382, 3.320974111557007, 3.295405626296997, 3.2858784198760986, 4.152877011165401e-07, 1706.3544921875, 1595.1357421875, 2.1099472045898438, 1700.0, 0.0, 2.3410677909851074, 1.7226524353027344, 1.351906418800354, 4.012369632720947], [2129.90380859375, 417.43341064453125, 5.787766933441162, 110.04054260253906, 100.04576110839844, 1.2100558280944824, 1.2512716054916382, 3.2834370136260986, 3.295405626296997, 3.2880148887634277, 4.1933441252695047e-07, 1700.1309814453125, 1590.65185546875, 2.0879931449890137, 1700.0, 0.0, 2.332914113998413, 1.7144043445587158, 1.360379695892334, 4.002601623535156]]\n",
      "[[2126.885498046875, 442.1307373046875, 5.800483226776123, 110.24210357666016, 100.16779327392578, 1.2134078741073608, 1.2576297521591187, 3.2953391075134277, 3.295405626296997, 3.2950339317321777, 4.0782614973977616e-07, 1698.48974609375, 1597.2083740234375, 2.115830421447754, 1700.0, 0.0, 2.355659246444702, 1.7344855070114136, 1.3578840494155884, 4.081391334533691], [2127.791015625, 441.646484375, 5.794125080108643, 109.47813415527344, 100.06101989746094, 1.2167598009109497, 1.2512716054916382, 3.320974111557007, 3.295405626296997, 3.2858784198760986, 4.152877011165401e-07, 1706.3544921875, 1595.1357421875, 2.1099472045898438, 1700.0, 0.0, 2.3410677909851074, 1.7226524353027344, 1.351906418800354, 4.012369632720947], [2129.90380859375, 417.43341064453125, 5.787766933441162, 110.04054260253906, 100.04576110839844, 1.2100558280944824, 1.2512716054916382, 3.2834370136260986, 3.295405626296997, 3.2880148887634277, 4.1933441252695047e-07, 1700.1309814453125, 1590.65185546875, 2.0879931449890137, 1700.0, 0.0, 2.332914113998413, 1.7144043445587158, 1.360379695892334, 4.002601623535156], [2130.507568359375, 434.382568359375, 5.768692970275879, 109.75897979736328, 99.95384979248047, 1.2050279378890991, 1.2512716054916382, 3.2953391075134277, 3.295405626296997, 3.2690935134887695, 4.196881491225213e-07, 1703.5164794921875, 1592.095947265625, 2.085205078125, 1700.0, 0.0, 2.316176652908325, 1.7065155506134033, 1.3573970794677734, 3.955420732498169]]\n"
     ]
    },
    {
     "ename": "AttributeError",
     "evalue": "'ModbusIOException' object has no attribute 'registers'",
     "output_type": "error",
     "traceback": [
      "\u001b[1;31m---------------------------------------------------------------------------\u001b[0m",
      "\u001b[1;31mAttributeError\u001b[0m                            Traceback (most recent call last)",
      "\u001b[1;32m<ipython-input-4-8af56a045fc8>\u001b[0m in \u001b[0;36m<module>\u001b[1;34m\u001b[0m\n\u001b[0;32m     25\u001b[0m     \u001b[0mM\u001b[0m\u001b[1;33m.\u001b[0m\u001b[0mRead\u001b[0m\u001b[1;33m(\u001b[0m\u001b[0mClient\u001b[0m\u001b[1;33m,\u001b[0m \u001b[0mTags\u001b[0m\u001b[1;33m.\u001b[0m\u001b[0mWF1H\u001b[0m\u001b[1;33m)\u001b[0m\u001b[1;33m\u001b[0m\u001b[1;33m\u001b[0m\u001b[0m\n\u001b[0;32m     26\u001b[0m     \u001b[0mtime\u001b[0m\u001b[1;33m.\u001b[0m\u001b[0msleep\u001b[0m\u001b[1;33m(\u001b[0m\u001b[1;36m0.01\u001b[0m\u001b[1;33m)\u001b[0m\u001b[1;33m\u001b[0m\u001b[1;33m\u001b[0m\u001b[0m\n\u001b[1;32m---> 27\u001b[1;33m     \u001b[0mFull_Data_Set\u001b[0m\u001b[1;33m.\u001b[0m\u001b[0mappend\u001b[0m\u001b[1;33m(\u001b[0m\u001b[0mM\u001b[0m\u001b[1;33m.\u001b[0m\u001b[0mGather\u001b[0m\u001b[1;33m(\u001b[0m\u001b[0mClient\u001b[0m\u001b[1;33m,\u001b[0m \u001b[0mTag_List\u001b[0m\u001b[1;33m)\u001b[0m\u001b[1;33m)\u001b[0m\u001b[1;33m\u001b[0m\u001b[1;33m\u001b[0m\u001b[0m\n\u001b[0m\u001b[0;32m     28\u001b[0m     \u001b[0mprint\u001b[0m\u001b[1;33m(\u001b[0m\u001b[0mFull_Data_Set\u001b[0m\u001b[1;33m)\u001b[0m\u001b[1;33m\u001b[0m\u001b[1;33m\u001b[0m\u001b[0m\n\u001b[0;32m     29\u001b[0m \u001b[1;33m\u001b[0m\u001b[0m\n",
      "\u001b[1;32m~\\Desktop\\Niowave\\Python-PLC\\Cutoffs\\Master.py\u001b[0m in \u001b[0;36mGather\u001b[1;34m(Client, tag_list, count, sleep_time)\u001b[0m\n\u001b[0;32m    174\u001b[0m \u001b[1;33m\u001b[0m\u001b[0m\n\u001b[0;32m    175\u001b[0m         \u001b[1;32mfor\u001b[0m \u001b[0mf\u001b[0m \u001b[1;32min\u001b[0m \u001b[0mresults\u001b[0m\u001b[1;33m:\u001b[0m\u001b[1;33m\u001b[0m\u001b[1;33m\u001b[0m\u001b[0m\n\u001b[1;32m--> 176\u001b[1;33m             \u001b[0mtemp_list\u001b[0m\u001b[1;33m.\u001b[0m\u001b[0mappend\u001b[0m\u001b[1;33m(\u001b[0m\u001b[0mf\u001b[0m\u001b[1;33m.\u001b[0m\u001b[0mresult\u001b[0m\u001b[1;33m(\u001b[0m\u001b[1;33m)\u001b[0m\u001b[1;33m)\u001b[0m\u001b[1;33m\u001b[0m\u001b[1;33m\u001b[0m\u001b[0m\n\u001b[0m\u001b[0;32m    177\u001b[0m \u001b[1;33m\u001b[0m\u001b[0m\n\u001b[0;32m    178\u001b[0m     \u001b[1;32mreturn\u001b[0m \u001b[0mtemp_list\u001b[0m\u001b[1;33m\u001b[0m\u001b[1;33m\u001b[0m\u001b[0m\n",
      "\u001b[1;32mc:\\users\\aczyzewski\\appdata\\local\\programs\\python\\python38-32\\lib\\concurrent\\futures\\_base.py\u001b[0m in \u001b[0;36mresult\u001b[1;34m(self, timeout)\u001b[0m\n\u001b[0;32m    437\u001b[0m                 \u001b[1;32mraise\u001b[0m \u001b[0mCancelledError\u001b[0m\u001b[1;33m(\u001b[0m\u001b[1;33m)\u001b[0m\u001b[1;33m\u001b[0m\u001b[1;33m\u001b[0m\u001b[0m\n\u001b[0;32m    438\u001b[0m             \u001b[1;32melif\u001b[0m \u001b[0mself\u001b[0m\u001b[1;33m.\u001b[0m\u001b[0m_state\u001b[0m \u001b[1;33m==\u001b[0m \u001b[0mFINISHED\u001b[0m\u001b[1;33m:\u001b[0m\u001b[1;33m\u001b[0m\u001b[1;33m\u001b[0m\u001b[0m\n\u001b[1;32m--> 439\u001b[1;33m                 \u001b[1;32mreturn\u001b[0m \u001b[0mself\u001b[0m\u001b[1;33m.\u001b[0m\u001b[0m__get_result\u001b[0m\u001b[1;33m(\u001b[0m\u001b[1;33m)\u001b[0m\u001b[1;33m\u001b[0m\u001b[1;33m\u001b[0m\u001b[0m\n\u001b[0m\u001b[0;32m    440\u001b[0m             \u001b[1;32melse\u001b[0m\u001b[1;33m:\u001b[0m\u001b[1;33m\u001b[0m\u001b[1;33m\u001b[0m\u001b[0m\n\u001b[0;32m    441\u001b[0m                 \u001b[1;32mraise\u001b[0m \u001b[0mTimeoutError\u001b[0m\u001b[1;33m(\u001b[0m\u001b[1;33m)\u001b[0m\u001b[1;33m\u001b[0m\u001b[1;33m\u001b[0m\u001b[0m\n",
      "\u001b[1;32mc:\\users\\aczyzewski\\appdata\\local\\programs\\python\\python38-32\\lib\\concurrent\\futures\\_base.py\u001b[0m in \u001b[0;36m__get_result\u001b[1;34m(self)\u001b[0m\n\u001b[0;32m    386\u001b[0m     \u001b[1;32mdef\u001b[0m \u001b[0m__get_result\u001b[0m\u001b[1;33m(\u001b[0m\u001b[0mself\u001b[0m\u001b[1;33m)\u001b[0m\u001b[1;33m:\u001b[0m\u001b[1;33m\u001b[0m\u001b[1;33m\u001b[0m\u001b[0m\n\u001b[0;32m    387\u001b[0m         \u001b[1;32mif\u001b[0m \u001b[0mself\u001b[0m\u001b[1;33m.\u001b[0m\u001b[0m_exception\u001b[0m\u001b[1;33m:\u001b[0m\u001b[1;33m\u001b[0m\u001b[1;33m\u001b[0m\u001b[0m\n\u001b[1;32m--> 388\u001b[1;33m             \u001b[1;32mraise\u001b[0m \u001b[0mself\u001b[0m\u001b[1;33m.\u001b[0m\u001b[0m_exception\u001b[0m\u001b[1;33m\u001b[0m\u001b[1;33m\u001b[0m\u001b[0m\n\u001b[0m\u001b[0;32m    389\u001b[0m         \u001b[1;32melse\u001b[0m\u001b[1;33m:\u001b[0m\u001b[1;33m\u001b[0m\u001b[1;33m\u001b[0m\u001b[0m\n\u001b[0;32m    390\u001b[0m             \u001b[1;32mreturn\u001b[0m \u001b[0mself\u001b[0m\u001b[1;33m.\u001b[0m\u001b[0m_result\u001b[0m\u001b[1;33m\u001b[0m\u001b[1;33m\u001b[0m\u001b[0m\n",
      "\u001b[1;32mc:\\users\\aczyzewski\\appdata\\local\\programs\\python\\python38-32\\lib\\concurrent\\futures\\thread.py\u001b[0m in \u001b[0;36mrun\u001b[1;34m(self)\u001b[0m\n\u001b[0;32m     55\u001b[0m \u001b[1;33m\u001b[0m\u001b[0m\n\u001b[0;32m     56\u001b[0m         \u001b[1;32mtry\u001b[0m\u001b[1;33m:\u001b[0m\u001b[1;33m\u001b[0m\u001b[1;33m\u001b[0m\u001b[0m\n\u001b[1;32m---> 57\u001b[1;33m             \u001b[0mresult\u001b[0m \u001b[1;33m=\u001b[0m \u001b[0mself\u001b[0m\u001b[1;33m.\u001b[0m\u001b[0mfn\u001b[0m\u001b[1;33m(\u001b[0m\u001b[1;33m*\u001b[0m\u001b[0mself\u001b[0m\u001b[1;33m.\u001b[0m\u001b[0margs\u001b[0m\u001b[1;33m,\u001b[0m \u001b[1;33m**\u001b[0m\u001b[0mself\u001b[0m\u001b[1;33m.\u001b[0m\u001b[0mkwargs\u001b[0m\u001b[1;33m)\u001b[0m\u001b[1;33m\u001b[0m\u001b[1;33m\u001b[0m\u001b[0m\n\u001b[0m\u001b[0;32m     58\u001b[0m         \u001b[1;32mexcept\u001b[0m \u001b[0mBaseException\u001b[0m \u001b[1;32mas\u001b[0m \u001b[0mexc\u001b[0m\u001b[1;33m:\u001b[0m\u001b[1;33m\u001b[0m\u001b[1;33m\u001b[0m\u001b[0m\n\u001b[0;32m     59\u001b[0m             \u001b[0mself\u001b[0m\u001b[1;33m.\u001b[0m\u001b[0mfuture\u001b[0m\u001b[1;33m.\u001b[0m\u001b[0mset_exception\u001b[0m\u001b[1;33m(\u001b[0m\u001b[0mexc\u001b[0m\u001b[1;33m)\u001b[0m\u001b[1;33m\u001b[0m\u001b[1;33m\u001b[0m\u001b[0m\n",
      "\u001b[1;32m~\\Desktop\\Niowave\\Python-PLC\\Cutoffs\\Master.py\u001b[0m in \u001b[0;36mRead\u001b[1;34m(Client, Tag_Number, Average, count, sleep_time, Bool)\u001b[0m\n\u001b[0;32m    142\u001b[0m         \u001b[1;32melse\u001b[0m\u001b[1;33m:\u001b[0m\u001b[1;33m\u001b[0m\u001b[1;33m\u001b[0m\u001b[0m\n\u001b[0;32m    143\u001b[0m             \u001b[0mPayload\u001b[0m \u001b[1;33m=\u001b[0m \u001b[0mClient\u001b[0m\u001b[1;33m.\u001b[0m\u001b[0mread_holding_registers\u001b[0m\u001b[1;33m(\u001b[0m\u001b[0mTag_Number\u001b[0m\u001b[1;33m,\u001b[0m\u001b[1;36m2\u001b[0m\u001b[1;33m,\u001b[0m\u001b[0munit\u001b[0m\u001b[1;33m=\u001b[0m\u001b[1;36m1\u001b[0m\u001b[1;33m)\u001b[0m\u001b[1;33m\u001b[0m\u001b[1;33m\u001b[0m\u001b[0m\n\u001b[1;32m--> 144\u001b[1;33m             \u001b[0mTag_Value_Bit\u001b[0m \u001b[1;33m=\u001b[0m \u001b[0mBinaryPayloadDecoder\u001b[0m\u001b[1;33m.\u001b[0m\u001b[0mfromRegisters\u001b[0m\u001b[1;33m(\u001b[0m\u001b[0mPayload\u001b[0m\u001b[1;33m.\u001b[0m\u001b[0mregisters\u001b[0m\u001b[1;33m,\u001b[0m \u001b[0mbyteorder\u001b[0m\u001b[1;33m=\u001b[0m\u001b[0mEndian\u001b[0m\u001b[1;33m.\u001b[0m\u001b[0mBig\u001b[0m\u001b[1;33m,\u001b[0m \u001b[0mwordorder\u001b[0m\u001b[1;33m=\u001b[0m\u001b[0mEndian\u001b[0m\u001b[1;33m.\u001b[0m\u001b[0mBig\u001b[0m\u001b[1;33m)\u001b[0m\u001b[1;33m\u001b[0m\u001b[1;33m\u001b[0m\u001b[0m\n\u001b[0m\u001b[0;32m    145\u001b[0m             \u001b[0mTag_Value\u001b[0m \u001b[1;33m=\u001b[0m \u001b[0mTag_Value_Bit\u001b[0m\u001b[1;33m.\u001b[0m\u001b[0mdecode_32bit_float\u001b[0m\u001b[1;33m(\u001b[0m\u001b[1;33m)\u001b[0m\u001b[1;33m\u001b[0m\u001b[1;33m\u001b[0m\u001b[0m\n\u001b[0;32m    146\u001b[0m             \u001b[1;32mreturn\u001b[0m \u001b[0mTag_Value\u001b[0m\u001b[1;33m\u001b[0m\u001b[1;33m\u001b[0m\u001b[0m\n",
      "\u001b[1;31mAttributeError\u001b[0m: 'ModbusIOException' object has no attribute 'registers'"
     ]
    }
   ],
   "source": [
    "# import Master as M\n",
    "import Tag_Database as Tags\n",
    "import numpy as np\n",
    "import matplotlib.pyplot as plt\n",
    "import time\n",
    "\n",
    "Client = M.Make_Client(\"10.50.0.10\")\n",
    "M.Read(Client, Tags.WF1H) #Arbitrary read to establish trust (I think this part is weird to me)\n",
    "\n",
    "V0_resolution = 0.01\n",
    "Num_sawtooths_1 = 20\n",
    "Num_sawtooths_2 = 20\n",
    "\n",
    "V0_1 = float(input(\"V0 Setpoint 1  \"))\n",
    "V0_2 = float(input(\"V0 Setpoint 2  \"))\n",
    "V0_3 = float(input(\"V0 Setpoint 3  \"))\n",
    "V0_4 = float(input(\"V0 Setpoint 4  \"))\n",
    "\n",
    "Tag_List = [[Tags.CU_Pf, False], [Tags.CU_Pr, False], [Tags.CU_Pt, False], [Tags.CU_V, False], \\\n",
    "            [Tags.BH_Pf, False], [Tags.BH_Pr, False], [Tags.BH_Pt, False], \\\n",
    "            [Tags.HV_Bias, False], [Tags.V0_SP, False], [Tags.V0_Read, False], \\\n",
    "            [Tags.Gun_Vac, False], [Tags.IR_Temp, False], [Tags.VA_Temp, False], [Tags.Heater_Amps_Set, False], \\\n",
    "            [Tags.Temperature_Set, False], [Tags.Emission_Set, False], [Tags.Voltage_Read, False], \\\n",
    "            [Tags.Current_Read, False], [Tags.Impedance_Read, False], [Tags.Power_Read, False]]\n",
    "\n",
    "Full_Data_Set = list()\n",
    "\n",
    "V0_List_1 = np.arange(V0_1, V0_2 + V0_resolution, V0_resolution)\n",
    "V0_List_2 = np.arange(V0_3, V0_4 + V0_resolution, V0_resolution)\n",
    "\n",
    "for index in range(Num_sawtooths_1):\n",
    "    \n",
    "    if not index:\n",
    "        start_time = time.time()\n",
    "        \n",
    "    for value in V0_List_1:\n",
    "        M.Write(Client, Tags.V0_SP, value)\n",
    "        Full_Data_Set.append(M.Gather(Client, Tag_List))\n",
    "    \n",
    "    if not index:\n",
    "        sleep_time = time.time() - start_time\n",
    "        \n",
    "    time.sleep(sleep_time)\n",
    "    \n",
    "    for value in V0_List_1[::-1]:\n",
    "        M.Write(Client, Tags.V0_SP, value)\n",
    "        Full_Data_Set.append(M.Gather(Client, Tag_List))\n",
    "    \n",
    "M.Write(Client, Tags.BH_VVA_SP, 0)\n",
    "\n",
    "for index in range(Num_sawtooths_2):\n",
    "    \n",
    "    #Maybe maybe maybe maybe\n",
    "    if not index:\n",
    "        start_time = time.time()\n",
    "        \n",
    "    for value in V0_List_2:\n",
    "        M.Write(Client, Tags.V0_SP, value)\n",
    "        Full_Data_Set.append(M.Gather(Client, Tag_List))\n",
    "    \n",
    "    #Maybe maybe maybe maybe\n",
    "    if not index:\n",
    "        sleep_time = time.time() - start_time\n",
    "        \n",
    "    time.sleep(sleep_time)\n",
    "    \n",
    "    for value in V0_List_2[::-1]:\n",
    "        M.Write(Client, Tags.V0_SP, value)\n",
    "        Full_Data_Set.append(M.Gather(Client, Tag_List))\n",
    "\n",
    "with open(\"Testing_Cutoffs.txt\",'w') as f: \n",
    "    for line in Full_Data_Set:\n",
    "        f.write(str(line).strip(\"([])\")+'\\n') #Writing each line in that file\n",
    "    f.close() #Closing the file to save it\n",
    "    \n",
    "    Full_Data_Array = np.array(Full_Data_Set) #Converting from a list to an array"
   ]
  },
  {
   "cell_type": "code",
   "execution_count": 13,
   "metadata": {},
   "outputs": [
    {
     "name": "stdout",
     "output_type": "stream",
     "text": [
      "0\n"
     ]
    }
   ],
   "source": [
    "for i in range(10):\n",
    "    if not i:\n",
    "        print(i)"
   ]
  },
  {
   "cell_type": "code",
   "execution_count": null,
   "metadata": {},
   "outputs": [],
   "source": []
  }
 ],
 "metadata": {
  "kernelspec": {
   "display_name": "Python 3",
   "language": "python",
   "name": "python3"
  },
  "language_info": {
   "codemirror_mode": {
    "name": "ipython",
    "version": 3
   },
   "file_extension": ".py",
   "mimetype": "text/x-python",
   "name": "python",
   "nbconvert_exporter": "python",
   "pygments_lexer": "ipython3",
   "version": "3.8.1"
  }
 },
 "nbformat": 4,
 "nbformat_minor": 4
}
