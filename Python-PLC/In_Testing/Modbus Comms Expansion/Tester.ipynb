{
 "cells": [
  {
   "cell_type": "code",
   "execution_count": 9,
   "metadata": {},
   "outputs": [
    {
     "ename": "AttributeError",
     "evalue": "'ModbusIOException' object has no attribute 'registers'",
     "output_type": "error",
     "traceback": [
      "\u001b[1;31m---------------------------------------------------------------------------\u001b[0m",
      "\u001b[1;31mAttributeError\u001b[0m                            Traceback (most recent call last)",
      "\u001b[1;32m<ipython-input-9-bddc0f8a12af>\u001b[0m in \u001b[0;36m<module>\u001b[1;34m\u001b[0m\n\u001b[0;32m     16\u001b[0m     \u001b[0mtemp_list\u001b[0m \u001b[1;33m=\u001b[0m \u001b[1;33m[\u001b[0m\u001b[1;33m]\u001b[0m\u001b[1;33m\u001b[0m\u001b[1;33m\u001b[0m\u001b[0m\n\u001b[0;32m     17\u001b[0m     \u001b[0mClient\u001b[0m \u001b[1;33m=\u001b[0m \u001b[0mM\u001b[0m\u001b[1;33m.\u001b[0m\u001b[0mMake_Client\u001b[0m\u001b[1;33m(\u001b[0m\u001b[1;34m\"10.50.0.10\"\u001b[0m\u001b[1;33m)\u001b[0m\u001b[1;33m\u001b[0m\u001b[1;33m\u001b[0m\u001b[0m\n\u001b[1;32m---> 18\u001b[1;33m     \u001b[0mtemp_list\u001b[0m\u001b[1;33m.\u001b[0m\u001b[0mappend\u001b[0m\u001b[1;33m(\u001b[0m\u001b[0mM\u001b[0m\u001b[1;33m.\u001b[0m\u001b[0mGather\u001b[0m\u001b[1;33m(\u001b[0m\u001b[0mClient\u001b[0m\u001b[1;33m,\u001b[0m \u001b[0mTag_List\u001b[0m\u001b[1;33m)\u001b[0m\u001b[1;33m)\u001b[0m\u001b[1;33m\u001b[0m\u001b[1;33m\u001b[0m\u001b[0m\n\u001b[0m\u001b[0;32m     19\u001b[0m     \u001b[1;32mfor\u001b[0m \u001b[0mitem\u001b[0m \u001b[1;32min\u001b[0m \u001b[0mrange\u001b[0m\u001b[1;33m(\u001b[0m\u001b[0mlen\u001b[0m\u001b[1;33m(\u001b[0m\u001b[0mtemp_list\u001b[0m\u001b[1;33m)\u001b[0m\u001b[1;33m)\u001b[0m\u001b[1;33m:\u001b[0m\u001b[1;33m\u001b[0m\u001b[1;33m\u001b[0m\u001b[0m\n\u001b[0;32m     20\u001b[0m         \u001b[0mprint\u001b[0m\u001b[1;33m(\u001b[0m\u001b[1;34m\"{}: {:.3f}\"\u001b[0m\u001b[1;33m.\u001b[0m\u001b[0mformat\u001b[0m\u001b[1;33m(\u001b[0m\u001b[0mTag_List\u001b[0m\u001b[1;33m[\u001b[0m\u001b[0mitem\u001b[0m\u001b[1;33m,\u001b[0m\u001b[1;36m0\u001b[0m\u001b[1;33m]\u001b[0m\u001b[1;33m,\u001b[0m \u001b[0mtemp_list\u001b[0m\u001b[1;33m[\u001b[0m\u001b[0mitem\u001b[0m\u001b[1;33m]\u001b[0m\u001b[1;33m)\u001b[0m\u001b[1;33m)\u001b[0m\u001b[1;33m\u001b[0m\u001b[1;33m\u001b[0m\u001b[0m\n",
      "\u001b[1;32m~\\Desktop\\Niowave\\Python-PLC\\In_Testing\\Modbus Comms Expansion\\Master.py\u001b[0m in \u001b[0;36mGather\u001b[1;34m(Client, tag_list, count, sleep_time)\u001b[0m\n\u001b[0;32m    174\u001b[0m \u001b[1;33m\u001b[0m\u001b[0m\n\u001b[0;32m    175\u001b[0m         \u001b[1;32mfor\u001b[0m \u001b[0mf\u001b[0m \u001b[1;32min\u001b[0m \u001b[0mresults\u001b[0m\u001b[1;33m:\u001b[0m\u001b[1;33m\u001b[0m\u001b[1;33m\u001b[0m\u001b[0m\n\u001b[1;32m--> 176\u001b[1;33m             \u001b[0mtemp_list\u001b[0m\u001b[1;33m.\u001b[0m\u001b[0mappend\u001b[0m\u001b[1;33m(\u001b[0m\u001b[0mf\u001b[0m\u001b[1;33m.\u001b[0m\u001b[0mresult\u001b[0m\u001b[1;33m(\u001b[0m\u001b[1;33m)\u001b[0m\u001b[1;33m)\u001b[0m\u001b[1;33m\u001b[0m\u001b[1;33m\u001b[0m\u001b[0m\n\u001b[0m\u001b[0;32m    177\u001b[0m \u001b[1;33m\u001b[0m\u001b[0m\n\u001b[0;32m    178\u001b[0m     \u001b[1;32mreturn\u001b[0m \u001b[0mtemp_list\u001b[0m\u001b[1;33m\u001b[0m\u001b[1;33m\u001b[0m\u001b[0m\n",
      "\u001b[1;32mc:\\users\\aczyzewski\\appdata\\local\\programs\\python\\python38-32\\lib\\concurrent\\futures\\_base.py\u001b[0m in \u001b[0;36mresult\u001b[1;34m(self, timeout)\u001b[0m\n\u001b[0;32m    437\u001b[0m                 \u001b[1;32mraise\u001b[0m \u001b[0mCancelledError\u001b[0m\u001b[1;33m(\u001b[0m\u001b[1;33m)\u001b[0m\u001b[1;33m\u001b[0m\u001b[1;33m\u001b[0m\u001b[0m\n\u001b[0;32m    438\u001b[0m             \u001b[1;32melif\u001b[0m \u001b[0mself\u001b[0m\u001b[1;33m.\u001b[0m\u001b[0m_state\u001b[0m \u001b[1;33m==\u001b[0m \u001b[0mFINISHED\u001b[0m\u001b[1;33m:\u001b[0m\u001b[1;33m\u001b[0m\u001b[1;33m\u001b[0m\u001b[0m\n\u001b[1;32m--> 439\u001b[1;33m                 \u001b[1;32mreturn\u001b[0m \u001b[0mself\u001b[0m\u001b[1;33m.\u001b[0m\u001b[0m__get_result\u001b[0m\u001b[1;33m(\u001b[0m\u001b[1;33m)\u001b[0m\u001b[1;33m\u001b[0m\u001b[1;33m\u001b[0m\u001b[0m\n\u001b[0m\u001b[0;32m    440\u001b[0m             \u001b[1;32melse\u001b[0m\u001b[1;33m:\u001b[0m\u001b[1;33m\u001b[0m\u001b[1;33m\u001b[0m\u001b[0m\n\u001b[0;32m    441\u001b[0m                 \u001b[1;32mraise\u001b[0m \u001b[0mTimeoutError\u001b[0m\u001b[1;33m(\u001b[0m\u001b[1;33m)\u001b[0m\u001b[1;33m\u001b[0m\u001b[1;33m\u001b[0m\u001b[0m\n",
      "\u001b[1;32mc:\\users\\aczyzewski\\appdata\\local\\programs\\python\\python38-32\\lib\\concurrent\\futures\\_base.py\u001b[0m in \u001b[0;36m__get_result\u001b[1;34m(self)\u001b[0m\n\u001b[0;32m    386\u001b[0m     \u001b[1;32mdef\u001b[0m \u001b[0m__get_result\u001b[0m\u001b[1;33m(\u001b[0m\u001b[0mself\u001b[0m\u001b[1;33m)\u001b[0m\u001b[1;33m:\u001b[0m\u001b[1;33m\u001b[0m\u001b[1;33m\u001b[0m\u001b[0m\n\u001b[0;32m    387\u001b[0m         \u001b[1;32mif\u001b[0m \u001b[0mself\u001b[0m\u001b[1;33m.\u001b[0m\u001b[0m_exception\u001b[0m\u001b[1;33m:\u001b[0m\u001b[1;33m\u001b[0m\u001b[1;33m\u001b[0m\u001b[0m\n\u001b[1;32m--> 388\u001b[1;33m             \u001b[1;32mraise\u001b[0m \u001b[0mself\u001b[0m\u001b[1;33m.\u001b[0m\u001b[0m_exception\u001b[0m\u001b[1;33m\u001b[0m\u001b[1;33m\u001b[0m\u001b[0m\n\u001b[0m\u001b[0;32m    389\u001b[0m         \u001b[1;32melse\u001b[0m\u001b[1;33m:\u001b[0m\u001b[1;33m\u001b[0m\u001b[1;33m\u001b[0m\u001b[0m\n\u001b[0;32m    390\u001b[0m             \u001b[1;32mreturn\u001b[0m \u001b[0mself\u001b[0m\u001b[1;33m.\u001b[0m\u001b[0m_result\u001b[0m\u001b[1;33m\u001b[0m\u001b[1;33m\u001b[0m\u001b[0m\n",
      "\u001b[1;32mc:\\users\\aczyzewski\\appdata\\local\\programs\\python\\python38-32\\lib\\concurrent\\futures\\thread.py\u001b[0m in \u001b[0;36mrun\u001b[1;34m(self)\u001b[0m\n\u001b[0;32m     55\u001b[0m \u001b[1;33m\u001b[0m\u001b[0m\n\u001b[0;32m     56\u001b[0m         \u001b[1;32mtry\u001b[0m\u001b[1;33m:\u001b[0m\u001b[1;33m\u001b[0m\u001b[1;33m\u001b[0m\u001b[0m\n\u001b[1;32m---> 57\u001b[1;33m             \u001b[0mresult\u001b[0m \u001b[1;33m=\u001b[0m \u001b[0mself\u001b[0m\u001b[1;33m.\u001b[0m\u001b[0mfn\u001b[0m\u001b[1;33m(\u001b[0m\u001b[1;33m*\u001b[0m\u001b[0mself\u001b[0m\u001b[1;33m.\u001b[0m\u001b[0margs\u001b[0m\u001b[1;33m,\u001b[0m \u001b[1;33m**\u001b[0m\u001b[0mself\u001b[0m\u001b[1;33m.\u001b[0m\u001b[0mkwargs\u001b[0m\u001b[1;33m)\u001b[0m\u001b[1;33m\u001b[0m\u001b[1;33m\u001b[0m\u001b[0m\n\u001b[0m\u001b[0;32m     58\u001b[0m         \u001b[1;32mexcept\u001b[0m \u001b[0mBaseException\u001b[0m \u001b[1;32mas\u001b[0m \u001b[0mexc\u001b[0m\u001b[1;33m:\u001b[0m\u001b[1;33m\u001b[0m\u001b[1;33m\u001b[0m\u001b[0m\n\u001b[0;32m     59\u001b[0m             \u001b[0mself\u001b[0m\u001b[1;33m.\u001b[0m\u001b[0mfuture\u001b[0m\u001b[1;33m.\u001b[0m\u001b[0mset_exception\u001b[0m\u001b[1;33m(\u001b[0m\u001b[0mexc\u001b[0m\u001b[1;33m)\u001b[0m\u001b[1;33m\u001b[0m\u001b[1;33m\u001b[0m\u001b[0m\n",
      "\u001b[1;32m~\\Desktop\\Niowave\\Python-PLC\\In_Testing\\Modbus Comms Expansion\\Master.py\u001b[0m in \u001b[0;36mRead\u001b[1;34m(Client, Tag_Number, Average, count, sleep_time, Bool)\u001b[0m\n\u001b[0;32m    142\u001b[0m         \u001b[1;32melse\u001b[0m\u001b[1;33m:\u001b[0m\u001b[1;33m\u001b[0m\u001b[1;33m\u001b[0m\u001b[0m\n\u001b[0;32m    143\u001b[0m             \u001b[0mPayload\u001b[0m \u001b[1;33m=\u001b[0m \u001b[0mClient\u001b[0m\u001b[1;33m.\u001b[0m\u001b[0mread_holding_registers\u001b[0m\u001b[1;33m(\u001b[0m\u001b[0mTag_Number\u001b[0m\u001b[1;33m,\u001b[0m\u001b[1;36m2\u001b[0m\u001b[1;33m,\u001b[0m\u001b[0munit\u001b[0m\u001b[1;33m=\u001b[0m\u001b[1;36m1\u001b[0m\u001b[1;33m)\u001b[0m\u001b[1;33m\u001b[0m\u001b[1;33m\u001b[0m\u001b[0m\n\u001b[1;32m--> 144\u001b[1;33m             \u001b[0mTag_Value_Bit\u001b[0m \u001b[1;33m=\u001b[0m \u001b[0mBinaryPayloadDecoder\u001b[0m\u001b[1;33m.\u001b[0m\u001b[0mfromRegisters\u001b[0m\u001b[1;33m(\u001b[0m\u001b[0mPayload\u001b[0m\u001b[1;33m.\u001b[0m\u001b[0mregisters\u001b[0m\u001b[1;33m,\u001b[0m \u001b[0mbyteorder\u001b[0m\u001b[1;33m=\u001b[0m\u001b[0mEndian\u001b[0m\u001b[1;33m.\u001b[0m\u001b[0mBig\u001b[0m\u001b[1;33m,\u001b[0m \u001b[0mwordorder\u001b[0m\u001b[1;33m=\u001b[0m\u001b[0mEndian\u001b[0m\u001b[1;33m.\u001b[0m\u001b[0mBig\u001b[0m\u001b[1;33m)\u001b[0m\u001b[1;33m\u001b[0m\u001b[1;33m\u001b[0m\u001b[0m\n\u001b[0m\u001b[0;32m    145\u001b[0m             \u001b[0mTag_Value\u001b[0m \u001b[1;33m=\u001b[0m \u001b[0mTag_Value_Bit\u001b[0m\u001b[1;33m.\u001b[0m\u001b[0mdecode_32bit_float\u001b[0m\u001b[1;33m(\u001b[0m\u001b[1;33m)\u001b[0m\u001b[1;33m\u001b[0m\u001b[1;33m\u001b[0m\u001b[0m\n\u001b[0;32m    146\u001b[0m             \u001b[1;32mreturn\u001b[0m \u001b[0mTag_Value\u001b[0m\u001b[1;33m\u001b[0m\u001b[1;33m\u001b[0m\u001b[0m\n",
      "\u001b[1;31mAttributeError\u001b[0m: 'ModbusIOException' object has no attribute 'registers'"
     ]
    }
   ],
   "source": [
    "import Master as M\n",
    "import numpy as np\n",
    "import Tag_Database as Tags\n",
    "import os\n",
    "import time\n",
    "import concurrent.futures\n",
    "\n",
    "os.system(\"Color 8a\")\n",
    "variables = vars(Tags)\n",
    "variables = np.array(list(variables.items()))\n",
    "variables = variables[134:]\n",
    "Tag_List = []\n",
    "for item in variables:\n",
    "    Tag_List.append([item[1], False])\n",
    "while True:\n",
    "    temp_list = []\n",
    "    Client = M.Make_Client(\"10.50.0.10\")\n",
    "    temp_list.append(M.Gather(Client, Tag_List))\n",
    "    for item in range(len(temp_list)):\n",
    "        print(\"{}: {:.3f}\".format(Tag_List[item,0], temp_list[item]))\n",
    "    Client.close()\n",
    "    time.sleep(30)\n",
    "    os.system('cls') "
   ]
  },
  {
   "cell_type": "code",
   "execution_count": 4,
   "metadata": {},
   "outputs": [],
   "source": [
    "import Master as M\n",
    "import numpy as np\n",
    "import Tag_Database as Tags\n",
    "import os\n",
    "import time\n",
    "import concurrent.futures\n",
    "\n",
    "os.system(\"Color 8a\")\n",
    "variables = vars(Tags)\n",
    "variables = np.array(list(variables.items()))\n",
    "variables = variables[134:]\n",
    "while True:\n",
    "    Client = M.Make_Client(\"10.50.0.10\")\n",
    "    Bool = False\n",
    "    for item in variables:\n",
    "        if \"Pulsing_Output\" in item[0]:\n",
    "            Bool = True\n",
    "        if Bool:\n",
    "            print(item[0] + \": \",bool(M.Read(Client, item[1], Bool = Bool)))\n",
    "        else:\n",
    "            print(item[0] + \": \",round(M.Read(Client, item[1], Bool = Bool), 3))\n",
    "    Client.close()\n",
    "    time.sleep(30)\n",
    "    os.system('cls') \n"
   ]
  },
  {
   "cell_type": "code",
   "execution_count": 21,
   "metadata": {},
   "outputs": [
    {
     "data": {
      "text/plain": [
       "array([['IR_Temp', 10101],\n",
       "       ['VA_Temp', 10111],\n",
       "       ['Heater_Amps_Set', 10107],\n",
       "       ['Temperature_Set', 10303],\n",
       "       ['Emission_Set', 10305],\n",
       "       ['Voltage_Read', 10103],\n",
       "       ['Current_Read', 10105],\n",
       "       ['Impedance_Read', 10121],\n",
       "       ['Power_Read', 10123],\n",
       "       ['Emitted_Current', 11103],\n",
       "       ['DBA_Bypass', 11109],\n",
       "       ['Recirculator_Halfway', 11111],\n",
       "       ['Recirculator_Bypass', 11113],\n",
       "       ['RF_Beam_Mon', 11117],\n",
       "       ['Pulse_Frequency', 10309],\n",
       "       ['Pulse_Duty', 10311],\n",
       "       ['Pulse_Delay', 13013],\n",
       "       ['CU_Pf', 1101],\n",
       "       ['CU_Pr', 1103],\n",
       "       ['CU_Pt', 1105],\n",
       "       ['CU_V', 1115],\n",
       "       ['BH_Pf', 21225],\n",
       "       ['BH_Pr', 21227],\n",
       "       ['BH_Pt', 21229],\n",
       "       ['SRF_Pf', 2101],\n",
       "       ['SRF_Pr', 2103],\n",
       "       ['SRF_Pt', 2105],\n",
       "       ['HV_Bias', 11101],\n",
       "       ['HV_Off_Setpoint', 11301],\n",
       "       ['HV_On_Setpoint', 11303],\n",
       "       ['Trek_V', 11501],\n",
       "       ['Trek_I', 11503],\n",
       "       ['V0_SP', 11311],\n",
       "       ['V0_Read', 11101],\n",
       "       ['Gun_Vac', 31101],\n",
       "       ['Gun_Cross', 31103],\n",
       "       ['SRF_Cavity_Vac', 31105],\n",
       "       ['HE_Sraight_Vac', 31107],\n",
       "       ['Insulating_Vac', 31121],\n",
       "       ['E_Station_Vac', 31125],\n",
       "       ['BH_OC_Temp', 30101],\n",
       "       ['DBA_Pipe_Temp', 30105],\n",
       "       ['Cu_Gun_Temp', 30103],\n",
       "       ['HE_Straight_Col', 30111],\n",
       "       ['DBA_Dump_CHWR', 30311],\n",
       "       ['DBA_Dump_CHWS', 30309],\n",
       "       ['Tuner_Plate_Temp', 30109],\n",
       "       ['Gate_Valve_Downstream_Temp', 30267],\n",
       "       ['Gate_Valve_Upstream_Temp', 30263],\n",
       "       ['Loop_Bypass_CHWS', 30297],\n",
       "       ['Loop_Bypass_CHWR', 30299],\n",
       "       ['DBA_Coupler', 30261],\n",
       "       ['Coupler_Shoulder', 30211],\n",
       "       ['Solenoid_4_Temp', 30269],\n",
       "       ['Solenoid_5_Temp', 30271],\n",
       "       ['Regulation_Float', 1001],\n",
       "       ['Pulsing_Output', 11014],\n",
       "       ['Error_Signal_Regulation', 12],\n",
       "       ['Oscope_Reset', 13],\n",
       "       ['Regulation_Setpoint_Reset', 14]], dtype=object)"
      ]
     },
     "execution_count": 21,
     "metadata": {},
     "output_type": "execute_result"
    }
   ],
   "source": [
    "start = 134\n",
    "variables = vars(Tags)\n",
    "variables = np.array(list(variables.items()))\n",
    "variables = variables[start:]\n",
    "variables[:,1] = variables[:,1].astype(int)\n",
    "variables = variables[variables[:,1].argsort()]\n",
    "variables"
   ]
  },
  {
   "cell_type": "code",
   "execution_count": 7,
   "metadata": {},
   "outputs": [],
   "source": [
    "import Master as M\n",
    "from datetime import datetime\n",
    "import numpy as np\n",
    "\n",
    "def Snapshot(Client, filename, start = 8):\n",
    "    import Tag_Database as Tags\n",
    "    \n",
    "    M.Read(Client,Tags.CU_V)\n",
    "    \"Here \"\n",
    "    variables = vars(Tags)\n",
    "    variables = np.array(list(variables.items()))\n",
    "    variables = variables[start:]\n",
    "    #variables[:,1] = variables[:,1].astype(int)\n",
    "    #variables = variables[variables[:,1].argsort()]\n",
    "    Tag_List = []\n",
    "    for item in variables:\n",
    "        Tag_List.append([item[1], False])\n",
    "            \n",
    "    temp_list = []\n",
    "    temp_list.append(M.Gather(Client, Tag_List, count = 20, sleep_time = 0.010))\n",
    "    \n",
    "    with open(filename,'w') as f: #Opening a file with the current date and time\n",
    "        for num, line in enumerate(temp_list[0]):\n",
    "            f.write(variables[num,0] + \": \" + str(line).strip(\"([])\")+'\\n') #Writing each line in that file\n",
    "        f.close() #Closing the file to save it\n",
    "        \n",
    "now = datetime.today().strftime('%y%m%d_%H%M') #Taking the current time in YYMMDD_HHmm format to save the plot and the txt file\n",
    "filename = now + '.txt'\n",
    "\n",
    "Client = M.Make_Client('10.50.0.10')\n",
    "\n",
    "Snapshot(Client, filename)"
   ]
  },
  {
   "cell_type": "code",
   "execution_count": 15,
   "metadata": {},
   "outputs": [
    {
     "name": "stdout",
     "output_type": "stream",
     "text": [
      "---------------------------------Small---------------------------------\n",
      "201.06 square inches at $0.048 per square inch; 20.73 inches per dollar\n",
      "\n",
      "---------------------------------Medium---------------------------------\n",
      "452.39 square inches at $0.034 per square inch; 29.19 inches per dollar\n",
      "\n",
      "---------------------------------Large---------------------------------\n",
      "615.75 square inches at $0.028 per square inch; 36.24 inches per dollar\n",
      "\n",
      "---------------------------------X-Large---------------------------------\n",
      "804.25 square inches at $0.031 per square inch; 32.43 inches per dollar\n",
      "\n"
     ]
    }
   ],
   "source": [
    "import numpy as np\n",
    "\n",
    "def price_per_square_inch(Radius, Cost):\n",
    "    Area = np.pi * Radius **2\n",
    "    PPSI = Cost/Area\n",
    "    IPD = Area/Cost\n",
    "    return PPSI, Area, IPD\n",
    "numlines = 33\n",
    "\n",
    "small = price_per_square_inch(8, 9.70)\n",
    "medium = price_per_square_inch(12, 15.50)\n",
    "large = price_per_square_inch(14, 16.99)\n",
    "xl = price_per_square_inch(16, 24.80)\n",
    "\n",
    "print(\"-\"*numlines + \"Small\" + \"-\"*numlines)\n",
    "print(\"{:.2f} square inches at ${:.3f} per square inch; {:.2f} inches per dollar\\n\".format(small[1],small[0], small[2]))\n",
    "print(\"-\"*numlines + \"Medium\" + \"-\"*numlines)\n",
    "print(\"{:.2f} square inches at ${:.3f} per square inch; {:.2f} inches per dollar\\n\".format(medium[1],medium[0], medium[2]))\n",
    "print(\"-\"*numlines + \"Large\" + \"-\"*numlines)\n",
    "print(\"{:.2f} square inches at ${:.3f} per square inch; {:.2f} inches per dollar\\n\".format(large[1],large[0], large[2]))\n",
    "print(\"-\"*numlines + \"X-Large\" + \"-\"*numlines)\n",
    "print(\"{:.2f} square inches at ${:.3f} per square inch; {:.2f} inches per dollar\\n\".format(xl[1],xl[0], xl[2]))"
   ]
  },
  {
   "cell_type": "code",
   "execution_count": 21,
   "metadata": {},
   "outputs": [
    {
     "data": {
      "text/plain": [
       "(array([    0.,     0.,     0.,     0.,     0., 10000.,     0.,     0.,\n",
       "            0.,     0.]),\n",
       " array([-0.5, -0.4, -0.3, -0.2, -0.1,  0. ,  0.1,  0.2,  0.3,  0.4,  0.5]),\n",
       " <a list of 10 Patch objects>)"
      ]
     },
     "execution_count": 21,
     "metadata": {},
     "output_type": "execute_result"
    },
    {
     "data": {
      "image/png": "[encoded data removed]",
      "text/plain": [
       "<Figure size 432x288 with 1 Axes>"
      ]
     },
     "metadata": {
      "needs_background": "light"
     },
     "output_type": "display_data"
    }
   ],
   "source": [
    "import time\n",
    "import matplotlib.pyplot as plt\n",
    "\n",
    "sleep_time = 0\n",
    "\n",
    "iis = []\n",
    "for _ in range(10000):\n",
    "    i = 0\n",
    "    runtime = time.time()\n",
    "    while time.time() - runtime < sleep_time:\n",
    "        i += 1\n",
    "    iis.append(i)\n",
    "plt.hist(iis)"
   ]
  },
  {
   "cell_type": "code",
   "execution_count": null,
   "metadata": {},
   "outputs": [],
   "source": []
  }
 ],
 "metadata": {
  "kernelspec": {
   "display_name": "Python 3",
   "language": "python",
   "name": "python3"
  },
  "language_info": {
   "codemirror_mode": {
    "name": "ipython",
    "version": 3
   },
   "file_extension": ".py",
   "mimetype": "text/x-python",
   "name": "python",
   "nbconvert_exporter": "python",
   "pygments_lexer": "ipython3",
   "version": "3.8.1"
  }
 },
 "nbformat": 4,
 "nbformat_minor": 4
}
