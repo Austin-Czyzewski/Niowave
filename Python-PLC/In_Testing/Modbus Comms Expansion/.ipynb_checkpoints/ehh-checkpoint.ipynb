{
 "cells": [
  {
   "cell_type": "code",
   "execution_count": 42,
   "metadata": {},
   "outputs": [],
   "source": [
    "import numpy as np\n",
    "import Master as M\n",
    "import Tag_Database as Tags\n",
    "from pymodbus.client.sync import ModbusTcpClient\n",
    "from pymodbus.payload import BinaryPayloadDecoder\n",
    "from pymodbus.payload import BinaryPayloadBuilder\n",
    "from pymodbus.constants import Endian\n",
    "import numpy as np\n",
    "import matplotlib.pyplot as plt\n",
    "from datetime import datetime\n",
    "import time"
   ]
  },
  {
   "cell_type": "code",
   "execution_count": 43,
   "metadata": {},
   "outputs": [],
   "source": []
  },
  {
   "cell_type": "code",
   "execution_count": 45,
   "metadata": {},
   "outputs": [
    {
     "name": "stdout",
     "output_type": "stream",
     "text": [
      "0.0\n"
     ]
    }
   ],
   "source": [
    "Client = M.Make_Client(\"10.50.0.10\")\n",
    "Tag_Number = int(Tags.WF1V)-1\n",
    "    \n",
    "Payload = Client.read_holding_registers(Tag_Number,2,unit=1)\n",
    "Tag_Value_Bit = BinaryPayloadDecoder.fromRegisters(Payload.registers, byteorder=Endian.Big, wordorder=Endian.Big)\n",
    "Tag_Value = Tag_Value_Bit.decode_32bit_float()\n",
    "print(Tag_Value)"
   ]
  },
  {
   "cell_type": "code",
   "execution_count": null,
   "metadata": {},
   "outputs": [],
   "source": []
  }
 ],
 "metadata": {
  "kernelspec": {
   "display_name": "Python 3",
   "language": "python",
   "name": "python3"
  },
  "language_info": {
   "codemirror_mode": {
    "name": "ipython",
    "version": 3
   },
   "file_extension": ".py",
   "mimetype": "text/x-python",
   "name": "python",
   "nbconvert_exporter": "python",
   "pygments_lexer": "ipython3",
   "version": "3.8.1"
  }
 },
 "nbformat": 4,
 "nbformat_minor": 4
}
