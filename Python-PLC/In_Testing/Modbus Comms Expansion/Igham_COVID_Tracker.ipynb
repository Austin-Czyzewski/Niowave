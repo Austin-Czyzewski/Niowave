{
 "cells": [
  {
   "cell_type": "code",
   "execution_count": 110,
   "metadata": {},
   "outputs": [],
   "source": [
    "import numpy as np\n",
    "import time\n",
    "import os\n",
    "from datetime import datetime"
   ]
  },
  {
   "cell_type": "code",
   "execution_count": 111,
   "metadata": {},
   "outputs": [],
   "source": [
    "data = !curl https://www.michigan.gov/coronavirus/0,9753,7-406-98163_98173---,00.html\n",
    "data = np.array(data)"
   ]
  },
  {
   "cell_type": "code",
   "execution_count": 112,
   "metadata": {},
   "outputs": [
    {
     "data": {
      "text/plain": [
       "'\\t\\t</tr>'"
      ]
     },
     "execution_count": 112,
     "metadata": {},
     "output_type": "execute_result"
    }
   ],
   "source": [
    "data[559]"
   ]
  },
  {
   "cell_type": "code",
   "execution_count": 113,
   "metadata": {},
   "outputs": [
    {
     "name": "stdout",
     "output_type": "stream",
     "text": [
      "\t\t\t<td height=\"20\" style=\"height: 20px; text-align: center;\">Ingham</td> 556\n",
      "650 23\n"
     ]
    }
   ],
   "source": [
    "Ingham_Start = 0\n",
    "for num, item in enumerate(data):\n",
    "    if \"Ingham\" in item:\n",
    "        print(item, num)\n",
    "        Ingham_Start = num\n",
    "Ingham_Data = data[Ingham_Start:Ingham_Start+5]\n",
    "Ingham_Population = 292406\n",
    "Niowave_Reporting_Employees = 65\n",
    "\n",
    "Cases_Total = int(Ingham_Data[1].split('\">')[1].strip(\"</td>\"))\n",
    "Deaths_Total = int(Ingham_Data[2].split('\">')[1].strip(\"</td>\"))\n",
    "print(Cases_Total, Deaths_Total)"
   ]
  },
  {
   "cell_type": "code",
   "execution_count": 114,
   "metadata": {},
   "outputs": [
    {
     "name": "stdout",
     "output_type": "stream",
     "text": [
      "Ingham County Coronavirus Data for 05/20/2020\n",
      "------------------------------------------------------------\n",
      "Total Cases = 650\n",
      "Total Deaths = 23\n",
      "Percent of Ingham with COVID = 0.222%\n",
      "Percent of Ingham deceased from COVID = 0.008%\n",
      "Residents per case from COVID = 449\n",
      "Residents per death from COVID = 12713.304\n",
      "Percent chance at least one employee has COVID = 13.468%\n"
     ]
    }
   ],
   "source": [
    "def One_Case_Prob(Cases_In_Pop, Population, N):\n",
    "    \"\"\"\n",
    "    Probability of one being sick (P_sick)= Total_Cases_In_Region/Region_Population\n",
    "    Probability of one not being sick P_Healthy= 1 - P_sick\n",
    "    Probability one fails = 1 - (P_Healthy)^N\n",
    "    \"\"\"\n",
    "    P_has = Cases_In_Pop/Population\n",
    "    P_not = 1-P_has\n",
    "    return 1-P_not**(N)\n",
    "\n",
    "Cases_Percent_of_Pop = Cases_Total/Ingham_Population\n",
    "Deaths_Percent_of_Pop = Deaths_Total/Ingham_Population\n",
    "Cases_Per_Resident = int(1/Cases_Percent_of_Pop)\n",
    "Deaths_Per_Resident = round(1/Deaths_Percent_of_Pop,3)\n",
    "\n",
    "today = datetime.today().strftime('%m/%d/%Y')\n",
    "print(\"Ingham County Coronavirus Data for {}\\n\".format(today) + \\\n",
    "      \"-\"*60 + \"\\n\" + \\\n",
    "      \"Total Cases = {}\\n\".format(Cases_Total) + \\\n",
    "      \"Total Deaths = {}\\n\".format(Deaths_Total) + \\\n",
    "      \"Percent of Ingham with COVID = {:.3f}%\\n\".format(Cases_Percent_of_Pop*100) + \\\n",
    "      \"Percent of Ingham deceased from COVID = {:.3f}%\\n\".format(Deaths_Percent_of_Pop*100) + \\\n",
    "      \"Residents per case from COVID = {}\\n\".format(Cases_Per_Resident) + \\\n",
    "      \"Residents per death from COVID = {}\\n\".format(Deaths_Per_Resident) + \\\n",
    "      \"Percent chance at least one employee has COVID = {:.3f}%\".format(100*One_Case_Prob(Cases_Total, Ingham_Population, Niowave_Reporting_Employees)))"
   ]
  },
  {
   "cell_type": "code",
   "execution_count": 104,
   "metadata": {},
   "outputs": [],
   "source": [
    "with open(\"Ingham_COVID_Data.txt\",'a') as file:\n",
    "    file.write(\"Ingham County Coronavirus Data for {}\\n\".format(today) + \\\n",
    "      \"-\"*60 + \"\\n\" + \\\n",
    "      \"Total Cases = {}\\n\".format(Cases_Total) + \\\n",
    "      \"Total Deaths = {}\\n\".format(Deaths_Total) + \\\n",
    "      \"Percent of Ingham with COVID = {:.3f}%\\n\".format(Cases_Percent_of_Pop*100) + \\\n",
    "      \"Percent of Ingham deceased from COVID = {:.3f}%\\n\".format(Deaths_Percent_of_Pop*100) + \\\n",
    "      \"Residents per case from COVID = {}\\n\".format(Cases_Per_Resident) + \\\n",
    "      \"Residents per death from COVID = {}\\n\".format(Deaths_Per_Resident) + \\\n",
    "      \"Percent chance at least one employee has COVID = {:.3f}%\\n\".format(100*One_Case_Prob(Cases_Total, Ingham_Population, Niowave_Reporting_Employees)) + \\\n",
    "      \"-\"*60 + \"\\n\" + \"-\"*60 + '\\n')"
   ]
  },
  {
   "cell_type": "code",
   "execution_count": 116,
   "metadata": {},
   "outputs": [
    {
     "name": "stdout",
     "output_type": "stream",
     "text": [
      "\t\t\t<td height=\"21\" style=\"height: 21px; text-align: center;\">Kalamazoo</td> 581\n",
      "739 44\n",
      "Kalamazoo County Coronavirus Data for 05/20/2020\n",
      "------------------------------------------------------------\n",
      "Total Cases = 739\n",
      "Total Deaths = 44\n",
      "Percent of Kalamazoo with COVID = 0.279%\n",
      "Percent of Kalamazoo deceased from COVID = 0.017%\n",
      "Residents per case from COVID = 358\n",
      "Residents per death from COVID = 6024.227\n",
      "\n"
     ]
    }
   ],
   "source": [
    "Kalamazoo_Start = 0\n",
    "for num, item in enumerate(data):\n",
    "    if \"Kalamazoo\" in item:\n",
    "        print(item, num)\n",
    "        Kalamazoo_Start = num\n",
    "Kalamazoo_Data = data[Kalamazoo_Start:Kalamazoo_Start+5]\n",
    "Kalamazoo_Population = 265066\n",
    "\n",
    "Kzoo_Cases_Total = int(Kalamazoo_Data[1].split('\">')[1].strip(\"</td>\"))\n",
    "Kzoo_Deaths_Total = int(Kalamazoo_Data[2].split('\">')[1].strip(\"</td>\"))\n",
    "print(Kzoo_Cases_Total, Kzoo_Deaths_Total)\n",
    "\n",
    "Kzoo_Cases_Percent_of_Pop = Kzoo_Cases_Total/Kalamazoo_Population\n",
    "Kzoo_Deaths_Percent_of_Pop = Kzoo_Deaths_Total/Kalamazoo_Population\n",
    "Kzoo_Cases_Per_Resident = int(1/Kzoo_Cases_Percent_of_Pop)\n",
    "Kzoo_Deaths_Per_Resident = round(1/Kzoo_Deaths_Percent_of_Pop,3)\n",
    "\n",
    "print(\"Kalamazoo County Coronavirus Data for {}\\n\".format(today) + \\\n",
    "      \"-\"*60 + \"\\n\" + \\\n",
    "      \"Total Cases = {}\\n\".format(Kzoo_Cases_Total) + \\\n",
    "      \"Total Deaths = {}\\n\".format(Kzoo_Deaths_Total) + \\\n",
    "      \"Percent of Kalamazoo with COVID = {:.3f}%\\n\".format(Kzoo_Cases_Percent_of_Pop*100) + \\\n",
    "      \"Percent of Kalamazoo deceased from COVID = {:.3f}%\\n\".format(Kzoo_Deaths_Percent_of_Pop*100) + \\\n",
    "      \"Residents per case from COVID = {}\\n\".format(Kzoo_Cases_Per_Resident) + \\\n",
    "      \"Residents per death from COVID = {}\\n\".format(Kzoo_Deaths_Per_Resident))"
   ]
  },
  {
   "cell_type": "code",
   "execution_count": null,
   "metadata": {},
   "outputs": [],
   "source": []
  }
 ],
 "metadata": {
  "kernelspec": {
   "display_name": "Python 3",
   "language": "python",
   "name": "python3"
  },
  "language_info": {
   "codemirror_mode": {
    "name": "ipython",
    "version": 3
   },
   "file_extension": ".py",
   "mimetype": "text/x-python",
   "name": "python",
   "nbconvert_exporter": "python",
   "pygments_lexer": "ipython3",
   "version": "3.8.1"
  }
 },
 "nbformat": 4,
 "nbformat_minor": 4
}
