{
 "cells": [
  {
   "cell_type": "code",
   "execution_count": 1,
   "metadata": {},
   "outputs": [],
   "source": [
    "import numpy as np\n",
    "import time\n",
    "import os\n",
    "from datetime import datetime"
   ]
  },
  {
   "cell_type": "code",
   "execution_count": 2,
   "metadata": {},
   "outputs": [],
   "source": [
    "data = !curl https://www.michigan.gov/coronavirus/0,9753,7-406-98163_98173---,00.html\n",
    "data = np.array(data)"
   ]
  },
  {
   "cell_type": "code",
   "execution_count": 3,
   "metadata": {},
   "outputs": [
    {
     "ename": "IndexError",
     "evalue": "list index out of range",
     "output_type": "error",
     "traceback": [
      "\u001b[1;31m---------------------------------------------------------------------------\u001b[0m",
      "\u001b[1;31mIndexError\u001b[0m                                Traceback (most recent call last)",
      "\u001b[1;32m<ipython-input-3-30d46826c6b8>\u001b[0m in \u001b[0;36m<module>\u001b[1;34m\u001b[0m\n\u001b[0;32m      9\u001b[0m \u001b[0mNiowave_Reporting_Employees\u001b[0m \u001b[1;33m=\u001b[0m \u001b[1;36m65\u001b[0m\u001b[1;33m\u001b[0m\u001b[1;33m\u001b[0m\u001b[0m\n\u001b[0;32m     10\u001b[0m \u001b[1;33m\u001b[0m\u001b[0m\n\u001b[1;32m---> 11\u001b[1;33m \u001b[0mCases_Total\u001b[0m \u001b[1;33m=\u001b[0m \u001b[0mint\u001b[0m\u001b[1;33m(\u001b[0m\u001b[0mIngham_Data\u001b[0m\u001b[1;33m[\u001b[0m\u001b[1;36m1\u001b[0m\u001b[1;33m]\u001b[0m\u001b[1;33m.\u001b[0m\u001b[0msplit\u001b[0m\u001b[1;33m(\u001b[0m\u001b[1;34m'\">'\u001b[0m\u001b[1;33m)\u001b[0m\u001b[1;33m[\u001b[0m\u001b[1;36m1\u001b[0m\u001b[1;33m]\u001b[0m\u001b[1;33m.\u001b[0m\u001b[0mstrip\u001b[0m\u001b[1;33m(\u001b[0m\u001b[1;34m\"</td>\"\u001b[0m\u001b[1;33m)\u001b[0m\u001b[1;33m)\u001b[0m\u001b[1;33m\u001b[0m\u001b[1;33m\u001b[0m\u001b[0m\n\u001b[0m\u001b[0;32m     12\u001b[0m \u001b[0mDeaths_Total\u001b[0m \u001b[1;33m=\u001b[0m \u001b[0mint\u001b[0m\u001b[1;33m(\u001b[0m\u001b[0mIngham_Data\u001b[0m\u001b[1;33m[\u001b[0m\u001b[1;36m2\u001b[0m\u001b[1;33m]\u001b[0m\u001b[1;33m.\u001b[0m\u001b[0msplit\u001b[0m\u001b[1;33m(\u001b[0m\u001b[1;34m'\">'\u001b[0m\u001b[1;33m)\u001b[0m\u001b[1;33m[\u001b[0m\u001b[1;36m1\u001b[0m\u001b[1;33m]\u001b[0m\u001b[1;33m.\u001b[0m\u001b[0mstrip\u001b[0m\u001b[1;33m(\u001b[0m\u001b[1;34m\"</td>\"\u001b[0m\u001b[1;33m)\u001b[0m\u001b[1;33m)\u001b[0m\u001b[1;33m\u001b[0m\u001b[1;33m\u001b[0m\u001b[0m\n\u001b[0;32m     13\u001b[0m \u001b[0mprint\u001b[0m\u001b[1;33m(\u001b[0m\u001b[0mCases_Total\u001b[0m\u001b[1;33m,\u001b[0m \u001b[0mDeaths_Total\u001b[0m\u001b[1;33m)\u001b[0m\u001b[1;33m\u001b[0m\u001b[1;33m\u001b[0m\u001b[0m\n",
      "\u001b[1;31mIndexError\u001b[0m: list index out of range"
     ]
    }
   ],
   "source": [
    "Ingham_Start = 0\n",
    "for num, item in enumerate(data):\n",
    "    if \"Ingham\" in item:\n",
    "        print(item, num)\n",
    "        Ingham_Start = num\n",
    "        break\n",
    "Ingham_Data = data[Ingham_Start:Ingham_Start+5]\n",
    "Ingham_Population = 292406\n",
    "Niowave_Reporting_Employees = 65\n",
    "\n",
    "Cases_Total = int(Ingham_Data[1].split('\">')[1].strip(\"</td>\"))\n",
    "Deaths_Total = int(Ingham_Data[2].split('\">')[1].strip(\"</td>\"))\n",
    "print(Cases_Total, Deaths_Total)"
   ]
  },
  {
   "cell_type": "code",
   "execution_count": 3,
   "metadata": {},
   "outputs": [
    {
     "data": {
      "text/plain": [
       "0.23631544188635867"
      ]
     },
     "execution_count": 3,
     "metadata": {},
     "output_type": "execute_result"
    }
   ],
   "source": [
    "def One_Case_Prob(Cases_In_Pop, Population, N):\n",
    "    \"\"\"\n",
    "    This is a function that calculates the probability that AT LEAST one person has gotten sick given the cases in the local population,\n",
    "        the size of that population, and the number of people in the sample size.\n",
    "        \n",
    "    This is currently being used along with Ingham county and State of Michigan health data to calculate the odds that a reporting employee\n",
    "        to Niowave, Inc. has had or currently has COVID. This function uses basic statistics to determine these probabilites.\n",
    "        \n",
    "    Flow:\n",
    "    Probability of one being sick (P_sick)= Total_Cases_In_Region/Region_Population\n",
    "    Probability of one not being sick P_Healthy= 1 - P_sick\n",
    "    Probability one fails = 1 - (P_Healthy)^N\n",
    "    \"\"\"\n",
    "    P_has = Cases_In_Pop/Population\n",
    "    P_not = 1-P_has\n",
    "    return 1-P_not**(N)\n",
    "\n",
    "Cases = 1192\n",
    "Pop = 292406\n",
    "Employees = 66\n",
    "\n",
    "One_Case_Prob(Cases,Pop, Employees)"
   ]
  },
  {
   "cell_type": "code",
   "execution_count": null,
   "metadata": {},
   "outputs": [],
   "source": [
    "def One_Case_Prob(Cases_In_Pop, Population, N):\n",
    "    \"\"\"\n",
    "    Probability of one being sick (P_sick)= Total_Cases_In_Region/Region_Population\n",
    "    Probability of one not being sick P_Healthy= 1 - P_sick\n",
    "    Probability one fails = 1 - (P_Healthy)^N\n",
    "    \"\"\"\n",
    "    P_has = Cases_In_Pop/Population\n",
    "    P_not = 1-P_has\n",
    "    return 1-P_not**(N)\n",
    "\n",
    "Cases_Percent_of_Pop = Cases_Total/Ingham_Population\n",
    "Deaths_Percent_of_Pop = Deaths_Total/Ingham_Population\n",
    "Cases_Per_Resident = int(1/Cases_Percent_of_Pop)\n",
    "Deaths_Per_Resident = round(1/Deaths_Percent_of_Pop,3)\n",
    "\n",
    "today = datetime.today().strftime('%m/%d/%Y')\n",
    "print(\"Ingham County Coronavirus Data for {}\\n\".format(today) + \\\n",
    "      \"-\"*60 + \"\\n\" + \\\n",
    "      \"Total Cases = {}\\n\".format(Cases_Total) + \\\n",
    "      \"Total Deaths = {}\\n\".format(Deaths_Total) + \\\n",
    "      \"Percent of Ingham with COVID = {:.3f}%\\n\".format(Cases_Percent_of_Pop*100) + \\\n",
    "      \"Percent of Ingham deceased from COVID = {:.3f}%\\n\".format(Deaths_Percent_of_Pop*100) + \\\n",
    "      \"Residents per case from COVID = {}\\n\".format(Cases_Per_Resident) + \\\n",
    "      \"Residents per death from COVID = {}\\n\".format(Deaths_Per_Resident) + \\\n",
    "      \"Percent chance at least one employee has COVID = {:.3f}%\".format(100*One_Case_Prob(Cases_Total, Ingham_Population, Niowave_Reporting_Employees)))"
   ]
  },
  {
   "cell_type": "code",
   "execution_count": null,
   "metadata": {},
   "outputs": [],
   "source": [
    "with open(\"Ingham_COVID_Data.txt\",'a') as file:\n",
    "    file.write(\"Ingham County Coronavirus Data for {}\\n\".format(today) + \\\n",
    "      \"-\"*60 + \"\\n\" + \\\n",
    "      \"Total Cases = {}\\n\".format(Cases_Total) + \\\n",
    "      \"Total Deaths = {}\\n\".format(Deaths_Total) + \\\n",
    "      \"Percent of Ingham with COVID = {:.3f}%\\n\".format(Cases_Percent_of_Pop*100) + \\\n",
    "      \"Percent of Ingham deceased from COVID = {:.3f}%\\n\".format(Deaths_Percent_of_Pop*100) + \\\n",
    "      \"Residents per case from COVID = {}\\n\".format(Cases_Per_Resident) + \\\n",
    "      \"Residents per death from COVID = {}\\n\".format(Deaths_Per_Resident) + \\\n",
    "      \"Percent chance at least one employee has COVID = {:.3f}%\\n\".format(100*One_Case_Prob(Cases_Total, Ingham_Population, Niowave_Reporting_Employees)) + \\\n",
    "      \"-\"*60 + \"\\n\" + \"-\"*60 + '\\n')"
   ]
  },
  {
   "cell_type": "code",
   "execution_count": null,
   "metadata": {},
   "outputs": [],
   "source": [
    "Kalamazoo_Start = 0\n",
    "for num, item in enumerate(data):\n",
    "    if \"Kalamazoo\" in item:\n",
    "        print(item, num)\n",
    "        Kalamazoo_Start = num\n",
    "Kalamazoo_Data = data[Kalamazoo_Start:Kalamazoo_Start+5]\n",
    "Kalamazoo_Population = 265066\n",
    "\n",
    "Kzoo_Cases_Total = int(Kalamazoo_Data[1].split('\">')[1].strip(\"</td>\"))\n",
    "Kzoo_Deaths_Total = int(Kalamazoo_Data[2].split('\">')[1].strip(\"</td>\"))\n",
    "print(Kzoo_Cases_Total, Kzoo_Deaths_Total)\n",
    "\n",
    "#Hello world there is no problem in this code I am just living my life to the fullest. You know how it goes. Just commenting and living.\n",
    "# Here you can see the cases and the population for Kalamazoo\n",
    "\n",
    "Kzoo_Cases_Percent_of_Pop = Kzoo_Cases_Total/Kalamazoo_Population\n",
    "Kzoo_Deaths_Percent_of_Pop = Kzoo_Deaths_Total/Kalamazoo_Population\n",
    "Kzoo_Cases_Per_Resident = int(1/Kzoo_Cases_Percent_of_Pop)\n",
    "Kzoo_Deaths_Per_Resident = round(1/Kzoo_Deaths_Percent_of_Pop,3)\n",
    "\n",
    "print(\"Kalamazoo County Coronavirus Data for {}\\n\".format(today) + \\\n",
    "      \"-\"*60 + \"\\n\" + \\\n",
    "      \"Total Cases = {}\\n\".format(Kzoo_Cases_Total) + \\\n",
    "      \"Total Deaths = {}\\n\".format(Kzoo_Deaths_Total) + \\\n",
    "      \"Percent of Kalamazoo with COVID = {:.3f}%\\n\".format(Kzoo_Cases_Percent_of_Pop*100) + \\\n",
    "      \"Percent of Kalamazoo deceased from COVID = {:.3f}%\\n\".format(Kzoo_Deaths_Percent_of_Pop*100) + \\\n",
    "      \"Residents per case from COVID = {}\\n\".format(Kzoo_Cases_Per_Resident) + \\\n",
    "      \"Residents per death from COVID = {}\\n\".format(Kzoo_Deaths_Per_Resident))\n",
    "\n",
    "with open(\"Kalamazoo_COVID_Data.txt\",'a') as file:\n",
    "    file.write(\"Kalamazoo County Coronavirus Data for {}\\n\".format(today) + \\\n",
    "      \"-\"*60 + \"\\n\" + \\\n",
    "      \"Total Cases = {}\\n\".format(Kzoo_Cases_Total) + \\\n",
    "      \"Total Deaths = {}\\n\".format(Kzoo_Deaths_Total) + \\\n",
    "      \"Percent of Kalamazoo with COVID = {:.3f}%\\n\".format(Kzoo_Cases_Percent_of_Pop*100) + \\\n",
    "      \"Percent of Kalamazoo deceased from COVID = {:.3f}%\\n\".format(Kzoo_Deaths_Percent_of_Pop*100) + \\\n",
    "      \"Residents per case from COVID = {}\\n\".format(Kzoo_Cases_Per_Resident) + \\\n",
    "      \"Residents per death from COVID = {}\\n\".format(Kzoo_Deaths_Per_Resident) + \\\n",
    "      \"-\"*60 + \"\\n\" + \"-\"*60 + '\\n')"
   ]
  },
  {
   "cell_type": "code",
   "execution_count": 3,
   "metadata": {},
   "outputs": [],
   "source": [
    "import matplotlib.pyplot as plt\n",
    "import numpy as np\n",
    "import time\n",
    "import os\n",
    "from datetime import datetime"
   ]
  },
  {
   "cell_type": "code",
   "execution_count": 8,
   "metadata": {},
   "outputs": [],
   "source": [
    "data = []\n",
    "for people in np.linspace(0,25000, 100):\n",
    "    data.append([people, One_Case_Prob(people,Pop, Employees)])\n",
    "data = np.array(data)"
   ]
  },
  {
   "cell_type": "code",
   "execution_count": 11,
   "metadata": {},
   "outputs": [
    {
     "name": "stdout",
     "output_type": "stream",
     "text": [
      "0.20390275129966084\n"
     ]
    },
    {
     "data": {
      "text/plain": [
       "<matplotlib.legend.Legend at 0xcd14c40>"
      ]
     },
     "execution_count": 11,
     "metadata": {},
     "output_type": "execute_result"
    },
    {
     "data": {
      "image/png": "[encoded data removed]",
      "text/plain": [
       "<Figure size 1080x864 with 1 Axes>"
      ]
     },
     "metadata": {
      "needs_background": "light"
     },
     "output_type": "display_data"
    }
   ],
   "source": [
    "import matplotlib.pyplot as plt\n",
    "\n",
    "\n",
    "today = datetime.today().strftime('%m/%d/%Y')\n",
    "Niowave_Chances = One_Case_Prob(Cases,Pop, Employees)\n",
    "print(Niowave_Chances)\n",
    "plt.figure(figsize = (15,12))\n",
    "plt.ylabel(\"Probability one employee has COVID\")\n",
    "plt.xlabel(\"Total Cases in Ingham County\")\n",
    "plt.title(\"Where we lie for one employee to have COVID chances on {}\".format(today))\n",
    "plt.plot(data[:,0], data[:,1], label = \"Probability curve\")\n",
    "plt.grid(True,alpha = 0.25,which = 'both',color = 'gray') #Making a grid\n",
    "plt.scatter(Cases, Niowave_Chances, \\\n",
    "            alpha = 0.5, color = 'chocolate', label = \"Where we are now\")\n",
    "plt.annotate(s = \"{}\".format(today), xy = [Cases*1.1, Niowave_Chances], alpha = 0.5)\n",
    "plt.minorticks_on() #Setting the minor ticks\n",
    "plt.legend()"
   ]
  },
  {
   "cell_type": "code",
   "execution_count": null,
   "metadata": {},
   "outputs": [],
   "source": []
  }
 ],
 "metadata": {
  "kernelspec": {
   "display_name": "Python 3",
   "language": "python",
   "name": "python3"
  },
  "language_info": {
   "codemirror_mode": {
    "name": "ipython",
    "version": 3
   },
   "file_extension": ".py",
   "mimetype": "text/x-python",
   "name": "python",
   "nbconvert_exporter": "python",
   "pygments_lexer": "ipython3",
   "version": "3.8.1"
  }
 },
 "nbformat": 4,
 "nbformat_minor": 4
}
