{
 "cells": [
  {
   "cell_type": "markdown",
   "metadata": {},
   "source": [
    "# DBA Autotune\n",
    "#### Method\n",
    "\n",
    "Using Kevin Xu's beam tracking software, we can tune in the DBA automatically according to the rules set forth for the DBA tuning process to ensure a focused and tight beam by the time we reach the cavity. Some of the benefits here will be on the fly tuning so that we can check the DBA setup. We could also do this at different emissions so that we have different conditions in which we are tuning on. This file will be an executable so that it will not run in the background.\n",
    "\n",
    "Method to follow:\n",
    "\n",
    "    - This is going to be tough but hear me out.\n",
    "    - We will require the beam to be on the aperture. Then we are going to loop through to check the following conditions\n",
    "    - When toggling solenoid two, the beam does not move, the beam should simply rotate slightly, there is something to be said of the rotation but what that is I am not sure."
   ]
  },
  {
   "cell_type": "code",
   "execution_count": 1,
   "metadata": {},
   "outputs": [
    {
     "name": "stdout",
     "output_type": "stream",
     "text": [
      "The calculated values for the magnets are the following:\n",
      "\n",
      "Dipole 1: 1.000 Amps\n",
      "Dipole 2: 1.000 Amps\n",
      "Solenoid 1: -1.660 Amps\n",
      "Solenoid 2: -1.932 Amps\n",
      "Solenoid 3: 1.079 Amps\n"
     ]
    },
    {
     "data": {
      "text/plain": [
       "(1, 1, -1.6598, -1.9319, 1.079)"
      ]
     },
     "execution_count": 1,
     "metadata": {},
     "output_type": "execute_result"
    }
   ],
   "source": [
    "def Magnet_Calculations(Energy):\n",
    "    \n",
    "    # Here we have the required calculated amperage per kG for each magnet type. The ratios below are a G ratio, not an Amperage ratio\n",
    "    \n",
    "    Sol_1_ApkG = 1\n",
    "    Sol_2_ApKG = 1\n",
    "    DP1_ApkG = 1\n",
    "    DP2_ApkG = 1\n",
    "    Sol_3_ApkG = 1\n",
    "    \n",
    "    #### Now establish the strengths assuming linear field strength with amperage\n",
    "    #### We are going to use the dipoles as our baseline, since the solenoids should scale with these values\n",
    "    \n",
    "    # --- Ratios\n",
    "    \n",
    "    DP_Guass_Calc = 200\n",
    "    \n",
    "    DP1_Calc = 1\n",
    "    DP2_Calc = 1\n",
    "    Sol_1_Calc = -1.6598\n",
    "    Sol_2_Calc = -1.9319\n",
    "    Sol_3_Calc = 1.079\n",
    "    \n",
    "    print(\"The calculated values for the magnets are the following:\\n\\n\" \\\n",
    "          \"Dipole 1: {:.3f} Amps\\n\"\n",
    "          \"Dipole 2: {:.3f} Amps\\n\"\n",
    "          \"Solenoid 1: {:.3f} Amps\\n\"\n",
    "          \"Solenoid 2: {:.3f} Amps\\n\"\n",
    "          \"Solenoid 3: {:.3f} Amps\".format(DP1_Calc, DP2_Calc, Sol_1_Calc, Sol_2_Calc, Sol_3_Calc) \n",
    "         )\n",
    "    \n",
    "    return DP1_Calc, DP2_Calc, Sol_1_Calc, Sol_2_Calc, Sol_3_Calc\n",
    "\n",
    "Magnet_Calculations(115)"
   ]
  },
  {
   "cell_type": "code",
   "execution_count": 3,
   "metadata": {},
   "outputs": [],
   "source": [
    "def Injector_Energy_Deg(Angle_of_Rotation, Amps):\n",
    "    '''\n",
    "    Inputs:\n",
    "        - Angle_of_Rotation: Angle, in degrees, of the observed rotation\n",
    "        - Amps: Amps of solenoid 2 setting for the observed rotation\n",
    "    '''\n",
    "    \n",
    "    # Defining our constants\n",
    "    \n",
    "    Conversion_Factor = 1000\n",
    "    M_Electron_keV = 510.9989461\n",
    "    Speed_of_Light = 299792458\n",
    "    \n",
    "    # Observed constants\n",
    "    Solenoid_2_Tesla_per_Amps = 0.01036\n",
    "    Effective_Length = 0.069\n",
    "    \n",
    "    Term_1 = (0.5)*(Speed_of_Light)/(Conversion_Factor)/(np.deg2rad(Angle_of_Rotation))*(Solenoid_2_Tesla_per_Amps)*(Amps)*(Effective_Length)\n",
    "    Term_2 = M_Electron_keV\n",
    "    \n",
    "    Calculated_Energy = np.sqrt(Term_1**2 + Term_2**2) - M_Electron_keV\n",
    "    \n",
    "    print(\"Sol 2 {0:.3f} Amps has Beam Energy = {1:.2f} keV\".format(Amps,Calculated_Energy))\n",
    "    return Calculated_Energy"
   ]
  },
  {
   "cell_type": "code",
   "execution_count": 4,
   "metadata": {},
   "outputs": [],
   "source": [
    "def Toggle(Client, Tag_Number):\n",
    "    '''\n",
    "    -----#########-----\n",
    "       NEEDS TESTING\n",
    "    -----#########-----\n",
    "    \n",
    "    Inputs:\n",
    "        - Client: See Master\n",
    "        - Tag_Number: Binary Tag number that we will be toggling\n",
    "    \n",
    "    Function:\n",
    "        If the Tag that we read is off (0) then it will immediately write (1) to the register\n",
    "        Otherwise, if (1), then it will immediately write (0).\n",
    "        \n",
    "    Warning: If a value is non-binary, there will be a 1 Written to that tag immediately.\n",
    "        i.e. proceed with caution\n",
    "    \n",
    "    '''\n",
    "    \n",
    "    \n",
    "    M.Write(Client, Tag_Number, (M.Read(Client,Tag_Number) == False, Bool = True), Bool = True)\n",
    "    \n",
    "    return"
   ]
  },
  {
   "cell_type": "markdown",
   "metadata": {},
   "source": [
    "## Process:\n",
    "\n",
    "#### Establish Beam:\n",
    "    - Human operator here:\n",
    "        - Use solenoid 1 and Dipole 1 to put beam onto the selection aperture\n",
    "        - Keep solenoid 2 off\n",
    "#### Center Through Solenoid 1:\n",
    "    - Move Window Frame 1 and Window Frame 2 Until the following conditions are met:\n",
    "        - When Toggling Solenoid 1, the beam does not move\n",
    "        - When Scanning Solenoid 1, the beam does not move\n",
    "    - Place the beam in the center of the aperture using Dipole 1\n",
    "    - Set solenoid 1 to minimize the beam at the edge of the aperture\n",
    "#### Set Solenoid 2 to focus angle:\n",
    "    - Take the start angle of the beam\n",
    "    - Adjust Solenoid 2 until we reach an angle of 41 degrees off axis\n",
    "#### Adjust Solenoid 1 to focus on the aperture:\n",
    "    - Here we are looking to reduce the head of the beam to as small as possible. This can be done in the following ways:\n",
    "        - Potentially a FWHM Calculation of the beam head at it's brightest spot\n",
    "        - The length of the beam head, using pixel count\n",
    "        - This could also be left out and done manually\n",
    "#### Set Dipole 2:\n",
    "    - Solenoids 1 and 2, and Dipole 1 is fixed\n",
    "    - Set Ddipole 2 to the same value as Dipole 1\n",
    "\n",
    "#### (Optional) Adjust Solenoid 3 to the calculated ratio of magnetic field strength.\n",
    "    - Calculate the required B-Field for focusing condition to be met\n",
    "    - Ramp the magnet there, this will just act as a starting point"
   ]
  },
  {
   "cell_type": "code",
   "execution_count": 18,
   "metadata": {},
   "outputs": [],
   "source": [
    "def Solenoid_1_Check(Client, Solenoid_Tag, Solenoid_Toggle_Tag, Optimize = True):\n",
    "    \n",
    "    Sol_1_Start = M.Read(Client, Solenoid_Tag)\n",
    "    Sol_1_Toggle_Status = M.Read(Solenoid_Toggle_Tag)\n",
    "    \n",
    "    #################\n",
    "    #---- Here I will add in the ability to read the vector from img processing\n",
    "    #-------- This needs A LOT of work still\n",
    "    #################\n",
    "    \n",
    "    #Check if it moves when toggling\n",
    "    \n",
    "    Start_Position = False\n",
    "    \n",
    "    Toggle(Client, Solenoid_Toggle_Tag)\n",
    "    \n",
    "    Toggled_Position = False\n",
    "    \n",
    "    if Toggled_Position is not Start_Position:\n",
    "        \n",
    "        return False\n",
    "        \n",
    "    else: \n",
    "        Data = M.Scan_Two_Way(Client, Solenoid_Tag, Sol_1_Start + 1)\n",
    "        \n",
    "        if Data is not True:\n",
    "            return False\n",
    "            \n",
    "            \n",
    "    #Check in Data where the beam is the smallest\n",
    "    \n",
    "    Focused_Beam_Spot = False\n",
    "    \n",
    "    if Optimize == True:\n",
    "        M.Ramp_One_Way(Client, Focused_Beam_Spot)\n",
    "    \n",
    "    return True\n",
    "\n",
    "def Solenoid_Image_Sweep(Client, Camera, Solenoid_Tag, Bottom_Amps, Top_Amps, N_each_way = 2):\n",
    "    \n",
    "    Camera = 0 #Stuff you would define from earlier and input into this function\n",
    "    exposure = 1/3\n",
    "    gain = 480\n",
    "    \n",
    "    Sol_Start = M.Read(Client, Solenoid_Tag)\n",
    "    \n",
    "    start_time =  datetime.today().strftime('%y%m%d_%H%M%S')\n",
    "    filename = \"{}_{:.3f}A.bmp\".format(start_time, Sol_Start)\n",
    "    \n",
    "    M.snap(Camera, exposure, gain, filename) #Takes the starting, focused image\n",
    "    \n",
    "    for i in range(1,N_each_way+1):\n",
    "        '''\n",
    "        This loop takes N_each_way images as the solenoid overfocuses the beam. The images\n",
    "            are equally spaced up through Top_Amps\n",
    "        '''\n",
    "        temp_position = Sol_Start + (Top_Amps - Sol_Start)*(i/N_each_way)\n",
    "        \n",
    "        M.Write(Client, Solenoid_Tag, temp_position)\n",
    "        \n",
    "        time.sleep(exposure * 2)\n",
    "        \n",
    "        M.snap(Camera, exposure, gain, \"{}_{:.3f}A.bmp\".format(start_time, temp_position))\n",
    "        \n",
    "    M.Write(Client, Solenoid_Tag, Sol_Start) #Write back to start\n",
    "    \n",
    "    for i in range(1,N_each_way+1):\n",
    "        \n",
    "        temp_position = Sol_Start - (Bottom - Sol_Start)*(i/N_each_way)\n",
    "        \n",
    "        M.Write(Client, Solenoid_Tag, temp_position)\n",
    "        \n",
    "        time.sleep(exposure * 2)\n",
    "        \n",
    "        M.snap(Camera, exposure, gain, \"{}_{:.3f}A.bmp\".format(start_time, temp_position))\n",
    "        \n",
    "    M.Write(Client, Solenoid_Tag, Sol_Start)\n",
    "    \n",
    "def Window_Frame_Mover(Client,Tag1, Tag2, Location1, Location2):\n",
    "    return"
   ]
  },
  {
   "cell_type": "code",
   "execution_count": 16,
   "metadata": {},
   "outputs": [
    {
     "name": "stdout",
     "output_type": "stream",
     "text": [
      "200916_151806_1.123A.bmp\n"
     ]
    }
   ],
   "source": [
    "from datetime import datetime\n",
    "Sol_Start = 1.12349801234098\n",
    "exposure = 1.3\n",
    "gain = 480.12341234512345\n",
    "start_time =  datetime.today().strftime('%y%m%d_%H%M%S')\n",
    "filename = \"{}_{:.3f}A.bmp\".format(start_time, Sol_Start)\n",
    "print(filename)"
   ]
  },
  {
   "cell_type": "markdown",
   "metadata": {},
   "source": [
    "### This part is going to be difficult\n",
    "#### We are now going to figure out how to move Window Frames 1 and 2\n",
    "\n",
    "Something that I think will help is if the Solnoid check could somehow look how far the bean moved if at all. Maybe don't make this pass or fail, instead show a quantitative value with the potential of having a pass condition in the future."
   ]
  },
  {
   "cell_type": "markdown",
   "metadata": {},
   "source": [
    "#### WF Mover algorithm\n",
    "    - Do a Solenoid check\n",
    "    - Perturb in one direction by a substantial amount by doing multiple solenoid checks, maybe 3-10 at a time\n",
    "    - Look at the trend but perturb the other way anyway.\n",
    "    - Look at the overall trend, reduce the resolution, and try to perturb in smaller steps, but change the axis\n",
    "    - We could either make this intelligent or we could make it stupid. Either way it's an optimization problem.\n",
    "    - Do a solenoid check"
   ]
  },
  {
   "cell_type": "code",
   "execution_count": 6,
   "metadata": {},
   "outputs": [],
   "source": [
    "# Code goes here \n",
    "#\n",
    "#\n",
    "#\n",
    "#\n",
    "#\n",
    "#"
   ]
  },
  {
   "cell_type": "markdown",
   "metadata": {},
   "source": [
    "## Once this is optimized and/or passes:::\n",
    "#### Move on to the Sol 2 Angle check, this is entirely different as this is a pass/fail condition\n",
    "    - Scan Solenoid 2 slowly and methodically, comparing to the first angle\n",
    "    - Once Solenoid 2 is within 41.5 degrees, take all possible points where this is the case\n",
    "    - Go to the closest value to 41.5 degrees"
   ]
  },
  {
   "cell_type": "code",
   "execution_count": 7,
   "metadata": {},
   "outputs": [],
   "source": [
    "# Code goes here\n",
    "#\n",
    "#\n",
    "#\n",
    "#\n",
    "#\n",
    "#"
   ]
  },
  {
   "cell_type": "markdown",
   "metadata": {},
   "source": [
    "## Scan Solenoid 1 until smallest\n",
    "    - Scan solenoid 1 until it is the smallest"
   ]
  },
  {
   "cell_type": "code",
   "execution_count": 8,
   "metadata": {},
   "outputs": [],
   "source": [
    "# Code goes here\n",
    "#\n",
    "#\n",
    "#\n",
    "#\n",
    "#\n",
    "#"
   ]
  },
  {
   "cell_type": "markdown",
   "metadata": {},
   "source": [
    "## Calculate the optimal setting of Solenoid 3 here, then ramp it to that value"
   ]
  },
  {
   "cell_type": "code",
   "execution_count": 9,
   "metadata": {},
   "outputs": [],
   "source": [
    "Solenoid_3_Tag = Tags.Sol3"
   ]
  },
  {
   "cell_type": "code",
   "execution_count": 49,
   "metadata": {},
   "outputs": [
    {
     "data": {
      "text/latex": [
       "$\\displaystyle \\left[\\begin{matrix}0\\\\0\\\\0\\\\0\\end{matrix}\\right]$"
      ],
      "text/plain": [
       "⎡0⎤\n",
       "⎢ ⎥\n",
       "⎢0⎥\n",
       "⎢ ⎥\n",
       "⎢0⎥\n",
       "⎢ ⎥\n",
       "⎣0⎦"
      ]
     },
     "execution_count": 49,
     "metadata": {},
     "output_type": "execute_result"
    }
   ],
   "source": [
    "import numpy as np\n",
    "import scipy as sp\n",
    "import scipy.linalg as linalg\n",
    "from sympy import *\n",
    "init_printing(use_unicode=True)\n",
    "\n",
    "Phi = 'k-lhat'\n",
    "Phi = 0\n",
    "k = np.pi\n",
    "\n",
    "initial = np.matrix([['x_i'],['xprime_i'],['y_i'],['yprime_i']])\n",
    "final = np.matrix([['x_f'],['xprime_f'],['y_f'],['yprime_f']])\n",
    "M = np.matrix([['cos(Phi)^2', '1/(2*k)*sin(2*Phi)', '1/2*sin(Phi)', '1/(k)*sin(Phi)^2'],\n",
    "              ['-k/2*sin(2*Phi)', 'cos(Phi)^2', '-k*sin(Phi)^2', '1/2*sin(2*Phi)'],\n",
    "              ['-1/2*sin(2*Phi)','(-1/k)*sin(Phi)^2','cos(Phi)^2','(1/(2*k))*sin(2*Phi)'],\n",
    "              ['k*sin(Phi)^2','(-1/2)*sin(2*Phi)','(-k/2)*sin(2*Phi)','cos(Phi)^2']])\n",
    "Matrix(np.matrix([[0],[0],[0],[0]]))"
   ]
  },
  {
   "cell_type": "code",
   "execution_count": null,
   "metadata": {},
   "outputs": [],
   "source": []
  }
 ],
 "metadata": {
  "kernelspec": {
   "display_name": "Python 3",
   "language": "python",
   "name": "python3"
  },
  "language_info": {
   "codemirror_mode": {
    "name": "ipython",
    "version": 3
   },
   "file_extension": ".py",
   "mimetype": "text/x-python",
   "name": "python",
   "nbconvert_exporter": "python",
   "pygments_lexer": "ipython3",
   "version": "3.8.1"
  }
 },
 "nbformat": 4,
 "nbformat_minor": 4
}
