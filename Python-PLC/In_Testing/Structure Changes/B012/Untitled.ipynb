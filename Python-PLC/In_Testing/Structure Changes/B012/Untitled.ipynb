{
 "cells": [
  {
   "cell_type": "code",
   "execution_count": 1,
   "id": "stunning-following",
   "metadata": {},
   "outputs": [],
   "source": [
    "import matplotlib.pyplot as plt\n",
    "from datetime import datetime\n",
    "import time\n",
    "import numpy as np\n",
    "import matplotlib as mpl\n",
    "import xlsxwriter\n",
    "import glob\n",
    "import os\n",
    "import pandas as pd\n",
    "#import Master as M\n",
    "\n",
    "import sys\n",
    "# insert at 1, 0 is the script path (or '' in REPL)\n",
    "sys.path.insert(1, '..\\\\')\n",
    "\n",
    "import Master as M\n",
    "import Tag_Database_West as Tags"
   ]
  },
  {
   "cell_type": "code",
   "execution_count": 2,
   "id": "preliminary-spain",
   "metadata": {},
   "outputs": [],
   "source": [
    "Client = M.Make_Client('10.50.0.10')\n",
    "now = datetime.today().strftime('%y%m%d_%H%M%S') #Taking the current time in YYMMDD_HHmm format to save the plot and the txt file\n",
    "var, data  = M.Snapshot(Client, Tunnel = 'west', filename = '{}_run_params.txt'.format(now), save = False, feedback=True)"
   ]
  },
  {
   "cell_type": "code",
   "execution_count": 29,
   "id": "increased-favorite",
   "metadata": {},
   "outputs": [
    {
     "name": "stdout",
     "output_type": "stream",
     "text": [
      "188 188\n"
     ]
    },
    {
     "data": {
      "text/html": [
       "<div>\n",
       "<style scoped>\n",
       "    .dataframe tbody tr th:only-of-type {\n",
       "        vertical-align: middle;\n",
       "    }\n",
       "\n",
       "    .dataframe tbody tr th {\n",
       "        vertical-align: top;\n",
       "    }\n",
       "\n",
       "    .dataframe thead th {\n",
       "        text-align: right;\n",
       "    }\n",
       "</style>\n",
       "<table border=\"1\" class=\"dataframe\">\n",
       "  <thead>\n",
       "    <tr style=\"text-align: right;\">\n",
       "      <th></th>\n",
       "      <th>Values</th>\n",
       "      <th>Tag</th>\n",
       "      <th>Modbus Address</th>\n",
       "    </tr>\n",
       "  </thead>\n",
       "  <tbody>\n",
       "    <tr>\n",
       "      <th>0</th>\n",
       "      <td>0.0</td>\n",
       "      <td>WF1V</td>\n",
       "      <td>20201</td>\n",
       "    </tr>\n",
       "    <tr>\n",
       "      <th>1</th>\n",
       "      <td>0.0</td>\n",
       "      <td>WF2V</td>\n",
       "      <td>20203</td>\n",
       "    </tr>\n",
       "    <tr>\n",
       "      <th>2</th>\n",
       "      <td>0.0</td>\n",
       "      <td>WF3V</td>\n",
       "      <td>20205</td>\n",
       "    </tr>\n",
       "    <tr>\n",
       "      <th>3</th>\n",
       "      <td>0.0</td>\n",
       "      <td>WF4V</td>\n",
       "      <td>20207</td>\n",
       "    </tr>\n",
       "    <tr>\n",
       "      <th>4</th>\n",
       "      <td>0.0</td>\n",
       "      <td>WF5V</td>\n",
       "      <td>20209</td>\n",
       "    </tr>\n",
       "  </tbody>\n",
       "</table>\n",
       "</div>"
      ],
      "text/plain": [
       "   Values   Tag Modbus Address\n",
       "0     0.0  WF1V          20201\n",
       "1     0.0  WF2V          20203\n",
       "2     0.0  WF3V          20205\n",
       "3     0.0  WF4V          20207\n",
       "4     0.0  WF5V          20209"
      ]
     },
     "execution_count": 29,
     "metadata": {},
     "output_type": "execute_result"
    }
   ],
   "source": [
    "print(len(var), len(data[0]))\n",
    "# for a,b in zip(var, data[0]):\n",
    "#     print(f'{a}: {b}')\n",
    "    \n",
    "snapshot_df = pd.DataFrame(var, data[0])\n",
    "snapshot_df.reset_index(inplace=True)\n",
    "snapshot_df.columns = ['Values','Tag','Modbus Address']\n",
    "\n",
    "snapshot_df.head()"
   ]
  },
  {
   "cell_type": "code",
   "execution_count": 40,
   "id": "pressing-repeat",
   "metadata": {},
   "outputs": [],
   "source": [
    "import re"
   ]
  },
  {
   "cell_type": "code",
   "execution_count": 41,
   "id": "forward-assumption",
   "metadata": {},
   "outputs": [],
   "source": [
    "thing = 'OS_Address: GPIB0::1::INSTR'\n",
    "current_param = thing.strip(\"\\n\").replace(\" \",\"\").split(\": \")\n",
    "a = re.split(\":\\s{1}\", \"OS_Address: GPIB0::1::INSTR\")"
   ]
  },
  {
   "cell_type": "code",
   "execution_count": 42,
   "id": "uniform-argentina",
   "metadata": {},
   "outputs": [
    {
     "name": "stdout",
     "output_type": "stream",
     "text": [
      "27 <class 'str'> OS_Address: GPIB0::1::INSTR\n",
      "2 <class 'list'> ['OS_Address', 'GPIB0::1::INSTR']\n"
     ]
    }
   ],
   "source": [
    "print(len(thing), type(thing), thing)\n",
    "print(len(a), type(a), a)"
   ]
  },
  {
   "cell_type": "code",
   "execution_count": null,
   "id": "surgical-generator",
   "metadata": {},
   "outputs": [],
   "source": []
  }
 ],
 "metadata": {
  "kernelspec": {
   "display_name": "Python 3",
   "language": "python",
   "name": "python3"
  },
  "language_info": {
   "codemirror_mode": {
    "name": "ipython",
    "version": 3
   },
   "file_extension": ".py",
   "mimetype": "text/x-python",
   "name": "python",
   "nbconvert_exporter": "python",
   "pygments_lexer": "ipython3",
   "version": "3.9.2"
  }
 },
 "nbformat": 4,
 "nbformat_minor": 5
}
