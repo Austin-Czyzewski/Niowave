{
 "cells": [
  {
   "cell_type": "code",
   "execution_count": 23,
   "metadata": {},
   "outputs": [
    {
     "name": "stdout",
     "output_type": "stream",
     "text": [
      "--------------------Dipole Scans--------------------\n",
      "['West', '10.50.0.10', 0.05, 1, 0.001, 20, 50] \n",
      " [<class 'str'>, <class 'str'>, <class 'float'>, <class 'int'>, <class 'float'>, <class 'int'>, <class 'int'>]\n",
      "--------------------Dog Legs--------------------\n",
      "['West', '10.50.0.10', 60.0, 40, True, 10, 20] \n",
      " [<class 'str'>, <class 'str'>, <class 'float'>, <class 'int'>, <class 'bool'>, <class 'int'>, <class 'int'>]\n",
      "--------------------IF Regulation--------------------\n",
      "['West', '10.50.0.10', 3, 4, 0.02, True, 2, 30, 20, 100000000.0, 0.5, 0.5, 0.04, 0.01, 40.0, 1, 6] \n",
      " [<class 'str'>, <class 'str'>, <class 'int'>, <class 'int'>, <class 'float'>, <class 'bool'>, <class 'int'>, <class 'int'>, <class 'int'>, <class 'float'>, <class 'float'>, <class 'float'>, <class 'float'>, <class 'float'>, <class 'float'>, <class 'int'>, <class 'int'>]\n",
      "--------------------Cutoff--------------------\n",
      "['West', '10.50.0.10', 50, 6, 6] \n",
      " [<class 'str'>, <class 'str'>, <class 'int'>, <class 'int'>, <class 'int'>]\n",
      "--------------------Gun Walker--------------------\n",
      "[\"'West'\", \"'10.50.0.10'\", 350110000.0, 3000.0, 350.0, 0.025, 0.25, 500.0, 290.0, 10, 16] \n",
      " [<class 'str'>, <class 'str'>, <class 'float'>, <class 'float'>, <class 'float'>, <class 'float'>, <class 'float'>, <class 'float'>, <class 'float'>, <class 'int'>, <class 'int'>]\n"
     ]
    }
   ],
   "source": [
    "def config_reader(file, config_type):\n",
    "    '''\n",
    "    LOI: Lines of interest, these are the lines with the data. In them.\n",
    "    '''\n",
    "    Lines = []\n",
    "    try:\n",
    "        with open(file, 'r') as f:\n",
    "            for line in f:\n",
    "                Lines.append(line)\n",
    "    except:\n",
    "        print(\"Error in the filename, please check the file name and make sure it is in the current directory\")\n",
    "        return \n",
    "            \n",
    "    if config_type == \"Dipole Scan\":\n",
    "        LOI = Lines[2:10]\n",
    "        Parameters = []\n",
    "        for param in LOI:\n",
    "            if param == \"\\n\":\n",
    "                continue\n",
    "            current_param = param.strip(\"\\n\").replace(\" \",\"\").split(\":\")\n",
    "            try:\n",
    "                if ('Runs' in current_param[0]) or ('count' in current_param[0]):\n",
    "                    Parameters.append(int(current_param[1]))   \n",
    "                else:\n",
    "                    Parameters.append(float(current_param[1]))\n",
    "            except:\n",
    "                Parameters.append(current_param[1])\n",
    "        return Parameters\n",
    "    \n",
    "    if config_type == \"Dog Leg\":\n",
    "        LOI = Lines[2:10]\n",
    "        Parameters = []\n",
    "        for param in LOI:\n",
    "            if param == \"\\n\":\n",
    "                continue\n",
    "            current_param = param.strip(\"\\n\").replace(\" \",\"\").split(\":\")\n",
    "            try:\n",
    "                if ('Steps' in current_param[0]) or ('count' in current_param[0]):\n",
    "                    Parameters.append(int(current_param[1]))   \n",
    "                else:\n",
    "                    Parameters.append(float(current_param[1]))\n",
    "            except:\n",
    "                if (current_param[1].lower() == \"false\") or (current_param[1].lower() == \"true\"):\n",
    "                    Parameters.append('true' in current_param[1].lower())\n",
    "                else:\n",
    "                    Parameters.append(current_param[1])\n",
    "        return Parameters\n",
    "    \n",
    "    if config_type == \"IF Regulation\":\n",
    "        LOI = Lines[2:20]\n",
    "        Parameters = []\n",
    "        for param in LOI:\n",
    "            if param == \"\\n\":\n",
    "                continue\n",
    "            current_param = param.strip(\"\\n\").replace(\" \",\"\").split(\":\")\n",
    "            try:\n",
    "                if ('Channel' in current_param[0]) or ('Measurement' in current_param[0])\\\n",
    "                or ('size' in current_param[0]) or ('Debounce' in current_param[0]):\n",
    "                    Parameters.append(int(current_param[1]))   \n",
    "                else:\n",
    "                    Parameters.append(float(current_param[1]))\n",
    "            except:\n",
    "                if (current_param[1].lower() == \"false\") or (current_param[1].lower() == \"true\"):\n",
    "                    Parameters.append('true' in current_param[1].lower())\n",
    "                else:\n",
    "                    Parameters.append(current_param[1])\n",
    "        return Parameters\n",
    "    \n",
    "    if config_type == \"Cutoffs\":\n",
    "        LOI = Lines[2:8]\n",
    "        Parameters = []\n",
    "        for param in LOI:\n",
    "            if param == \"\\n\":\n",
    "                continue\n",
    "            current_param = param.strip(\"\\n\").replace(\" \",\"\").split(\":\")\n",
    "            try:\n",
    "                if ('V0' in current_param[0]) or ('sawtooths' in current_param[0]):\n",
    "                    Parameters.append(int(current_param[1]))   \n",
    "                else:\n",
    "                    Parameters.append(float(current_param[1]))\n",
    "            except:\n",
    "                if (current_param[1].lower() == \"false\") or (current_param[1].lower() == \"true\"):\n",
    "                    Parameters.append('true' in current_param[1].lower())\n",
    "                else:\n",
    "                    Parameters.append(current_param[1])\n",
    "        return Parameters\n",
    "    \n",
    "    if config_type == \"Gun Walker\":\n",
    "        LOI = Lines[2:16]\n",
    "        Parameters = []\n",
    "        for param in LOI:\n",
    "            if param == \"\\n\":\n",
    "                continue\n",
    "            current_param = param.strip(\"\\n\").replace(\" \",\"\").split(\":\")\n",
    "            try:\n",
    "                if ('GPIB' in current_param[0]):\n",
    "                    Parameters.append(int(current_param[1]))   \n",
    "                else:\n",
    "                    Parameters.append(float(current_param[1]))\n",
    "            except:\n",
    "                if (current_param[1].lower() == \"false\") or (current_param[1].lower() == \"true\"):\n",
    "                    Parameters.append('true' in current_param[1].lower())\n",
    "                else:\n",
    "                    Parameters.append(current_param[1])\n",
    "        return Parameters\n",
    "    \n",
    "    print(\"Error in the type of config file. \\n\\\n",
    "Please use one of the following verbose:\\n------------\\nDipole Scan\\nDog Leg\\n\\\n",
    "IF Regulation\\nCutoffs\\nGun Walker\\n------------\")\n",
    "    return \"\"\n",
    "\n",
    "\n",
    "\n",
    "print('-'* 20 + 'Dipole Scans' + '-'*20)\n",
    "DPS_Params = config_reader('dp1_scan_config.txt', 'Dipole Scan')\n",
    "print(DPS_Params,'\\n',[type(x) for x in DPS_Params])\n",
    "print('-'* 20 + 'Dog Legs' + '-'*20)\n",
    "DL_Params = config_reader('dog_leg_config.txt', 'Dog Leg')\n",
    "print(DL_Params,'\\n',[type(x) for x in DL_Params])\n",
    "print('-'* 20 + 'IF Regulation' + '-'*20)\n",
    "IF_Params = config_reader('if_regulation_config.txt', 'IF Regulation')\n",
    "print(IF_Params,'\\n',[type(x) for x in IF_Params])\n",
    "print('-'* 20 + 'Cutoff' + '-'*20)\n",
    "C_Params = config_reader('cutoff_config.txt', 'Cutoffs')\n",
    "print(C_Params,'\\n',[type(x) for x in C_Params])\n",
    "print('-'* 20 + 'Gun Walker' + '-'*20)\n",
    "GW_Params = config_reader('gun_walker_config.txt', 'Gun Walker')\n",
    "print(GW_Params,'\\n',[type(x) for x in GW_Params])"
   ]
  },
  {
   "cell_type": "code",
   "execution_count": 39,
   "metadata": {},
   "outputs": [
    {
     "ename": "NameError",
     "evalue": "name 'Tunnel' is not defined",
     "output_type": "error",
     "traceback": [
      "\u001b[1;31m----------------------------------------\u001b[0m",
      "\u001b[1;31mNameError\u001b[0mTraceback (most recent call last)",
      "\u001b[1;32m<ipython-input-39-842ab52e8ef4>\u001b[0m in \u001b[0;36m<module>\u001b[1;34m\u001b[0m\n\u001b[1;32m----> 1\u001b[1;33m \u001b[0mprint\u001b[0m\u001b[1;33m(\u001b[0m\u001b[0mTunnel\u001b[0m\u001b[1;33m,\u001b[0m \u001b[0mPLC_IP\u001b[0m\u001b[1;33m,\u001b[0m \u001b[0mThreshold_Percent\u001b[0m\u001b[1;33m,\u001b[0m \u001b[0mRuns\u001b[0m\u001b[1;33m,\u001b[0m \u001b[0mStep_Size\u001b[0m\u001b[1;33m,\u001b[0m \u001b[0mcount\u001b[0m\u001b[1;33m,\u001b[0m \u001b[0mpulsing_count\u001b[0m\u001b[1;33m)\u001b[0m\u001b[1;33m\u001b[0m\u001b[1;33m\u001b[0m\u001b[0m\n\u001b[0m",
      "\u001b[1;31mNameError\u001b[0m: name 'Tunnel' is not defined"
     ]
    }
   ],
   "source": []
  },
  {
   "cell_type": "code",
   "execution_count": 42,
   "metadata": {},
   "outputs": [
    {
     "name": "stdout",
     "output_type": "stream",
     "text": [
      "[<class 'str'>, <class 'str'>, <class 'float'>, <class 'float'>, <class 'float'>, <class 'float'>, <class 'float'>, <class 'float'>, <class 'float'>, <class 'int'>, <class 'int'>]\n"
     ]
    }
   ],
   "source": [
    "print([type(x) for x in GW_Params])"
   ]
  },
  {
   "cell_type": "code",
   "execution_count": 47,
   "metadata": {},
   "outputs": [
    {
     "data": {
      "text/plain": [
       "int"
      ]
     },
     "execution_count": 47,
     "metadata": {},
     "output_type": "execute_result"
    }
   ],
   "source": []
  },
  {
   "cell_type": "code",
   "execution_count": null,
   "metadata": {},
   "outputs": [],
   "source": []
  }
 ],
 "metadata": {
  "kernelspec": {
   "display_name": "Python 3",
   "language": "python",
   "name": "python3"
  },
  "language_info": {
   "codemirror_mode": {
    "name": "ipython",
    "version": 3
   },
   "file_extension": ".py",
   "mimetype": "text/x-python",
   "name": "python",
   "nbconvert_exporter": "python",
   "pygments_lexer": "ipython3",
   "version": "3.8.1"
  }
 },
 "nbformat": 4,
 "nbformat_minor": 4
}
