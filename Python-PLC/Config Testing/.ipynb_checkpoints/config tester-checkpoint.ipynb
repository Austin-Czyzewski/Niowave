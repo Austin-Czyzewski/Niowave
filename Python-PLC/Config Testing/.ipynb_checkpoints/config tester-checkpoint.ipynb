{
 "cells": [
  {
   "cell_type": "code",
   "execution_count": 71,
   "metadata": {},
   "outputs": [
    {
     "name": "stdout",
     "output_type": "stream",
     "text": [
      "--------------------Dipole Scans--------------------\n",
      "['West', '10.50.0.10', 0.05, 1, 0.001, 20, 50]\n",
      "--------------------Dog Legs--------------------\n",
      "['West', '10.50.0.10', 60.0, 40, True, 10, 20]\n",
      "--------------------IF Regulation--------------------\n",
      "['West', '10.50.0.10', 3, 4, 0.02, True, 2, 30, 20.0, 100000000.0, 0.5, 0.5, 0.04, 0.01, 40.0, 1, 6]\n",
      "--------------------Cutoff--------------------\n",
      "None\n",
      "--------------------Gun Walker--------------------\n",
      "None\n"
     ]
    }
   ],
   "source": [
    "def config_reader(file, config_type):\n",
    "    '''\n",
    "    LOI: Lines of interest, these are the lines with the data. In them.\n",
    "    '''\n",
    "    Lines = []\n",
    "    with open(file, 'r') as f:\n",
    "        for line in f:\n",
    "            Lines.append(line)\n",
    "            \n",
    "    if config_type == \"Dipole Scan\":\n",
    "        LOI = Lines[2:10]\n",
    "        Parameters = []\n",
    "        for param in LOI:\n",
    "            if param == \"\\n\":\n",
    "                continue\n",
    "            current_param = param.strip(\"\\n\").replace(\" \",\"\").split(\":\")\n",
    "            try:\n",
    "                if ('Runs' in current_param[0]) or ('count' in current_param[0]):\n",
    "                    Parameters.append(int(current_param[1]))   \n",
    "                else:\n",
    "                    Parameters.append(float(current_param[1]))\n",
    "            except:\n",
    "                Parameters.append(current_param[1])\n",
    "        return Parameters\n",
    "    \n",
    "    if config_type == \"Dog Leg\":\n",
    "        LOI = Lines[2:10]\n",
    "        Parameters = []\n",
    "        for param in LOI:\n",
    "            if param == \"\\n\":\n",
    "                continue\n",
    "            current_param = param.strip(\"\\n\").replace(\" \",\"\").split(\":\")\n",
    "            try:\n",
    "                if ('Steps' in current_param[0]) or ('count' in current_param[0]):\n",
    "                    Parameters.append(int(current_param[1]))   \n",
    "                else:\n",
    "                    Parameters.append(float(current_param[1]))\n",
    "            except:\n",
    "                if (current_param[1].lower() == \"false\") or (current_param[1].lower() == \"true\"):\n",
    "                    Parameters.append('true' in current_param[1].lower())\n",
    "                else:\n",
    "                    Parameters.append(current_param[1])\n",
    "        return Parameters\n",
    "    \n",
    "    if config_type == \"IF Regulation\":\n",
    "        LOI = Lines[2:20]\n",
    "        Parameters = []\n",
    "        for param in LOI:\n",
    "            if param == \"\\n\":\n",
    "                continue\n",
    "            current_param = param.strip(\"\\n\").replace(\" \",\"\").split(\":\")\n",
    "            try:\n",
    "                if ('Channel' in current_param[0]) or ('Measurement' in current_param[0])\\\n",
    "                or ('size' in current_param[0]) or ('Debounce' in current_param[0]):\n",
    "                    Parameters.append(int(current_param[1]))   \n",
    "                else:\n",
    "                    Parameters.append(float(current_param[1]))\n",
    "            except:\n",
    "                if (current_param[1].lower() == \"false\") or (current_param[1].lower() == \"true\"):\n",
    "                    Parameters.append('true' in current_param[1].lower())\n",
    "                else:\n",
    "                    Parameters.append(current_param[1])\n",
    "        return Parameters\n",
    "    \n",
    "    if config_type == \"Cutoffs\":\n",
    "        return\n",
    "    \n",
    "    if config_type == \"Gun Walker\":\n",
    "        return\n",
    "    \n",
    "    print(\"Error in the type of config file. \\n\\\n",
    "Please use one of the following verbose:\\n------------\\nDipole Scan\\nDog Leg\\n\\\n",
    "IF Regulation\\nCutoffs\\nGun Walker\\n------------\")\n",
    "    return \"\"\n",
    "\n",
    "\n",
    "\n",
    "print('-'* 20 + 'Dipole Scans' + '-'*20)\n",
    "print(config_reader('dp1_scan_config.txt', 'Dipole Scan'))\n",
    "print('-'* 20 + 'Dog Legs' + '-'*20)\n",
    "print(config_reader('dog_leg_config.txt', 'Dog Leg'))\n",
    "print('-'* 20 + 'IF Regulation' + '-'*20)\n",
    "print(config_reader('if_regulation_config.txt', 'IF Regulation'))\n",
    "print('-'* 20 + 'Cutoff' + '-'*20)\n",
    "print(config_reader('cutoff_config.txt', 'Cutoffs'))\n",
    "print('-'* 20 + 'Gun Walker' + '-'*20)\n",
    "print(config_reader('gun_walker_config.txt', 'Gun Walker'))"
   ]
  },
  {
   "cell_type": "code",
   "execution_count": 2,
   "metadata": {},
   "outputs": [
    {
     "name": "stdout",
     "output_type": "stream",
     "text": [
      "West 10.50.0.10 0.05 1.0 0.001 20.0 50.0\n",
      "<class 'str'>\n"
     ]
    }
   ],
   "source": [
    "print(Tunnel, PLC_IP, Threshold_Percent, Runs, Step_Size, count, pulsing_count)\n",
    "print(type(PLC_IP))"
   ]
  },
  {
   "cell_type": "code",
   "execution_count": 23,
   "metadata": {},
   "outputs": [
    {
     "data": {
      "text/plain": [
       "True"
      ]
     },
     "execution_count": 23,
     "metadata": {},
     "output_type": "execute_result"
    }
   ],
   "source": [
    "bool('False')"
   ]
  },
  {
   "cell_type": "code",
   "execution_count": null,
   "metadata": {},
   "outputs": [],
   "source": []
  }
 ],
 "metadata": {
  "kernelspec": {
   "display_name": "Python 3",
   "language": "python",
   "name": "python3"
  },
  "language_info": {
   "codemirror_mode": {
    "name": "ipython",
    "version": 3
   },
   "file_extension": ".py",
   "mimetype": "text/x-python",
   "name": "python",
   "nbconvert_exporter": "python",
   "pygments_lexer": "ipython3",
   "version": "3.8.1"
  }
 },
 "nbformat": 4,
 "nbformat_minor": 4
}
