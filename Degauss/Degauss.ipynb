{
 "cells": [
  {
   "cell_type": "markdown",
   "metadata": {},
   "source": [
    "# Degaussing program\n",
    "\n",
    "Purpose:\n",
    "\n",
    "    - Produce more reliable magnet saves for more consistent operation\n",
    "    \n",
    "    - Save labor-hours on finding low and high energy drift\n",
    "    \n",
    "    - More consistent operation for production of isotopes\n",
    "\n",
    "Method:\n",
    "\n",
    "    - Produce a Guassian Curve.\n",
    "    \n",
    "    - Assign the curve to a scaled magnet value\n",
    "    \n",
    "    - Run the program to degauss the magnets\n"
   ]
  },
  {
   "cell_type": "markdown",
   "metadata": {},
   "source": [
    "### Imports"
   ]
  },
  {
   "cell_type": "code",
   "execution_count": 1,
   "metadata": {},
   "outputs": [],
   "source": [
    "import Master as M\n",
    "import numpy as np\n",
    "import matplotlib.pyplot as plt\n",
    "import seaborn\n",
    "seaborn.set()\n",
    "import time"
   ]
  },
  {
   "cell_type": "markdown",
   "metadata": {},
   "source": [
    "### Adjustable Key Parameters"
   ]
  },
  {
   "cell_type": "code",
   "execution_count": 2,
   "metadata": {},
   "outputs": [],
   "source": [
    "Time = 5 #Artbitrary scaling, defualt value\n",
    "Amplitude = 1\n",
    "Decay_Constant = .6 #Lower values = more peaks, longer decay time\n",
    "                #higher values = more decay between each peak, recommended range\n",
    "                # of 0.4 < x < 0.75\n",
    "Points = 1500\n",
    "\n",
    "Dipole_Amplitude = 5 #(Amps) The value we want Dipoles to reach in the peak\n",
    "                        #This can also be set to the start value if need be\n",
    "\n",
    "WF_Amplitude = 3 #(Amps)\n",
    "\n",
    "Sol_Amplitude = 5 #(Amps)"
   ]
  },
  {
   "cell_type": "markdown",
   "metadata": {},
   "source": [
    "### PLC Parameters"
   ]
  },
  {
   "cell_type": "code",
   "execution_count": 3,
   "metadata": {},
   "outputs": [],
   "source": [
    "Client = M.Make_Client(\"192.168.1.2\")\n",
    "\n",
    "Dipole_Start_Tag = 22201 #First Dipole we are controlling\n",
    "\n",
    "Window_Frame_Start_Tag = 20201 #First Window Frame we are controlling\n",
    "\n",
    "Solenoid_Start_Tag = 21201 #First Solenoid we are controlling\n",
    "\n",
    "Dipole_Count = 8 #Number of Dipoles \n",
    "\n",
    "Window_Frame_Count = 21 #Number of Window Frames\n",
    "\n",
    "Solenoid_Count = 9 #Number of Solenoids (Not used currently)"
   ]
  },
  {
   "cell_type": "markdown",
   "metadata": {},
   "source": [
    "### Producing the Gaussian"
   ]
  },
  {
   "cell_type": "markdown",
   "metadata": {},
   "source": [
    "#### Use the following equation to produce the Gaussian\n",
    "\n",
    "$$y(t) = A \\cdot e^{- \\omega t} \\cdot cos(\\frac{1}{\\omega} \\cdot 2 \\pi t)$$\n",
    "\n"
   ]
  },
  {
   "cell_type": "code",
   "execution_count": 4,
   "metadata": {},
   "outputs": [
    {
     "data": {
      "image/png": "[encoded data removed]",
      "text/plain": [
       "<Figure size 432x288 with 1 Axes>"
      ]
     },
     "metadata": {},
     "output_type": "display_data"
    }
   ],
   "source": [
    "x = np.linspace(0,Time*3/4*np.pi, Points) #Defining the number of points that we'll take\n",
    "\n",
    "y = (Amplitude) * np.exp(Decay_Constant * -x) * np.cos(1/Decay_Constant * (2 * np.pi * x)) #Producing the Guassian\n",
    "\n",
    "y[-1] = 0 #Setting the last point in y to 0 so all magnets are at 0\n",
    "\n",
    "plt.plot(x,y,color = 'chocolate', alpha = 0.75)\n",
    "plt.title(\"Course of each magnet\")\n",
    "plt.ylabel(\"Amplitude of magnets (Amps)\")\n",
    "plt.xlabel(\"Time\")\n",
    "plt.gca().axes.xaxis.set_ticklabels([]); #Turn the xlables of since they are arbitrary"
   ]
  },
  {
   "cell_type": "markdown",
   "metadata": {},
   "source": [
    "### Writing to the PLC's"
   ]
  },
  {
   "cell_type": "code",
   "execution_count": null,
   "metadata": {},
   "outputs": [],
   "source": [
    "for pre_scaled_value in y:\n",
    "    \n",
    "    Dipoles = [] #Creating Dipole list (and emptying every loop)\n",
    "    WFs = [] #Creating and emptying the list of WF values for the next write\n",
    "    Sols = [] #Creating the list and the functionality just not using for now\n",
    "    \n",
    "    #Creating the correct sized list to input into the write_multiple function\n",
    "    for _ in range(Dipole_Count):\n",
    "        Dipoles.append(pre_scaled_value * Dipole_Amplitude)\n",
    "        \n",
    "    for _ in range(Window_Frame_Count * 2): #Multiplied by two because we have \n",
    "                                            #Horizontal and Vertical\n",
    "        WFs.append(pre_scaled_value * WF_Amplitude)\n",
    "    \n",
    "    for _ in range(Solenoid_Count):\n",
    "        Sols.append(pre_scaled_value * Sol_Amplitude)\n",
    "    \n",
    "    M.Write_Multiple(Client, Dipole_Start_Tag, Dipoles)\n",
    "    M.Write_Multiple(Client, Window_Frame_Start_Tag, WFs)\n",
    "    \n",
    "    ##################################################\n",
    "    #DO NOT UNCOMMENT UNTIL WE HAVE SOLENOID TOGGLING FUNCTIONALITY\n",
    "    #M.Write_Multiple(Client, Solenoid_Start_Tag, Sols)\n",
    "    ##################################################"
   ]
  }
 ],
 "metadata": {
  "kernelspec": {
   "display_name": "Python 3",
   "language": "python",
   "name": "python3"
  },
  "language_info": {
   "codemirror_mode": {
    "name": "ipython",
    "version": 3
   },
   "file_extension": ".py",
   "mimetype": "text/x-python",
   "name": "python",
   "nbconvert_exporter": "python",
   "pygments_lexer": "ipython3",
   "version": "3.8.1"
  }
 },
 "nbformat": 4,
 "nbformat_minor": 4
}
