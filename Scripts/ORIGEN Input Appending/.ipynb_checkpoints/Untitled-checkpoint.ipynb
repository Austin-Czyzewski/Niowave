{
 "cells": [
  {
   "cell_type": "code",
   "execution_count": 1,
   "metadata": {},
   "outputs": [],
   "source": [
    "import glob\n",
    "import numpy as np\n",
    "import re\n",
    "import pandas as pd"
   ]
  },
  {
   "cell_type": "code",
   "execution_count": 2,
   "metadata": {},
   "outputs": [
    {
     "name": "stdout",
     "output_type": "stream",
     "text": [
      "['UTA-2_LEU_Inventory_1cycle_12hr.inp', 'UTA-2_LEU_Inventory_five_years.inp', 'UTA-2_NU_Inventory_1cycle_12hr.inp', 'UTA-2_NU_Inventory_five_years.inp']\n"
     ]
    }
   ],
   "source": [
    "input_files = glob.glob(\"*.inp\")\n",
    "print(input_files)"
   ]
  },
  {
   "cell_type": "code",
   "execution_count": 48,
   "metadata": {},
   "outputs": [],
   "source": [
    "file = input_files[0]\n",
    "with open(file,'r') as f:\n",
    "    giant_string = f.read()\n",
    "#     for line in f:\n",
    "#         print(line)\n",
    "    f.close()"
   ]
  },
  {
   "cell_type": "code",
   "execution_count": 49,
   "metadata": {},
   "outputs": [
    {
     "name": "stdout",
     "output_type": "stream",
     "text": [
      "' Old Niowave method for building actinide inventory using pre-existing Scale\n",
      "'   transition matrices.\n",
      "'=arp\n",
      "'library type\n",
      "'irt4m6tube\n",
      "'w15x15\n",
      "'wt%\n",
      "'36\n",
      "'number of cycles\n",
      "'1\n",
      "'number of days per cycle\n",
      "'7\n",
      "'cycle-average specific power (MW/MTHM)\n",
      "'0.23\n",
      "'number of interpolated cross section sets generated per cycle\n",
      "'10\n",
      "'moderator density (g/cc)\n",
      "'1.0\n",
      "'interpolated output ORIGEN library\n",
      "'w15x15.f33\n",
      "'irt4m6tube.f33\n",
      "'end\n",
      "=couple\n",
      "Inputting MCNP-generated neutron flux spectrum into Origen\n",
      "for actinide build up.\n",
      "\n",
      "0$$ a3 74 a6 33 e\n",
      "1$$ a16 8 a18 252 e t\n",
      "'graphite thermal flux spectrum (238group endf/b-vii)\n",
      "9**\n",
      "9.67227e-09\n",
      "4.8251e-08\n",
      "3.4852e-08\n",
      "3.72272e-08\n",
      "2.21144e-07\n",
      "2.43271e-06\n",
      "7.87163e-06\n",
      "2.75081e-05\n",
      "8.56473e-05\n",
      "4.93901e-05\n",
      "0.000239123\n",
      "0.000178088\n",
      "5.26045e-05\n",
      "0.000227382\n",
      "0.000198351\n",
      "6.54044e-05\n",
      "2.85877e-05\n",
      "2.398e-05\n",
      "4.50543e-05\n",
      "3.68957e-05\n",
      "7.27268e-05\n",
      "6.1609e-05\n",
      "6.5294e-05\n",
      "1.61737e-05\n",
      "2.17133e-05\n",
      "1.2609e-05\n",
      "4.02311e-05\n",
      "7.315e-05\n",
      "7.25435e-05\n",
      "8.96183e-06\n",
      "7.01244e-05\n",
      "2.79281e-05\n",
      "2.36447e-05\n",
      "6.07487e-05\n",
      "2.2539e-05\n",
      "2.70328e-05\n",
      "1.64979e-05\n",
      "2.02524e-05\n",
      "8.30281e-05\n",
      "7.92377e-05\n",
      "9.63817e-05\n",
      "7.83884e-05\n",
      "3.56445e-05\n",
      "5.20321e-05\n",
      "2.96122e-05\n",
      "6.76761e-06\n",
      "1.73661e-05\n",
      "5.06845e-06\n",
      "3.36553e-05\n",
      "2.23075e-05\n",
      "5.9473e-06\n",
      "1.54459e-05\n",
      "5.63042e-05\n",
      "5.24753e-05\n",
      "2.04874e-05\n",
      "3.29961e-05\n",
      "3.71206e-05\n",
      "1.974e-05\n",
      "3.89265e-05\n",
      "4.27673e-05\n",
      "4.74009e-06\n",
      "2.41507e-05\n",
      "1.92551e-05\n",
      "1.14856e-05\n",
      "2.40431e-06\n",
      "2.20905e-05\n",
      "1.63928e-05\n",
      "3.52059e-06\n",
      "2.83932e-05\n",
      "2.05183e-05\n",
      "3.50196e-05\n",
      "1.99776e-06\n",
      "2.13147e-05\n",
      "6.08655e-05\n",
      "6.85099e-06\n",
      "1.72895e-05\n",
      "8.66647e-06\n",
      "4.94946e-06\n",
      "6.49796e-07\n",
      "3.05738e-06\n",
      "4.58883e-06\n",
      "6.47566e-07\n",
      "8.32513e-07\n",
      "7.26055e-07\n",
      "4.76523e-06\n",
      "5.96687e-06\n",
      "1.78699e-05\n",
      "1.62639e-05\n",
      "2.36338e-06\n",
      "1.2463e-06\n",
      "7.58145e-07\n",
      "2.96697e-06\n",
      "4.49342e-06\n",
      "2.90802e-06\n",
      "2.80306e-06\n",
      "4.42874e-06\n",
      "7.68466e-06\n",
      "9.9116e-06\n",
      "1.68614e-06\n",
      "5.29905e-06\n",
      "5.4527e-06\n",
      "6.72482e-06\n",
      "2.94722e-06\n",
      "3.3472e-06\n",
      "3.22831e-06\n",
      "5.04542e-06\n",
      "8.20373e-06\n",
      "5.4143e-06\n",
      "4.7781e-06\n",
      "6.5284e-06\n",
      "2.60034e-06\n",
      "3.55611e-06\n",
      "3.24972e-06\n",
      "3.30197e-06\n",
      "1.14704e-06\n",
      "2.66194e-06\n",
      "8.40827e-07\n",
      "7.14403e-07\n",
      "2.06076e-07\n",
      "1.63459e-07\n",
      "1.04003e-06\n",
      "1.39951e-06\n",
      "1.033e-06\n",
      "3.19848e-06\n",
      "1.33597e-06\n",
      "4.72007e-06\n",
      "1.61723e-06\n",
      "3.95729e-06\n",
      "8.80844e-06\n",
      "9.74469e-06\n",
      "9.86889e-06\n",
      "3.30455e-06\n",
      "2.10266e-06\n",
      "8.10594e-07\n",
      "2.19252e-06\n",
      "2.9138e-06\n",
      "4.10588e-06\n",
      "8.29752e-06\n",
      "5.78952e-06\n",
      "1.06248e-05\n",
      "1.08102e-05\n",
      "7.24507e-06\n",
      "3.07056e-06\n",
      "1.36823e-05\n",
      "9.24711e-06\n",
      "1.04081e-05\n",
      "1.20458e-05\n",
      "1.67639e-06\n",
      "1.31089e-06\n",
      "6.32761e-07\n",
      "4.47145e-07\n",
      "2.50845e-06\n",
      "3.50663e-06\n",
      "9.70333e-06\n",
      "7.08005e-06\n",
      "5.77409e-06\n",
      "1.36329e-05\n",
      "9.43548e-06\n",
      "6.00833e-06\n",
      "8.88289e-06\n",
      "3.08069e-06\n",
      "3.14274e-06\n",
      "1.05439e-06\n",
      "3.39387e-06\n",
      "3.44765e-06\n",
      "3.75683e-06\n",
      "3.82046e-06\n",
      "4.12454e-06\n",
      "3.86074e-06\n",
      "3.43943e-06\n",
      "3.99074e-06\n",
      "4.17312e-06\n",
      "5.78638e-06\n",
      "2.96718e-06\n",
      "4.36646e-06\n",
      "5.07481e-06\n",
      "5.21323e-06\n",
      "5.96991e-06\n",
      "6.09249e-06\n",
      "3.27162e-06\n",
      "3.55234e-06\n",
      "3.75817e-06\n",
      "3.86892e-06\n",
      "3.83419e-06\n",
      "1.92837e-06\n",
      "2.08509e-06\n",
      "1.94369e-06\n",
      "2.10614e-06\n",
      "8.62327e-07\n",
      "8.38563e-07\n",
      "8.0185e-07\n",
      "8.62894e-07\n",
      "8.28484e-07\n",
      "9.95102e-07\n",
      "8.80056e-07\n",
      "8.99772e-07\n",
      "9.20579e-07\n",
      "8.84199e-07\n",
      "9.67587e-07\n",
      "9.08141e-07\n",
      "8.69288e-07\n",
      "9.51275e-07\n",
      "9.8905e-07\n",
      "2.57002e-06\n",
      "2.45818e-06\n",
      "2.76695e-06\n",
      "2.67192e-06\n",
      "5.8184e-06\n",
      "6.19631e-06\n",
      "6.81314e-06\n",
      "7.11963e-06\n",
      "8.06267e-06\n",
      "4.13776e-06\n",
      "4.21249e-06\n",
      "9.36593e-06\n",
      "1.02202e-05\n",
      "1.12794e-05\n",
      "1.22954e-05\n",
      "7.08825e-06\n",
      "7.51057e-06\n",
      "7.6374e-06\n",
      "8.21007e-06\n",
      "9.4067e-06\n",
      "1.01475e-05\n",
      "1.26651e-05\n",
      "1.56816e-05\n",
      "2.11932e-05\n",
      "3.09685e-05\n",
      "5.00725e-05\n",
      "8.76096e-05\n",
      "5.04945e-05\n",
      "6.2735e-05\n",
      "7.6672e-05\n",
      "9.24597e-05\n",
      "0.000109744\n",
      "0.000123708\n",
      "0.000131405\n",
      "5.92311e-05\n",
      "0.000149558\n",
      "1.36616e-05\n",
      "9.39952e-06\n",
      "2.68618e-06\n",
      "1.85249e-06\n",
      "6.81382e-07\n",
      "5.11742e-07\n",
      "3.61772e-07\n",
      "1.59168e-07\n",
      "8.05072e-08\n",
      "7.65251e-08\n",
      "3.58013e-08\n",
      "2.26612e-08\n",
      "2.87501e-10\n",
      "e t\n",
      "done\n",
      "end\n",
      "=shell\n",
      "    dir\n",
      "    cp ft33f001 \"N:\\File Transfer\\Denbrock, Chad\\People\\Austin\\Inventory Plotter Update Verification\\UTA-2_LEU_Inventory.f33\"\n",
      "end\n",
      "'\n",
      "=origen\n",
      "% ----------------------------------------------------------------------------------\n",
      "% First Cycle\n",
      "% ----------------------------------------------------------------------------------\n",
      "case(irrad){\n",
      "% use xs data at pos=1 corresponds to midpoint burnup (200 d * 15MW/MTU)/2\n",
      "lib {\n",
      "file=\"ft33f001\" pos=1\n",
      "}\n",
      "% 1 MTU of LEU Uranium\n",
      "mat {\n",
      "units=grams\n",
      "iso=[u234=5.115908 u235=682.5 u238=6312.384 o16=1254.717]\n",
      "}\n",
      "% power history (at least 4 steps for MATREX)\n",
      "time=[100i 0 7] %default time in days\n",
      "power=[102r 0.0002022] %power in MW\n",
      "print{\n",
      "        nuc{ units=CURIES }\n",
      "        cutoffs[ ALL = 0 ]\n",
      "    }\n",
      "save{ file=\"UTA-2_LEU_Inventory_one_cycle_12_hr_EOB.f71\" } %only save begin and end\n",
      "}\n",
      "case(decay){\n",
      "time{\n",
      "units=days\n",
      "start=0 %start time at 0 in this case for ease of input for t[]\n",
      "t=[120i 0 0.5] %observe rule of threes\n",
      "% t=[0 0.1 0.2 0.3 0.4 0.5 0.6 0.7 0.8 0.9 1 2 3 4 5 6 7 8 9 10 11 12 13 14 15 16 17 18 19 20 21] %observe rule of threes\n",
      "}\n",
      "print{\n",
      "        nuc{ units=CURIES }\n",
      "        cutoffs[ ALL = 0 ]\n",
      "    }\n",
      "save{ file=\"UTA-2_LEU_Inventory_one_cycle_12_hr_EOB.f71\" } %only save begin and end\n",
      "}\n",
      "end\n",
      "=origen\n",
      "aaaaaaaaaaaaaaaaaaaaaaaaaaaaaaaa\n"
     ]
    }
   ],
   "source": [
    "giant_string += '=origen'\n",
    "giant_string += '\\naaaaaaaaaaaaaaaaaaaaaaaaaaaaaaaa'\n",
    "print(giant_string)"
   ]
  },
  {
   "cell_type": "code",
   "execution_count": 50,
   "metadata": {},
   "outputs": [
    {
     "name": "stdout",
     "output_type": "stream",
     "text": [
      "2\n"
     ]
    }
   ],
   "source": [
    "# origen_start = re.split(\"=origen\",giant_string, flags = re.MULTILINE)\n",
    "origen_start = giant_string.split(\"=origen\", maxsplit = 1)\n",
    "print(len(origen_start))\n",
    "if len(origen_start) == 2:\n",
    "    cases = origen_start[1]\n",
    "else:\n",
    "    print(\"Something weird is going on here\")"
   ]
  },
  {
   "cell_type": "code",
   "execution_count": 57,
   "metadata": {},
   "outputs": [
    {
     "name": "stdout",
     "output_type": "stream",
     "text": [
      "\n",
      "% ----------------------------------------------------------------------------------\n",
      "% First Cycle\n",
      "% ----------------------------------------------------------------------------------\n",
      "case(irrad){\n",
      "% use xs data at pos=1 corresponds to midpoint burnup (200 d * 15MW/MTU)/2\n",
      "lib {\n",
      "file=\"ft33f001\" pos=1\n",
      "}\n",
      "% 1 MTU of LEU Uranium\n",
      "mat {\n",
      "units=grams\n",
      "iso=[u234=5.115908 u235=682.5 u238=6312.384 o16=1254.717]\n",
      "}\n",
      "% power history (at least 4 steps for MATREX)\n",
      "time=[100i 0 7] %default time in days\n",
      "power=[102r 0.0002022] %power in MW\n",
      "print{\n",
      "        nuc{ units=CURIES }\n",
      "        cutoffs[ ALL = 0 ]\n",
      "    }\n",
      "save{ file=\"UTA-2_LEU_Inventory_one_cycle_12_hr_EOB.f71\" } %only save begin and end\n",
      "}\n",
      "case(decay){\n",
      "time{\n",
      "units=days\n",
      "start=0 %start time at 0 in this case for ease of input for t[]\n",
      "t=[120i 0 0.5] %observe rule of threes\n",
      "% t=[0 0.1 0.2 0.3 0.4 0.5 0.6 0.7 0.8 0.9 1 2 3 4 5 6 7 8 9 10 11 12 13 14 15 16 17 18 19 20 21] %observe rule of threes\n",
      "}\n",
      "print{\n",
      "        nuc{ units=CURIES }\n",
      "        cutoffs[ ALL = 0 ]\n",
      "    }\n",
      "save{ file=\"UTA-2_LEU_Inventory_one_cycle_12_hr_EOB.f71\" } %only save begin and end\n",
      "}\n",
      "end\n",
      "=origen\n",
      "aaaaaaaaaaaaaaaaaaaaaaaaaaaaaaaa\n"
     ]
    }
   ],
   "source": [
    "print(cases)"
   ]
  },
  {
   "cell_type": "code",
   "execution_count": 59,
   "metadata": {},
   "outputs": [],
   "source": [
    "from collections import Counter\n",
    "thing = Counter(\"Hello World\")"
   ]
  },
  {
   "cell_type": "code",
   "execution_count": 60,
   "metadata": {},
   "outputs": [
    {
     "data": {
      "text/plain": [
       "Counter({'H': 1, 'e': 1, 'l': 3, 'o': 2, ' ': 1, 'W': 1, 'r': 1, 'd': 1})"
      ]
     },
     "execution_count": 60,
     "metadata": {},
     "output_type": "execute_result"
    }
   ],
   "source": [
    "thing"
   ]
  },
  {
   "cell_type": "code",
   "execution_count": 62,
   "metadata": {},
   "outputs": [
    {
     "name": "stdout",
     "output_type": "stream",
     "text": [
      "👍\n"
     ]
    }
   ],
   "source": [
    "from emoji import emojize\n",
    "print(emojize(\":thumbs_up:\"))"
   ]
  },
  {
   "cell_type": "code",
   "execution_count": 63,
   "metadata": {},
   "outputs": [
    {
     "ename": "ConfigurationError",
     "evalue": "Since July 2018 Google requires each request to have an API key. Pass a valid `api_key` to GoogleV3 geocoder to fix this error. See https://developers.google.com/maps/documentation/geocoding/usage-and-billing",
     "output_type": "error",
     "traceback": [
      "\u001b[1;31m---------------------------------------------------------------------------\u001b[0m",
      "\u001b[1;31mConfigurationError\u001b[0m                        Traceback (most recent call last)",
      "\u001b[1;32m<ipython-input-63-59b93f37ad6d>\u001b[0m in \u001b[0;36m<module>\u001b[1;34m\u001b[0m\n\u001b[0;32m      2\u001b[0m \u001b[1;33m\u001b[0m\u001b[0m\n\u001b[0;32m      3\u001b[0m \u001b[0mplace\u001b[0m \u001b[1;33m=\u001b[0m \u001b[1;34m\"221b Baker Street, London\"\u001b[0m\u001b[1;33m\u001b[0m\u001b[1;33m\u001b[0m\u001b[0m\n\u001b[1;32m----> 4\u001b[1;33m \u001b[0mlocation\u001b[0m \u001b[1;33m=\u001b[0m \u001b[0mGoogleV3\u001b[0m\u001b[1;33m(\u001b[0m\u001b[1;33m)\u001b[0m\u001b[1;33m.\u001b[0m\u001b[0mgeocode\u001b[0m\u001b[1;33m(\u001b[0m\u001b[0mplace\u001b[0m\u001b[1;33m)\u001b[0m\u001b[1;33m\u001b[0m\u001b[1;33m\u001b[0m\u001b[0m\n\u001b[0m\u001b[0;32m      5\u001b[0m \u001b[0mprint\u001b[0m\u001b[1;33m(\u001b[0m\u001b[0mlocation\u001b[0m\u001b[1;33m.\u001b[0m\u001b[0maddress\u001b[0m\u001b[1;33m)\u001b[0m\u001b[1;33m\u001b[0m\u001b[1;33m\u001b[0m\u001b[0m\n\u001b[0;32m      6\u001b[0m \u001b[0mprint\u001b[0m\u001b[1;33m(\u001b[0m\u001b[0mlocation\u001b[0m\u001b[1;33m.\u001b[0m\u001b[0mlocation\u001b[0m\u001b[1;33m)\u001b[0m\u001b[1;33m\u001b[0m\u001b[1;33m\u001b[0m\u001b[0m\n",
      "\u001b[1;32mc:\\users\\aczyzewski\\appdata\\local\\programs\\python\\python38-32\\lib\\site-packages\\geopy\\geocoders\\googlev3.py\u001b[0m in \u001b[0;36m__init__\u001b[1;34m(self, api_key, domain, scheme, client_id, secret_key, timeout, proxies, user_agent, ssl_context, adapter_factory, channel)\u001b[0m\n\u001b[0;32m    111\u001b[0m \u001b[1;33m\u001b[0m\u001b[0m\n\u001b[0;32m    112\u001b[0m         \u001b[1;32mif\u001b[0m \u001b[1;32mnot\u001b[0m \u001b[0mself\u001b[0m\u001b[1;33m.\u001b[0m\u001b[0mpremier\u001b[0m \u001b[1;32mand\u001b[0m \u001b[1;32mnot\u001b[0m \u001b[0mapi_key\u001b[0m\u001b[1;33m:\u001b[0m\u001b[1;33m\u001b[0m\u001b[1;33m\u001b[0m\u001b[0m\n\u001b[1;32m--> 113\u001b[1;33m             raise ConfigurationError(\n\u001b[0m\u001b[0;32m    114\u001b[0m                 \u001b[1;34m'Since July 2018 Google requires each request to have an API key. '\u001b[0m\u001b[1;33m\u001b[0m\u001b[1;33m\u001b[0m\u001b[0m\n\u001b[0;32m    115\u001b[0m                 \u001b[1;34m'Pass a valid `api_key` to GoogleV3 geocoder to fix this error. '\u001b[0m\u001b[1;33m\u001b[0m\u001b[1;33m\u001b[0m\u001b[0m\n",
      "\u001b[1;31mConfigurationError\u001b[0m: Since July 2018 Google requires each request to have an API key. Pass a valid `api_key` to GoogleV3 geocoder to fix this error. See https://developers.google.com/maps/documentation/geocoding/usage-and-billing"
     ]
    }
   ],
   "source": [
    "from geopy import GoogleV3\n",
    "\n",
    "place = \"221b Baker Street, London\"\n",
    "location = GoogleV3().geocode(place)\n",
    "print(location.address)\n",
    "print(location.location)"
   ]
  },
  {
   "cell_type": "code",
   "execution_count": 64,
   "metadata": {},
   "outputs": [
    {
     "name": "stdout",
     "output_type": "stream",
     "text": [
      "067302ca-57cd-4a56-9e74-d2b1a0fc4229\n"
     ]
    }
   ],
   "source": [
    "import uuid\n",
    "\n",
    "user_id = uuid.uuid4()\n",
    "print(user_id)"
   ]
  },
  {
   "cell_type": "code",
   "execution_count": 65,
   "metadata": {},
   "outputs": [],
   "source": [
    "import antigravity"
   ]
  },
  {
   "cell_type": "code",
   "execution_count": 68,
   "metadata": {},
   "outputs": [
    {
     "data": {
      "text/html": [
       "<div id=\"glowscript\" class=\"glowscript\"></div>"
      ],
      "text/plain": [
       "<IPython.core.display.HTML object>"
      ]
     },
     "metadata": {},
     "output_type": "display_data"
    },
    {
     "data": {
      "application/javascript": [
       "if (typeof Jupyter !== \"undefined\") { window.__context = { glowscript_container: $(\"#glowscript\").removeAttr(\"id\")};}else{ element.textContent = ' ';}"
      ],
      "text/plain": [
       "<IPython.core.display.Javascript object>"
      ]
     },
     "metadata": {},
     "output_type": "display_data"
    }
   ],
   "source": [
    "import vpython"
   ]
  },
  {
   "cell_type": "code",
   "execution_count": 73,
   "metadata": {},
   "outputs": [
    {
     "data": {
      "application/javascript": [
       "if (typeof Jupyter !== \"undefined\") {require.undef(\"nbextensions/vpython_libraries/glow.min\");}else{element.textContent = ' ';}"
      ],
      "text/plain": [
       "<IPython.core.display.Javascript object>"
      ]
     },
     "metadata": {},
     "output_type": "display_data"
    },
    {
     "data": {
      "application/javascript": [
       "if (typeof Jupyter !== \"undefined\") {require.undef(\"nbextensions/vpython_libraries/glowcomm\");}else{element.textContent = ' ';}"
      ],
      "text/plain": [
       "<IPython.core.display.Javascript object>"
      ]
     },
     "metadata": {},
     "output_type": "display_data"
    },
    {
     "data": {
      "application/javascript": [
       "if (typeof Jupyter !== \"undefined\") {require.undef(\"nbextensions/vpython_libraries/jquery-ui.custom.min\");}else{element.textContent = ' ';}"
      ],
      "text/plain": [
       "<IPython.core.display.Javascript object>"
      ]
     },
     "metadata": {},
     "output_type": "display_data"
    },
    {
     "data": {
      "application/javascript": [
       "if (typeof Jupyter !== \"undefined\") {require([\"nbextensions/vpython_libraries/glow.min\"], function(){console.log(\"GLOW LOADED\");});}else{element.textContent = ' ';}"
      ],
      "text/plain": [
       "<IPython.core.display.Javascript object>"
      ]
     },
     "metadata": {},
     "output_type": "display_data"
    },
    {
     "data": {
      "application/javascript": [
       "if (typeof Jupyter !== \"undefined\") {require([\"nbextensions/vpython_libraries/glowcomm\"], function(){console.log(\"GLOWCOMM LOADED\");});}else{element.textContent = ' ';}"
      ],
      "text/plain": [
       "<IPython.core.display.Javascript object>"
      ]
     },
     "metadata": {},
     "output_type": "display_data"
    },
    {
     "data": {
      "application/javascript": [
       "if (typeof Jupyter !== \"undefined\") {require([\"nbextensions/vpython_libraries/jquery-ui.custom.min\"], function(){console.log(\"JQUERY LOADED\");});}else{element.textContent = ' ';}"
      ],
      "text/plain": [
       "<IPython.core.display.Javascript object>"
      ]
     },
     "metadata": {},
     "output_type": "display_data"
    },
    {
     "ename": "KeyboardInterrupt",
     "evalue": "",
     "output_type": "error",
     "traceback": [
      "\u001b[1;31m---------------------------------------------------------------------------\u001b[0m",
      "\u001b[1;31mKeyboardInterrupt\u001b[0m                         Traceback (most recent call last)",
      "\u001b[1;32m<ipython-input-73-8d6570fad568>\u001b[0m in \u001b[0;36m<module>\u001b[1;34m\u001b[0m\n\u001b[0;32m     12\u001b[0m \u001b[0ms3\u001b[0m \u001b[1;33m=\u001b[0m \u001b[1;36m2\u001b[0m\u001b[1;33m*\u001b[0m\u001b[0mside\u001b[0m \u001b[1;33m+\u001b[0m \u001b[0mthk\u001b[0m\u001b[1;33m\u001b[0m\u001b[1;33m\u001b[0m\u001b[0m\n\u001b[0;32m     13\u001b[0m \u001b[1;33m\u001b[0m\u001b[0m\n\u001b[1;32m---> 14\u001b[1;33m \u001b[0mwallR\u001b[0m \u001b[1;33m=\u001b[0m \u001b[0mbox\u001b[0m \u001b[1;33m(\u001b[0m\u001b[0mpos\u001b[0m\u001b[1;33m=\u001b[0m\u001b[0mvector\u001b[0m\u001b[1;33m(\u001b[0m \u001b[0mside\u001b[0m\u001b[1;33m,\u001b[0m \u001b[1;36m0\u001b[0m\u001b[1;33m,\u001b[0m \u001b[1;36m0\u001b[0m\u001b[1;33m)\u001b[0m\u001b[1;33m,\u001b[0m \u001b[0msize\u001b[0m\u001b[1;33m=\u001b[0m\u001b[0mvector\u001b[0m\u001b[1;33m(\u001b[0m\u001b[0mthk\u001b[0m\u001b[1;33m,\u001b[0m \u001b[0ms2\u001b[0m\u001b[1;33m,\u001b[0m \u001b[0ms3\u001b[0m\u001b[1;33m)\u001b[0m\u001b[1;33m,\u001b[0m  \u001b[0mcolor\u001b[0m \u001b[1;33m=\u001b[0m \u001b[0mcolor\u001b[0m\u001b[1;33m.\u001b[0m\u001b[0mred\u001b[0m\u001b[1;33m)\u001b[0m\u001b[1;33m\u001b[0m\u001b[1;33m\u001b[0m\u001b[0m\n\u001b[0m\u001b[0;32m     15\u001b[0m \u001b[0mwallL\u001b[0m \u001b[1;33m=\u001b[0m \u001b[0mbox\u001b[0m \u001b[1;33m(\u001b[0m\u001b[0mpos\u001b[0m\u001b[1;33m=\u001b[0m\u001b[0mvector\u001b[0m\u001b[1;33m(\u001b[0m\u001b[1;33m-\u001b[0m\u001b[0mside\u001b[0m\u001b[1;33m,\u001b[0m \u001b[1;36m0\u001b[0m\u001b[1;33m,\u001b[0m \u001b[1;36m0\u001b[0m\u001b[1;33m)\u001b[0m\u001b[1;33m,\u001b[0m \u001b[0msize\u001b[0m\u001b[1;33m=\u001b[0m\u001b[0mvector\u001b[0m\u001b[1;33m(\u001b[0m\u001b[0mthk\u001b[0m\u001b[1;33m,\u001b[0m \u001b[0ms2\u001b[0m\u001b[1;33m,\u001b[0m \u001b[0ms3\u001b[0m\u001b[1;33m)\u001b[0m\u001b[1;33m,\u001b[0m  \u001b[0mcolor\u001b[0m \u001b[1;33m=\u001b[0m \u001b[0mcolor\u001b[0m\u001b[1;33m.\u001b[0m\u001b[0mred\u001b[0m\u001b[1;33m)\u001b[0m\u001b[1;33m\u001b[0m\u001b[1;33m\u001b[0m\u001b[0m\n\u001b[0;32m     16\u001b[0m \u001b[0mwallB\u001b[0m \u001b[1;33m=\u001b[0m \u001b[0mbox\u001b[0m \u001b[1;33m(\u001b[0m\u001b[0mpos\u001b[0m\u001b[1;33m=\u001b[0m\u001b[0mvector\u001b[0m\u001b[1;33m(\u001b[0m\u001b[1;36m0\u001b[0m\u001b[1;33m,\u001b[0m \u001b[1;33m-\u001b[0m\u001b[0mside\u001b[0m\u001b[1;33m,\u001b[0m \u001b[1;36m0\u001b[0m\u001b[1;33m)\u001b[0m\u001b[1;33m,\u001b[0m \u001b[0msize\u001b[0m\u001b[1;33m=\u001b[0m\u001b[0mvector\u001b[0m\u001b[1;33m(\u001b[0m\u001b[0ms3\u001b[0m\u001b[1;33m,\u001b[0m \u001b[0mthk\u001b[0m\u001b[1;33m,\u001b[0m \u001b[0ms3\u001b[0m\u001b[1;33m)\u001b[0m\u001b[1;33m,\u001b[0m  \u001b[0mcolor\u001b[0m \u001b[1;33m=\u001b[0m \u001b[0mcolor\u001b[0m\u001b[1;33m.\u001b[0m\u001b[0mblue\u001b[0m\u001b[1;33m)\u001b[0m\u001b[1;33m\u001b[0m\u001b[1;33m\u001b[0m\u001b[0m\n",
      "\u001b[1;32mc:\\users\\aczyzewski\\appdata\\local\\programs\\python\\python38-32\\lib\\site-packages\\vpython\\vpython.py\u001b[0m in \u001b[0;36m__init__\u001b[1;34m(self, **args)\u001b[0m\n\u001b[0;32m   1097\u001b[0m         \u001b[0margs\u001b[0m\u001b[1;33m[\u001b[0m\u001b[1;34m'_default_size'\u001b[0m\u001b[1;33m]\u001b[0m \u001b[1;33m=\u001b[0m \u001b[0mvector\u001b[0m\u001b[1;33m(\u001b[0m\u001b[1;36m1\u001b[0m\u001b[1;33m,\u001b[0m\u001b[1;36m1\u001b[0m\u001b[1;33m,\u001b[0m\u001b[1;36m1\u001b[0m\u001b[1;33m)\u001b[0m\u001b[1;33m\u001b[0m\u001b[1;33m\u001b[0m\u001b[0m\n\u001b[0;32m   1098\u001b[0m         \u001b[0margs\u001b[0m\u001b[1;33m[\u001b[0m\u001b[1;34m'_objName'\u001b[0m\u001b[1;33m]\u001b[0m \u001b[1;33m=\u001b[0m \u001b[1;34m\"box\"\u001b[0m\u001b[1;33m\u001b[0m\u001b[1;33m\u001b[0m\u001b[0m\n\u001b[1;32m-> 1099\u001b[1;33m         \u001b[0msuper\u001b[0m\u001b[1;33m(\u001b[0m\u001b[0mbox\u001b[0m\u001b[1;33m,\u001b[0m \u001b[0mself\u001b[0m\u001b[1;33m)\u001b[0m\u001b[1;33m.\u001b[0m\u001b[0msetup\u001b[0m\u001b[1;33m(\u001b[0m\u001b[0margs\u001b[0m\u001b[1;33m)\u001b[0m\u001b[1;33m\u001b[0m\u001b[1;33m\u001b[0m\u001b[0m\n\u001b[0m\u001b[0;32m   1100\u001b[0m \u001b[1;33m\u001b[0m\u001b[0m\n\u001b[0;32m   1101\u001b[0m \u001b[1;32mclass\u001b[0m \u001b[0msphere\u001b[0m\u001b[1;33m(\u001b[0m\u001b[0mstandardAttributes\u001b[0m\u001b[1;33m)\u001b[0m\u001b[1;33m:\u001b[0m\u001b[1;33m\u001b[0m\u001b[1;33m\u001b[0m\u001b[0m\n",
      "\u001b[1;32mc:\\users\\aczyzewski\\appdata\\local\\programs\\python\\python38-32\\lib\\site-packages\\vpython\\vpython.py\u001b[0m in \u001b[0;36msetup\u001b[1;34m(self, args)\u001b[0m\n\u001b[0;32m    577\u001b[0m \u001b[1;33m\u001b[0m\u001b[0m\n\u001b[0;32m    578\u001b[0m     \u001b[1;32mdef\u001b[0m \u001b[0msetup\u001b[0m\u001b[1;33m(\u001b[0m\u001b[0mself\u001b[0m\u001b[1;33m,\u001b[0m \u001b[0margs\u001b[0m\u001b[1;33m)\u001b[0m\u001b[1;33m:\u001b[0m\u001b[1;33m\u001b[0m\u001b[1;33m\u001b[0m\u001b[0m\n\u001b[1;32m--> 579\u001b[1;33m         \u001b[0msuper\u001b[0m\u001b[1;33m(\u001b[0m\u001b[0mstandardAttributes\u001b[0m\u001b[1;33m,\u001b[0m \u001b[0mself\u001b[0m\u001b[1;33m)\u001b[0m\u001b[1;33m.\u001b[0m\u001b[0m__init__\u001b[0m\u001b[1;33m(\u001b[0m\u001b[1;33m)\u001b[0m\u001b[1;33m\u001b[0m\u001b[1;33m\u001b[0m\u001b[0m\n\u001b[0m\u001b[0;32m    580\u001b[0m         \u001b[0mself\u001b[0m\u001b[1;33m.\u001b[0m\u001b[0m_constructing\u001b[0m \u001b[1;33m=\u001b[0m \u001b[1;32mTrue\u001b[0m  \u001b[1;31m## calls to setters are from constructor\u001b[0m\u001b[1;33m\u001b[0m\u001b[1;33m\u001b[0m\u001b[0m\n\u001b[0;32m    581\u001b[0m \u001b[1;33m\u001b[0m\u001b[0m\n",
      "\u001b[1;32mc:\\users\\aczyzewski\\appdata\\local\\programs\\python\\python38-32\\lib\\site-packages\\vpython\\vpython.py\u001b[0m in \u001b[0;36m__init__\u001b[1;34m(self, **kwargs)\u001b[0m\n\u001b[0;32m    232\u001b[0m                 baseObj._canvas_constructing):\n\u001b[0;32m    233\u001b[0m             \u001b[1;32mif\u001b[0m \u001b[0m_isnotebook\u001b[0m\u001b[1;33m:\u001b[0m\u001b[1;33m\u001b[0m\u001b[1;33m\u001b[0m\u001b[0m\n\u001b[1;32m--> 234\u001b[1;33m                 \u001b[1;32mfrom\u001b[0m \u001b[1;33m.\u001b[0m\u001b[0mwith_notebook\u001b[0m \u001b[1;32mimport\u001b[0m \u001b[0m_\u001b[0m\u001b[1;33m\u001b[0m\u001b[1;33m\u001b[0m\u001b[0m\n\u001b[0m\u001b[0;32m    235\u001b[0m             \u001b[1;32melse\u001b[0m\u001b[1;33m:\u001b[0m\u001b[1;33m\u001b[0m\u001b[1;33m\u001b[0m\u001b[0m\n\u001b[0;32m    236\u001b[0m                 \u001b[1;32mfrom\u001b[0m \u001b[1;33m.\u001b[0m\u001b[0mno_notebook\u001b[0m \u001b[1;32mimport\u001b[0m \u001b[0m_\u001b[0m\u001b[1;33m\u001b[0m\u001b[1;33m\u001b[0m\u001b[0m\n",
      "\u001b[1;32mc:\\users\\aczyzewski\\appdata\\local\\programs\\python\\python38-32\\lib\\site-packages\\vpython\\with_notebook.py\u001b[0m in \u001b[0;36m<module>\u001b[1;34m\u001b[0m\n\u001b[0;32m    151\u001b[0m \u001b[0mbaseObj\u001b[0m\u001b[1;33m.\u001b[0m\u001b[0mglow\u001b[0m \u001b[1;33m=\u001b[0m \u001b[0mGlowWidget\u001b[0m\u001b[1;33m(\u001b[0m\u001b[0mwsport\u001b[0m\u001b[1;33m=\u001b[0m\u001b[0m__SOCKET_PORT\u001b[0m\u001b[1;33m,\u001b[0m \u001b[0mwsuri\u001b[0m\u001b[1;33m=\u001b[0m\u001b[1;34m'/ws'\u001b[0m\u001b[1;33m)\u001b[0m\u001b[1;33m\u001b[0m\u001b[1;33m\u001b[0m\u001b[0m\n\u001b[0;32m    152\u001b[0m \u001b[1;32mwhile\u001b[0m \u001b[1;33m(\u001b[0m\u001b[1;32mnot\u001b[0m \u001b[0mwsConnected\u001b[0m\u001b[1;33m)\u001b[0m\u001b[1;33m:\u001b[0m\u001b[1;33m\u001b[0m\u001b[1;33m\u001b[0m\u001b[0m\n\u001b[1;32m--> 153\u001b[1;33m     \u001b[0mtime\u001b[0m\u001b[1;33m.\u001b[0m\u001b[0msleep\u001b[0m\u001b[1;33m(\u001b[0m\u001b[1;36m0.1\u001b[0m\u001b[1;33m)\u001b[0m          \u001b[1;31m# wait for websocket to connect\u001b[0m\u001b[1;33m\u001b[0m\u001b[1;33m\u001b[0m\u001b[0m\n\u001b[0m\u001b[0;32m    154\u001b[0m \u001b[1;33m\u001b[0m\u001b[0m\n\u001b[0;32m    155\u001b[0m \u001b[0mbaseObj\u001b[0m\u001b[1;33m.\u001b[0m\u001b[0mtrigger\u001b[0m\u001b[1;33m(\u001b[0m\u001b[1;33m)\u001b[0m  \u001b[1;31m# start the trigger ping-pong process\u001b[0m\u001b[1;33m\u001b[0m\u001b[1;33m\u001b[0m\u001b[0m\n",
      "\u001b[1;31mKeyboardInterrupt\u001b[0m: "
     ]
    }
   ],
   "source": [
    "# GlowScript 3.0 VPython\n",
    "\n",
    "# scene.caption = \"\"\"To rotate \"camera\", drag with right button or Ctrl-drag.\n",
    "# To zoom, drag with middle button or Alt/Option depressed, or use scroll wheel.\n",
    "#   On a two-button mouse, middle is left + right.\n",
    "# To pan left/right and up/down, Shift-drag.\n",
    "# Touch screen: pinch/extend to zoom, swipe or two-finger rotate.\"\"\"\n",
    "from vpython import *\n",
    "side = 4.0\n",
    "thk = 0.3\n",
    "s2 = 2*side - thk\n",
    "s3 = 2*side + thk\n",
    "\n",
    "wallR = box (pos=vector( side, 0, 0), size=vector(thk, s2, s3),  color = color.red)\n",
    "wallL = box (pos=vector(-side, 0, 0), size=vector(thk, s2, s3),  color = color.red)\n",
    "wallB = box (pos=vector(0, -side, 0), size=vector(s3, thk, s3),  color = color.blue)\n",
    "wallT = box (pos=vector(0,  side, 0), size=vector(s3, thk, s3),  color = color.blue)\n",
    "wallBK = box(pos=vector(0, 0, -side), size=vector(s2, s2, thk), color = color.gray(0.7))\n",
    "\n",
    "ball = sphere (color = color.green, radius = 0.4, make_trail=True, retain=200)\n",
    "ball.mass = 1.0\n",
    "ball.p = vector (-0.15, -0.23, +0.27)\n",
    "\n",
    "side = side - thk*0.5 - ball.radius\n",
    "\n",
    "dt = 0.3\n",
    "i = 0\n",
    "while True:\n",
    "    try:\n",
    "        rate(200)\n",
    "        ball.p.y -= 0.1*dt\n",
    "        ball.pos = ball.pos + (ball.p/ball.mass)*dt\n",
    "        if not (side > ball.pos.x > -side):\n",
    "            ball.p.x = -ball.p.x\n",
    "        if not (side > ball.pos.y > -side):\n",
    "            ball.p.y = -ball.p.y\n",
    "        if not (side > ball.pos.z > -side):\n",
    "            ball.p.z = -ball.p.z\n",
    "        if i > 1000:\n",
    "            scene.exit()\n",
    "        i += 1\n",
    "    except Exception as e:\n",
    "        print(e)\n",
    "        print('A')\n",
    "        scene.exit()"
   ]
  },
  {
   "cell_type": "code",
   "execution_count": null,
   "metadata": {},
   "outputs": [],
   "source": []
  }
 ],
 "metadata": {
  "kernelspec": {
   "display_name": "Python 3",
   "language": "python",
   "name": "python3"
  },
  "language_info": {
   "codemirror_mode": {
    "name": "ipython",
    "version": 3
   },
   "file_extension": ".py",
   "mimetype": "text/x-python",
   "name": "python",
   "nbconvert_exporter": "python",
   "pygments_lexer": "ipython3",
   "version": "3.8.1"
  }
 },
 "nbformat": 4,
 "nbformat_minor": 4
}
