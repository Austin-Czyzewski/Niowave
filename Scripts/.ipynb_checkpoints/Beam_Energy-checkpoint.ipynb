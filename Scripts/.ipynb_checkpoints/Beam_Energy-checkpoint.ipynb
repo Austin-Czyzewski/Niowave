{
 "cells": [
  {
   "cell_type": "code",
   "execution_count": 1,
   "metadata": {},
   "outputs": [],
   "source": [
    "import numpy as np\n",
    "import matplotlib.pyplot as plt\n",
    "import seaborn\n",
    "seaborn.set()"
   ]
  },
  {
   "cell_type": "markdown",
   "metadata": {},
   "source": [
    "# Injector Energy Calculation"
   ]
  },
  {
   "cell_type": "markdown",
   "metadata": {},
   "source": [
    "## Input your Dipole 1 Setting here:"
   ]
  },
  {
   "cell_type": "code",
   "execution_count": 38,
   "metadata": {},
   "outputs": [],
   "source": [
    "DP1_Setting = 0.550 #Amps"
   ]
  },
  {
   "cell_type": "code",
   "execution_count": 39,
   "metadata": {},
   "outputs": [],
   "source": [
    "Excel_Fit = 0.1506\n",
    "\n",
    "Radius_of_Curvature = 0.1 #meters\n",
    "\n",
    "#############Constants##############\n",
    "Mass_of_Electron = 9.1091e-31 #kg\n",
    "eV = 1.602e-19 #C\n",
    "Speed_of_Light = 2.998e8 #m/s\n",
    "Electron_Rest_Mass = 0.511 #MeV\n",
    "Electron_Rest_Mass_eV = 0.511 * 10 ** 6 "
   ]
  },
  {
   "cell_type": "markdown",
   "metadata": {},
   "source": [
    "### From Dipole 1 Data taken at:\n",
    "\n",
    "N:\\Project Engineering\\Magnet Catalog\\Magnet Testing Logs\\Dipole\\4600-dba\\00-ELEC-4600-A01_4d13.xlsx"
   ]
  },
  {
   "cell_type": "markdown",
   "metadata": {},
   "source": [
    "Magnetic Field Strength\n",
    "$$ B(kG) = A_{DP1} \\cdot 0.1506 $$"
   ]
  },
  {
   "cell_type": "code",
   "execution_count": 40,
   "metadata": {},
   "outputs": [
    {
     "name": "stdout",
     "output_type": "stream",
     "text": [
      "B-Field = 8.283E-03 T\n"
     ]
    }
   ],
   "source": [
    "B_Field_kG = (DP1_Setting * Excel_Fit)*1000\n",
    "B_Field_T = B_Field_kG * 1e-4\n",
    "print(\"B-Field = {0:.3E} T\".format(B_Field_T))"
   ]
  },
  {
   "cell_type": "code",
   "execution_count": 41,
   "metadata": {},
   "outputs": [
    {
     "name": "stdout",
     "output_type": "stream",
     "text": [
      "1.3269366000000003e-22\n",
      "131023392.33426583\n"
     ]
    }
   ],
   "source": [
    "P = Radius_of_Curvature * B_Field_T * eV\n",
    "print(P)\n",
    "V = (Speed_of_Light*P)/(np.sqrt(Speed_of_Light**2*Mass_of_Electron**2 + P**2))\n",
    "print(V)"
   ]
  },
  {
   "cell_type": "markdown",
   "metadata": {},
   "source": []
  },
  {
   "cell_type": "code",
   "execution_count": 42,
   "metadata": {},
   "outputs": [
    {
     "name": "stdout",
     "output_type": "stream",
     "text": [
      "v = 1.310E+08 m/s\n",
      "v = 43.704 %c\n"
     ]
    }
   ],
   "source": [
    "Electron_Velocity = ((B_Field_T)*\\\n",
    "                     (eV)*\\\n",
    "                     (Radius_of_Curvature))/(Mass_of_Electron)\n",
    "Electron_V_c = V/Speed_of_Light\n",
    "print(\"v = {0:.3E} m/s\\nv = {1:.3f} %c\".\\\n",
    "      format(V, Electron_V_c*100))"
   ]
  },
  {
   "cell_type": "code",
   "execution_count": 43,
   "metadata": {},
   "outputs": [
    {
     "name": "stdout",
     "output_type": "stream",
     "text": [
      "Injector Energy = 57.13 keV\n"
     ]
    }
   ],
   "source": [
    "# Kinetic_Energy_MeV = (Electron_Rest_Mass)/\\\n",
    "#             (np.sqrt(1-((Electron_Velocity**2)/\\\n",
    "#             (Speed_of_Light**2)))) - (Electron_Rest_Mass)\n",
    "Kinetic_Energy_MeV = (Electron_Rest_Mass)/\\\n",
    "            (np.sqrt(1-((V**2)/\\\n",
    "            (Speed_of_Light**2)))) - (Electron_Rest_Mass)\n",
    "Kinetic_Energy_KeV = Kinetic_Energy_MeV*1000\n",
    "print(\"Injector Energy = {0:.2f} keV\".\\\n",
    "      format(Kinetic_Energy_KeV))"
   ]
  },
  {
   "cell_type": "code",
   "execution_count": null,
   "metadata": {},
   "outputs": [],
   "source": []
  }
 ],
 "metadata": {
  "kernelspec": {
   "display_name": "Python 3",
   "language": "python",
   "name": "python3"
  },
  "language_info": {
   "codemirror_mode": {
    "name": "ipython",
    "version": 3
   },
   "file_extension": ".py",
   "mimetype": "text/x-python",
   "name": "python",
   "nbconvert_exporter": "python",
   "pygments_lexer": "ipython3",
   "version": "3.8.1"
  }
 },
 "nbformat": 4,
 "nbformat_minor": 4
}
