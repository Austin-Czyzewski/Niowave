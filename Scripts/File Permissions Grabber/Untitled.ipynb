{
 "cells": [
  {
   "cell_type": "code",
   "execution_count": 48,
   "metadata": {},
   "outputs": [],
   "source": [
    "import os\n",
    "import re\n",
    "\n",
    "folder = '.'\n",
    "filepaths = [os.path.join(folder, f) for f in os.listdir(folder)]"
   ]
  },
  {
   "cell_type": "code",
   "execution_count": 49,
   "metadata": {},
   "outputs": [],
   "source": [
    "filepaths = [f.path for f in os.scandir('.') if f.is_file()]\n",
    "dirpaths  = [f.path for f in os.scandir('.') if f.is_dir()]\n",
    "\n",
    "def icacls_runner(path):\n",
    "    return os.popen('icacls {}'.format(path))\n",
    "\n",
    "def icacls_interpreter(icacls_output):\n",
    "    temp_list = []\n",
    "    for line in icacls_output:\n",
    "        if \":\" in line:\n",
    "            line = re.sub('\\s{3,}','',line)\n",
    "            temp_list.append(re.split(':',line))\n",
    "    return temp_list"
   ]
  },
  {
   "cell_type": "code",
   "execution_count": 57,
   "metadata": {},
   "outputs": [
    {
     "ename": "TypeError",
     "evalue": "unsupported operand type(s) for /: 'list' and 'int'",
     "output_type": "error",
     "traceback": [
      "\u001b[1;31m---------------------------------------------------------------------------\u001b[0m",
      "\u001b[1;31mTypeError\u001b[0m                                 Traceback (most recent call last)",
      "\u001b[1;32m<ipython-input-57-43f18fdf21c8>\u001b[0m in \u001b[0;36m<module>\u001b[1;34m\u001b[0m\n\u001b[0;32m      1\u001b[0m \u001b[0mlist_of_nums\u001b[0m \u001b[1;33m=\u001b[0m \u001b[1;33m[\u001b[0m\u001b[1;36m1\u001b[0m\u001b[1;33m,\u001b[0m\u001b[1;36m2\u001b[0m\u001b[1;33m,\u001b[0m\u001b[1;36m3\u001b[0m\u001b[1;33m,\u001b[0m\u001b[1;36m4\u001b[0m\u001b[1;33m,\u001b[0m\u001b[1;36m5\u001b[0m\u001b[1;33m,\u001b[0m\u001b[1;36m6\u001b[0m\u001b[1;33m,\u001b[0m\u001b[1;36m7\u001b[0m\u001b[1;33m]\u001b[0m\u001b[1;33m\u001b[0m\u001b[1;33m\u001b[0m\u001b[0m\n\u001b[1;32m----> 2\u001b[1;33m \u001b[0mthing\u001b[0m \u001b[1;33m=\u001b[0m \u001b[0mlist_of_nums\u001b[0m \u001b[1;33m/\u001b[0m\u001b[1;36m7\u001b[0m\u001b[1;33m\u001b[0m\u001b[1;33m\u001b[0m\u001b[0m\n\u001b[0m\u001b[0;32m      3\u001b[0m \u001b[0mprint\u001b[0m\u001b[1;33m(\u001b[0m\u001b[0mthing\u001b[0m\u001b[1;33m)\u001b[0m\u001b[1;33m\u001b[0m\u001b[1;33m\u001b[0m\u001b[0m\n",
      "\u001b[1;31mTypeError\u001b[0m: unsupported operand type(s) for /: 'list' and 'int'"
     ]
    }
   ],
   "source": [
    "list_of_nums = [1,2,3,4,5,6,7]\n",
    "thing = list_of_nums /7\n",
    "print(thing)"
   ]
  },
  {
   "cell_type": "code",
   "execution_count": 50,
   "metadata": {},
   "outputs": [
    {
     "name": "stdout",
     "output_type": "stream",
     "text": [
      "FILE : .\\Untitled.ipynb\n",
      "DIRECTORY : .\\.ipynb_checkpoints [['.ipynb_checkpoints NT AUTHORITY\\\\SYSTEM', '(I)(OI)(CI)(F)\\n'], ['BUILTIN\\\\Administrators', '(I)(OI)(CI)(F)\\n'], ['NIOWAVE\\\\aczyzewski', '(I)(OI)(CI)(F)\\n']]\n",
      "FILE : .\\.ipynb_checkpoints\\Untitled-checkpoint.ipynb\n"
     ]
    }
   ],
   "source": [
    "for (dirpath, dirnames, filenames) in os.walk('.'):\n",
    "    for f in filenames:\n",
    "        print('FILE :', os.path.join(dirpath, f))\n",
    "    for d in dirnames:\n",
    "        print('DIRECTORY :', os.path.join(dirpath, d), icacls_interpreter(os.popen('icacls {}'.format(d))))"
   ]
  },
  {
   "cell_type": "code",
   "execution_count": 54,
   "metadata": {},
   "outputs": [
    {
     "name": "stdout",
     "output_type": "stream",
     "text": [
      "[]\n",
      "[]\n",
      "[]\n",
      "[]\n",
      "[]\n",
      "[]\n",
      "[]\n",
      "[]\n",
      "[]\n",
      "[]\n",
      "[]\n",
      "[]\n",
      "[]\n",
      "[]\n",
      "[]\n",
      "[]\n",
      "[]\n",
      "[]\n",
      "[]\n",
      "[]\n",
      "[]\n",
      "[]\n",
      "[]\n",
      "[]\n",
      "[]\n",
      "[]\n",
      "[]\n",
      "[]\n",
      "[]\n",
      "[]\n",
      "[]\n",
      "[]\n",
      "[]\n",
      "[['../..\\\\Python-PLC\\\\Cutoffs\\\\Data NT AUTHORITY\\\\SYSTEM', '(I)(OI)(CI)(F)\\n'], ['BUILTIN\\\\Administrators', '(I)(OI)(CI)(F)\\n'], ['NIOWAVE\\\\aczyzewski', '(I)(OI)(CI)(F)\\n']]\n",
      "[['../..\\\\Python-PLC\\\\Cutoffs\\\\New_Version NT AUTHORITY\\\\SYSTEM', '(I)(OI)(CI)(F)\\n'], ['BUILTIN\\\\Administrators', '(I)(OI)(CI)(F)\\n'], ['NIOWAVE\\\\aczyzewski', '(I)(OI)(CI)(F)\\n']]\n",
      "[['../..\\\\Python-PLC\\\\Cutoffs\\\\__pycache__ NT AUTHORITY\\\\SYSTEM', '(I)(OI)(CI)(F)\\n'], ['BUILTIN\\\\Administrators', '(I)(OI)(CI)(F)\\n'], ['NIOWAVE\\\\aczyzewski', '(I)(OI)(CI)(F)\\n']]\n",
      "[['../..\\\\Python-PLC\\\\Cutoffs NT AUTHORITY\\\\SYSTEM', '(I)(OI)(CI)(F)\\n'], ['BUILTIN\\\\Administrators', '(I)(OI)(CI)(F)\\n'], ['NIOWAVE\\\\aczyzewski', '(I)(OI)(CI)(F)\\n']]\n",
      "[]\n",
      "[]\n",
      "[['../..\\\\Python-PLC\\\\Degauss\\\\__pycache__ NT AUTHORITY\\\\SYSTEM', '(I)(OI)(CI)(F)\\n'], ['BUILTIN\\\\Administrators', '(I)(OI)(CI)(F)\\n'], ['NIOWAVE\\\\aczyzewski', '(I)(OI)(CI)(F)\\n']]\n",
      "[['../..\\\\Python-PLC\\\\Degauss NT AUTHORITY\\\\SYSTEM', '(I)(OI)(CI)(F)\\n'], ['BUILTIN\\\\Administrators', '(I)(OI)(CI)(F)\\n'], ['NIOWAVE\\\\aczyzewski', '(I)(OI)(CI)(F)\\n']]\n",
      "[]\n",
      "[]\n",
      "[]\n",
      "[]\n",
      "[]\n",
      "[]\n",
      "[]\n",
      "[]\n",
      "[]\n",
      "[]\n",
      "[]\n",
      "[]\n",
      "[]\n",
      "[]\n",
      "[]\n",
      "[]\n",
      "[]\n",
      "[]\n",
      "[]\n",
      "[]\n",
      "[]\n",
      "[]\n",
      "[]\n",
      "[]\n",
      "[]\n",
      "[]\n",
      "[]\n",
      "[]\n",
      "[]\n",
      "[['../..\\\\Python-PLC\\\\In_Testing NT AUTHORITY\\\\SYSTEM', '(I)(OI)(CI)(F)\\n'], ['BUILTIN\\\\Administrators', '(I)(OI)(CI)(F)\\n'], ['NIOWAVE\\\\aczyzewski', '(I)(OI)(CI)(F)\\n']]\n",
      "[]\n",
      "[]\n",
      "[]\n",
      "[['../..\\\\Python-PLC NT AUTHORITY\\\\SYSTEM', '(I)(OI)(CI)(F)\\n'], ['BUILTIN\\\\Administrators', '(I)(OI)(CI)(F)\\n'], ['NIOWAVE\\\\aczyzewski', '(I)(OI)(CI)(F)\\n']]\n",
      "[['../..\\\\Python-SCADA\\\\__pycache__ NT AUTHORITY\\\\SYSTEM', '(I)(OI)(CI)(F)\\n'], ['BUILTIN\\\\Administrators', '(I)(OI)(CI)(F)\\n'], ['NIOWAVE\\\\aczyzewski', '(I)(OI)(CI)(F)\\n']]\n",
      "[['../..\\\\Python-SCADA NT AUTHORITY\\\\SYSTEM', '(I)(OI)(CI)(F)\\n'], ['BUILTIN\\\\Administrators', '(I)(OI)(CI)(F)\\n'], ['NIOWAVE\\\\aczyzewski', '(I)(OI)(CI)(F)\\n']]\n",
      "[]\n",
      "[]\n",
      "[]\n",
      "[]\n",
      "[]\n",
      "[]\n",
      "[]\n",
      "[]\n",
      "[]\n",
      "[['../..\\\\Scripts\\\\Java-SCADA NT AUTHORITY\\\\SYSTEM', '(I)(OI)(CI)(F)\\n'], ['BUILTIN\\\\Administrators', '(I)(OI)(CI)(F)\\n'], ['NIOWAVE\\\\aczyzewski', '(I)(OI)(CI)(F)\\n']]\n",
      "[['../..\\\\Scripts NT AUTHORITY\\\\SYSTEM', '(I)(OI)(CI)(F)\\n'], ['BUILTIN\\\\Administrators', '(I)(OI)(CI)(F)\\n'], ['NIOWAVE\\\\aczyzewski', '(I)(OI)(CI)(F)\\n']]\n",
      "[['../.. NT AUTHORITY\\\\SYSTEM', '(I)(OI)(CI)(F)\\n'], ['BUILTIN\\\\Administrators', '(I)(OI)(CI)(F)\\n'], ['NIOWAVE\\\\aczyzewski', '(I)(OI)(CI)(F)\\n']]\n"
     ]
    }
   ],
   "source": [
    "import os\n",
    "import re\n",
    "import folderstats\n",
    "\n",
    "\n",
    "def icacls_runner(path):\n",
    "    return os.popen('icacls {}'.format(path))\n",
    "\n",
    "def icacls_interpreter(icacls_output):\n",
    "    temp_list = []\n",
    "    for line in icacls_output:\n",
    "        if \":\" in line:\n",
    "            line = re.sub('\\s{3,}','',line)\n",
    "            temp_list.append(re.split(':',line))\n",
    "    return temp_list\n",
    "\n",
    "\n",
    "df = folderstats.folderstats('../..', ignore_hidden=True)\n",
    "for path in df.loc[df.folder == True].path:\n",
    "    print(icacls_interpreter(icacls_runner(path)))"
   ]
  },
  {
   "cell_type": "code",
   "execution_count": null,
   "metadata": {},
   "outputs": [],
   "source": []
  }
 ],
 "metadata": {
  "kernelspec": {
   "display_name": "Python 3",
   "language": "python",
   "name": "python3"
  },
  "language_info": {
   "codemirror_mode": {
    "name": "ipython",
    "version": 3
   },
   "file_extension": ".py",
   "mimetype": "text/x-python",
   "name": "python",
   "nbconvert_exporter": "python",
   "pygments_lexer": "ipython3",
   "version": "3.8.1"
  }
 },
 "nbformat": 4,
 "nbformat_minor": 4
}
