{
 "cells": [
  {
   "cell_type": "code",
   "execution_count": 15,
   "metadata": {},
   "outputs": [],
   "source": [
    "import numpy as np\n",
    "import matplotlib.pyplot as plt\n",
    "import seaborn\n",
    "seaborn.set()"
   ]
  },
  {
   "cell_type": "code",
   "execution_count": 16,
   "metadata": {},
   "outputs": [],
   "source": [
    "Q_0 = 3e9\n",
    "Q_e = 1e7\n",
    "Q_t = 3e12\n",
    "I_e = 100e-6\n",
    "E_e = 10e6\n",
    "frequency = 350e6\n",
    "Beta = Q_0/Q_e\n",
    "omega = 2*np.pi*frequency\n",
    "U = 1"
   ]
  },
  {
   "cell_type": "markdown",
   "metadata": {},
   "source": [
    "### Calculate P_e, P_t, P_c, and  P_b\n",
    "\n",
    "$$ P_c = \\frac{\\omega \\cdot U}{Q_0} $$\n",
    "$$ P_e = \\beta \\cdot P_c $$\n",
    "$$ P_b = P_e - P_c $$\n",
    "$$ P_t = \\frac{\\omega \\cdot U}{Q_t} $$"
   ]
  },
  {
   "cell_type": "code",
   "execution_count": 26,
   "metadata": {},
   "outputs": [
    {
     "name": "stdout",
     "output_type": "stream",
     "text": [
      "P_e = 219.91 Watts\n",
      "P_t = 7.33e-04 Watts\n",
      "P_c = 0.73 Watts\n",
      "P_b = 1000.00 Watts\n",
      "\n",
      "\n",
      "P_e = 53.42 dBm\n",
      "P_t = -1.35 dBm\n",
      "P_c = 28.65 dBm\n",
      "P_b = 60.00 dBm\n"
     ]
    }
   ],
   "source": [
    "P_c = omega*U/Q_0\n",
    "P_e = Beta*P_c\n",
    "P_b = I_e * E_e\n",
    "P_t = omega*U/Q_t\n",
    "print(\"P_e = {:.2f} Watts\\nP_t = {:.2e} Watts\\nP_c = {:.2f} Watts\\nP_b = {:.2f} Watts\\n\\n\".format(P_e, P_t, P_c, P_b))\n",
    "def Watts_dBm(Watts):\n",
    "    return 10*np.log10(1000*Watts)\n",
    "print(\"P_e = {:.2f} dBm\\nP_t = {:.2f} dBm\\nP_c = {:.2f} dBm\\nP_b = {:.2f} dBm\".format(Watts_dBm(P_e), Watts_dBm(P_t), Watts_dBm(P_c), Watts_dBm(P_b)))"
   ]
  },
  {
   "cell_type": "code",
   "execution_count": null,
   "metadata": {},
   "outputs": [],
   "source": []
  }
 ],
 "metadata": {
  "kernelspec": {
   "display_name": "Python 3",
   "language": "python",
   "name": "python3"
  },
  "language_info": {
   "codemirror_mode": {
    "name": "ipython",
    "version": 3
   },
   "file_extension": ".py",
   "mimetype": "text/x-python",
   "name": "python",
   "nbconvert_exporter": "python",
   "pygments_lexer": "ipython3",
   "version": "3.8.1"
  }
 },
 "nbformat": 4,
 "nbformat_minor": 4
}
