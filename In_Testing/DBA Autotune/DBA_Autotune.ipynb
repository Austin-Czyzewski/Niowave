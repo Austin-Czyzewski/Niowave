{
 "cells": [
  {
   "cell_type": "code",
   "execution_count": 1,
   "metadata": {},
   "outputs": [],
   "source": [
    "import numpy as np\n",
    "import matplotlib.pyplot as plt\n",
    "import Master as M\n",
    "import Tag_Database as Tags\n",
    "import seaborn as sns\n",
    "sns.set()"
   ]
  },
  {
   "cell_type": "markdown",
   "metadata": {},
   "source": [
    "# DBA Autotune\n",
    "#### Method\n",
    "\n",
    "Using Kevin Xu's beam tracking software, we can tune in the DBA automatically according to the rules set forth for the DBA tuning process to ensure a focused and tight beam by the time we reach the cavity. Some of the benefits here will be on the fly tuning so that we can check the DBA setup. We could also do this at different emissions so that we have different conditions in which we are tuning on. This file will be an executable so that it will not run in the background.\n",
    "\n",
    "Method to follow:\n",
    "\n",
    "    - This is going to be tough but hear me out.\n",
    "    - We will require the beam to be on the aperture. Then we are going to loop through to check the following conditions\n",
    "    - When toggling solenoid two, the beam does not move, the beam should simply rotate slightly, there is something to be said of the rotation but what that is I am not sure.\n",
    "    - "
   ]
  },
  {
   "cell_type": "code",
   "execution_count": 50,
   "metadata": {},
   "outputs": [
    {
     "name": "stdout",
     "output_type": "stream",
     "text": [
      "The calculated values for the magnets are the following:\n",
      "\n",
      "Dipole 1: 1.000 Amps\n",
      "Dipole 2: 1.000 Amps\n",
      "Solenoid 1: -1.660 Amps\n",
      "Solenoid 2: -1.932 Amps\n",
      "Solenoid 3: 1.079 Amps\n"
     ]
    },
    {
     "data": {
      "text/plain": [
       "(1, 1, -1.6598, -1.9319, 1.079)"
      ]
     },
     "execution_count": 50,
     "metadata": {},
     "output_type": "execute_result"
    }
   ],
   "source": [
    "def Magnet_Calculations(Energy):\n",
    "    \n",
    "    # Here we have the required calculated amperage per kG for each magnet type. The ratios below are a G ratio, not an Amperage ratio\n",
    "    \n",
    "    Sol_1_ApkG = 1\n",
    "    Sol_2_ApKG = 1\n",
    "    DP1_ApkG = 1\n",
    "    DP2_ApkG = 1\n",
    "    Sol_3_ApkG = 1\n",
    "    \n",
    "    #### Now establish the strengths assuming linear field strength with amperage\n",
    "    #### We are going to use the dipoles as our baseline, since the solenoids should scale with these values\n",
    "    \n",
    "    # --- Ratios\n",
    "    \n",
    "    DP_Guass_Calc = 200\n",
    "    \n",
    "    DP1_Calc = 1\n",
    "    DP2_Calc = 1\n",
    "    Sol_1_Calc = -1.6598\n",
    "    Sol_2_Calc = -1.9319\n",
    "    Sol_3_Calc = 1.079\n",
    "    \n",
    "    print(\"The calculated values for the magnets are the following:\\n\\n\" \\\n",
    "          \"Dipole 1: {:.3f} Amps\\n\"\n",
    "          \"Dipole 2: {:.3f} Amps\\n\"\n",
    "          \"Solenoid 1: {:.3f} Amps\\n\"\n",
    "          \"Solenoid 2: {:.3f} Amps\\n\"\n",
    "          \"Solenoid 3: {:.3f} Amps\".format(DP1_Calc, DP2_Calc, Sol_1_Calc, Sol_2_Calc, Sol_3_Calc) \n",
    "         )\n",
    "    \n",
    "    return DP1_Calc, DP2_Calc, Sol_1_Calc, Sol_2_Calc, Sol_3_Calc\n",
    "\n",
    "Magnet_Calculations(100)"
   ]
  },
  {
   "cell_type": "code",
   "execution_count": 51,
   "metadata": {},
   "outputs": [],
   "source": [
    "def Injector_Energy_Deg(Angle_of_Rotation, Amps):\n",
    "    '''\n",
    "    Inputs:\n",
    "        - Angle_of_Rotation: Angle, in degrees, of the observed rotation\n",
    "        - Amps: Amps of solenoid 2 setting for the observed rotation\n",
    "    '''\n",
    "    \n",
    "    # Defining our constants\n",
    "    \n",
    "    Conversion_Factor = 1000\n",
    "    M_Electron_keV = 510.9989461\n",
    "    Speed_of_Light = 299792458\n",
    "    \n",
    "    # Observed constants\n",
    "    Solenoid_2_Tesla_per_Amps = 0.01036\n",
    "    Effective_Length = 0.069\n",
    "    \n",
    "    Term_1 = (0.5)*(Speed_of_Light)/(Conversion_Factor)/(np.deg2rad(Angle_of_Rotation))*(Solenoid_2_Tesla_per_Amps)*(Amps)*(Effective_Length)\n",
    "    Term_2 = M_Electron_keV\n",
    "    \n",
    "    Calculated_Energy = np.sqrt(Term_1**2 + Term_2**2) - M_Electron_keV\n",
    "    \n",
    "    print(\"Sol 2 {0:.3f} Amps has Beam Energy = {1:.2f} keV\".format(Amps,Calculated_Energy))\n",
    "    return Calculated_Energy"
   ]
  },
  {
   "cell_type": "markdown",
   "metadata": {},
   "source": [
    "## Process:\n",
    "\n",
    "#### Center Through Solenoid 1:\n",
    "    - Move Window Frame 1 and Window Frame 2 Until the following conditions are met:\n",
    "        - When Toggling Solenoid 1, the beam does not move\n",
    "        - When Scanning Solenoid 1, the beam does not move\n",
    "#### Set Solenoid 2 to focus angle:\n",
    "    - Take the angle, of the beam, if it is messy, focus the beam with solenoid 1 first\n",
    "    - Adjust Solenoid 2 until we reach an angle of 41.5 degrees off axis.\n",
    "#### Adjust Solenoid 1 to focus on the aperture:\n",
    "    - Here we are looking to reduce the head of the beam to as small as possible. This can be done in the following ways:\n",
    "        - Potentially a FWHM Calculation of the beam head at it's brightest spot\n",
    "        - The length of the beam head, using pixel count\n",
    "        - This could also be left out and done manually\n",
    "\n",
    "#### (Optional) Adjust Solenoid 3 to the calculated ratio of magnetic field strength.\n",
    "    - Calculate the required B-Field for focusing condition to be met\n",
    "    - Ramp the magnet there, this will just act as a starting point"
   ]
  },
  {
   "cell_type": "code",
   "execution_count": null,
   "metadata": {},
   "outputs": [],
   "source": []
  }
 ],
 "metadata": {
  "kernelspec": {
   "display_name": "Python 3",
   "language": "python",
   "name": "python3"
  },
  "language_info": {
   "codemirror_mode": {
    "name": "ipython",
    "version": 3
   },
   "file_extension": ".py",
   "mimetype": "text/x-python",
   "name": "python",
   "nbconvert_exporter": "python",
   "pygments_lexer": "ipython3",
   "version": "3.8.1"
  }
 },
 "nbformat": 4,
 "nbformat_minor": 4
}
