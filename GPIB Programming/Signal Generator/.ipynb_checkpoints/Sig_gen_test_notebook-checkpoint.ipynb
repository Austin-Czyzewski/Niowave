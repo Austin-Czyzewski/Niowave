{
 "cells": [
  {
   "cell_type": "code",
   "execution_count": 57,
   "metadata": {},
   "outputs": [],
   "source": [
    "import pyvisa\n",
    "import numpy as np\n",
    "import matplotlib.pyplot as plt\n",
    "import seaborn\n",
    "seaborn.set()"
   ]
  },
  {
   "cell_type": "markdown",
   "metadata": {},
   "source": [
    "## Scripts"
   ]
  },
  {
   "cell_type": "markdown",
   "metadata": {},
   "source": [
    "#### Automate FM Job"
   ]
  },
  {
   "cell_type": "code",
   "execution_count": 26,
   "metadata": {},
   "outputs": [],
   "source": [
    "import pyvisa\n",
    "import numpy as np\n",
    "import matplotlib.pyplot as plt\n",
    "import seaborn\n",
    "import Tag_Database as Tags\n",
    "import Master as M\n",
    "import time\n",
    "import Signal_Generator as SG\n",
    "seaborn.set()\n",
    "\n",
    "from pymodbus.client.sync import ModbusTcpClient\n",
    "from pymodbus.payload import BinaryPayloadDecoder\n",
    "from pymodbus.payload import BinaryPayloadBuilder\n",
    "from pymodbus.constants import Endian"
   ]
  },
  {
   "cell_type": "code",
   "execution_count": 145,
   "metadata": {},
   "outputs": [],
   "source": [
    "def Read_Float(Client, Tag_Number):\n",
    "    \n",
    "    Tag_Number = int(Tag_Number)-1\n",
    "    \n",
    "    Payload = Client.read_holding_registers(Tag_Number,2,unit=1)\n",
    "    \n",
    "    Tag_Value_Bit = BinaryPayloadDecoder.fromRegisters(Payload.registers, byteorder=Endian.Big, wordorder=Endian.Little)\n",
    "    \n",
    "    Tag_Value = Tag_Value_Bit.decode_32bit_float()\n",
    "    \n",
    "    return Tag_Value\n",
    "\n",
    "def Read_Bool(Client, Modbus_Address):\n",
    "    \n",
    "    Address = Modbus_Address - 1\n",
    "    \n",
    "    Status = Client.read_coils(Address, 1).bits[0]\n",
    "    \n",
    "    return Status\n",
    "\n",
    "def freq(Device):\n",
    "    \n",
    "    frequency = Device.query(\"freq:cw?\")\n",
    "    \n",
    "    return float(frequency)\n",
    "\n",
    "def write_frequency(Device, Value, Units = \"MHZ\"):\n",
    "    \n",
    "    Device.write(\"freq:cw {} {}\".format(Value,Units))\n",
    "    \n",
    "    return"
   ]
  },
  {
   "cell_type": "code",
   "execution_count": 158,
   "metadata": {},
   "outputs": [
    {
     "name": "stdout",
     "output_type": "stream",
     "text": [
      "Beginning frequency modulation in 5 seconds\n",
      "Beginning modulation\n",
      "Walking f down\n",
      "Walking f down\n",
      "Walking f down\n",
      "Walking f down\n",
      "Walking f down\n",
      "Walking f down\n",
      "Walking f down\n",
      "Walking f down\n",
      "Walking f down\n",
      "Walking f down\n",
      "Walking f up\n",
      "Walking f up\n",
      "Walking f up\n",
      "Walking f up\n",
      "Walking f up\n",
      "Walking f up\n",
      "Walking f up\n",
      "Walking f up\n",
      "Walking f up\n",
      "Walking f up\n",
      "Walking f up\n",
      "Walking f up\n",
      "Walking f up\n",
      "Walking f up\n",
      "Walking f down\n",
      "Walking f down\n",
      "Walking f down\n",
      "Walking f down\n",
      "Walking f down\n",
      "Walking f down\n",
      "Walking f down\n",
      "Walking f down\n",
      "Walking f down\n",
      "Walking f down\n",
      "Walking f up\n",
      "Walking f up\n",
      "Walking f up\n",
      "Walking f up\n",
      "Walking f up\n",
      "Walking f up\n",
      "Walking f up\n",
      "Walking f up\n",
      "Walking f up\n",
      "Walking f up\n",
      "Walking f up\n",
      "Walking f up\n",
      "Walking f up\n",
      "Walking f up\n",
      "Walking f up\n",
      "\n",
      "\n",
      "\n",
      "Modulation Over\n"
     ]
    },
    {
     "data": {
      "text/plain": [
       "(13, <StatusCode.success: 0>)"
      ]
     },
     "execution_count": 158,
     "metadata": {},
     "output_type": "execute_result"
    }
   ],
   "source": [
    "Client = M.Make_Client(\"10.1.2.100\")\n",
    "\n",
    "RM = pyvisa.ResourceManager()\n",
    "Signal_Generator = RM.list_resources()[0]\n",
    "SG = RM.open_resource(Signal_Generator)\n",
    "\n",
    "Start_Freq = float(SG.query(\"freq:cw?\"))\n",
    "SG.write(\"FM:STAT OFF\")\n",
    "\n",
    "print(\"Beginning frequency modulation in 5 seconds\")\n",
    "time.sleep(5)\n",
    "print(\"Beginning modulation\")\n",
    "SG.write(\"FM:STAT ON\")\n",
    "\n",
    "Start_Time = time.time()\n",
    "Ups = 0\n",
    "Downs = 0\n",
    "while time.time() - Start_Time < 100:\n",
    "    if Read_Bool(Client, 30001) == True:\n",
    "        Ups += 1\n",
    "        Downs = 0\n",
    "        if Ups > 100:\n",
    "            temp_freq = freq(SG)\n",
    "            write_frequency(SG, temp_freq + 10000 ,\"HZ\")\n",
    "            print(\"Walking frequency up\")\n",
    "            time.sleep(0.1)\n",
    "    if Read_Bool(Client, 30003) == True:\n",
    "        Downs += 1\n",
    "        Ups = 0\n",
    "        if Downs > 100:\n",
    "            temp_freq = freq(SG)\n",
    "            write_frequency(SG, temp_freq - 10000 ,\"HZ\")\n",
    "            print(\"Walking frequency down\")\n",
    "            time.sleep(0.1)\n",
    "    time.sleep(0.01)\n",
    "\n",
    "print(\"\\n\\n\\nModulation Over\")\n",
    "\n",
    "SG.write(\"FM:STAT OFF\")"
   ]
  },
  {
   "cell_type": "markdown",
   "metadata": {},
   "source": [
    "#### Insert killswitches here:\n",
    "    - Make sure SRF PF is on (slider bar is not zero)\n",
    "    - Check to make sure that the button is not pressed\n",
    "        - If it is on there, have an if statement that just exit()'s the program\n",
    "    - If taking too many steps, exit() program"
   ]
  },
  {
   "cell_type": "markdown",
   "metadata": {},
   "source": [
    "40hz?\n",
    "\n",
    "how to make it take a rolling average?"
   ]
  },
  {
   "cell_type": "code",
   "execution_count": null,
   "metadata": {},
   "outputs": [],
   "source": []
  }
 ],
 "metadata": {
  "kernelspec": {
   "display_name": "Python 3",
   "language": "python",
   "name": "python3"
  },
  "language_info": {
   "codemirror_mode": {
    "name": "ipython",
    "version": 3
   },
   "file_extension": ".py",
   "mimetype": "text/x-python",
   "name": "python",
   "nbconvert_exporter": "python",
   "pygments_lexer": "ipython3",
   "version": "3.7.3"
  }
 },
 "nbformat": 4,
 "nbformat_minor": 4
}
