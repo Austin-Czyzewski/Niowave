{
 "cells": [
  {
   "cell_type": "code",
   "execution_count": 57,
   "metadata": {},
   "outputs": [],
   "source": [
    "import pyvisa\n",
    "import numpy as np\n",
    "import matplotlib.pyplot as plt\n",
    "import seaborn\n",
    "seaborn.set()"
   ]
  },
  {
   "cell_type": "code",
   "execution_count": 58,
   "metadata": {},
   "outputs": [],
   "source": [
    "RM = pyvisa.ResourceManager()\n",
    "sg = RM.list_resources()[0]\n",
    "sg = RM.open_resource(sg)"
   ]
  },
  {
   "cell_type": "code",
   "execution_count": 77,
   "metadata": {},
   "outputs": [
    {
     "data": {
      "text/plain": [
       "'0\\n'"
      ]
     },
     "execution_count": 77,
     "metadata": {},
     "output_type": "execute_result"
    }
   ],
   "source": [
    "frequency = float(sg.query(\"freq:cw?\"))\n",
    "sg.query(\"fm:?\")"
   ]
  },
  {
   "cell_type": "code",
   "execution_count": 113,
   "metadata": {},
   "outputs": [
    {
     "name": "stdout",
     "output_type": "stream",
     "text": [
      "350000000.0\n",
      "349999999.0\n",
      "349999998.0\n",
      "349999997.0\n",
      "349999996.0\n",
      "349999995.0\n",
      "349999994.0\n",
      "349999993.0\n",
      "349999992.0\n",
      "349999991.0\n",
      "349999990.0\n",
      "349999989.0\n",
      "349999988.0\n",
      "349999987.0\n",
      "349999986.0\n",
      "349999985.0\n",
      "349999984.0\n",
      "349999983.0\n",
      "349999982.0\n",
      "349999981.0\n",
      "349999980.0\n",
      "349999979.0\n",
      "349999978.0\n",
      "349999977.0\n",
      "349999976.0\n",
      "349999975.0\n",
      "349999974.0\n",
      "349999973.0\n",
      "349999972.0\n",
      "349999971.0\n",
      "349999970.0\n",
      "349999969.0\n",
      "349999968.0\n",
      "349999967.0\n",
      "349999966.0\n",
      "349999965.0\n",
      "349999964.0\n",
      "349999963.0\n",
      "349999962.0\n",
      "349999961.0\n",
      "349999960.0\n",
      "349999959.0\n",
      "349999958.0\n",
      "349999957.0\n",
      "349999956.0\n",
      "349999955.0\n",
      "349999954.0\n",
      "349999953.0\n",
      "349999952.0\n",
      "349999951.0\n",
      "349999950.0\n",
      "349999949.0\n",
      "349999948.0\n",
      "349999947.0\n",
      "349999946.0\n",
      "349999945.0\n",
      "349999944.0\n",
      "349999943.0\n",
      "349999942.0\n",
      "349999941.0\n",
      "349999940.0\n",
      "349999939.0\n",
      "349999938.0\n",
      "349999937.0\n",
      "349999936.0\n",
      "349999935.0\n",
      "349999934.0\n",
      "349999933.0\n",
      "349999932.0\n",
      "349999931.0\n",
      "349999930.0\n",
      "349999929.0\n",
      "349999928.0\n",
      "349999927.0\n",
      "349999926.0\n",
      "349999925.0\n",
      "349999924.0\n",
      "349999923.0\n",
      "349999922.0\n",
      "349999921.0\n",
      "349999920.0\n",
      "349999919.0\n",
      "349999918.0\n",
      "349999917.0\n",
      "349999916.0\n",
      "349999915.0\n",
      "349999914.0\n",
      "349999913.0\n",
      "349999912.0\n",
      "349999911.0\n",
      "349999910.0\n",
      "349999909.0\n",
      "349999908.0\n",
      "349999907.0\n",
      "349999906.0\n",
      "349999905.0\n",
      "349999904.0\n",
      "349999903.0\n",
      "349999902.0\n",
      "349999901.0\n",
      "349999900.0\n"
     ]
    }
   ],
   "source": [
    "def freq(Device):\n",
    "    frequency = Device.query(\"freq:cw?\")\n",
    "    \n",
    "    return float(frequency)\n",
    "\n",
    "def write_frequency(Device, Value, Units = \"MHZ\"):\n",
    "    Device.write(\"freq:cw {} {}\".format(Value,Units))\n",
    "\n",
    "    \n",
    "frequency = freq(sg)\n",
    "\n",
    "for i in range(101):\n",
    "    write_frequency(sg, frequency, \"HZ\")\n",
    "    print(freq(sg))\n",
    "    \n",
    "    frequency -= 1"
   ]
  },
  {
   "cell_type": "markdown",
   "metadata": {},
   "source": [
    "## Scripts"
   ]
  },
  {
   "cell_type": "markdown",
   "metadata": {},
   "source": [
    "#### Walk Gun and BH into resonance"
   ]
  },
  {
   "cell_type": "code",
   "execution_count": 70,
   "metadata": {},
   "outputs": [],
   "source": [
    "import pyvisa\n",
    "import numpy as np\n",
    "import matplotlib.pyplot as plt\n",
    "import seaborn\n",
    "import Tag_Database as Tags\n",
    "import Master as M\n",
    "seaborn.set()"
   ]
  },
  {
   "cell_type": "code",
   "execution_count": 80,
   "metadata": {},
   "outputs": [
    {
     "data": {
      "text/plain": [
       "0.00015259021893143654"
      ]
     },
     "execution_count": 80,
     "metadata": {},
     "output_type": "execute_result"
    }
   ],
   "source": [
    "Client = M.Make_Client(\"10.50.0.10\")\n",
    "\n",
    "M.Read(Client,11109)"
   ]
  },
  {
   "cell_type": "markdown",
   "metadata": {},
   "source": [
    "#### Automate FM job"
   ]
  },
  {
   "cell_type": "code",
   "execution_count": 108,
   "metadata": {},
   "outputs": [
    {
     "data": {
      "text/plain": [
       "'+3.50000000000000E+008\\n'"
      ]
     },
     "execution_count": 108,
     "metadata": {},
     "output_type": "execute_result"
    }
   ],
   "source": [
    "Command = \"FREQ:CW?\"\n",
    "\n",
    "sg.query(Command)"
   ]
  },
  {
   "cell_type": "code",
   "execution_count": 106,
   "metadata": {},
   "outputs": [
    {
     "data": {
      "text/plain": [
       "100000000.0"
      ]
     },
     "execution_count": 106,
     "metadata": {},
     "output_type": "execute_result"
    }
   ],
   "source": [
    "freq(sg)"
   ]
  },
  {
   "cell_type": "code",
   "execution_count": 107,
   "metadata": {},
   "outputs": [],
   "source": [
    "write_frequency(sg,350e6,\"hz\")"
   ]
  },
  {
   "cell_type": "code",
   "execution_count": null,
   "metadata": {},
   "outputs": [],
   "source": []
  }
 ],
 "metadata": {
  "kernelspec": {
   "display_name": "Python 3",
   "language": "python",
   "name": "python3"
  },
  "language_info": {
   "codemirror_mode": {
    "name": "ipython",
    "version": 3
   },
   "file_extension": ".py",
   "mimetype": "text/x-python",
   "name": "python",
   "nbconvert_exporter": "python",
   "pygments_lexer": "ipython3",
   "version": "3.7.3"
  }
 },
 "nbformat": 4,
 "nbformat_minor": 4
}
