{
 "cells": [
  {
   "cell_type": "markdown",
   "metadata": {},
   "source": [
    "## Function"
   ]
  },
  {
   "cell_type": "markdown",
   "metadata": {},
   "source": [
    "#### Read the average of channel 3 and export that data"
   ]
  },
  {
   "cell_type": "code",
   "execution_count": 2,
   "metadata": {},
   "outputs": [],
   "source": [
    "import pyvisa\n",
    "import numpy as np\n",
    "import matplotlib.pyplot as plt\n",
    "import seaborn\n",
    "import Tag_Database as Tags\n",
    "import Master as M\n",
    "import time\n",
    "seaborn.set()\n",
    "\n",
    "from pymodbus.client.sync import ModbusTcpClient\n",
    "from pymodbus.payload import BinaryPayloadDecoder\n",
    "from pymodbus.payload import BinaryPayloadBuilder\n",
    "from pymodbus.constants import Endian"
   ]
  },
  {
   "cell_type": "code",
   "execution_count": 182,
   "metadata": {},
   "outputs": [],
   "source": [
    "RM = pyvisa.ResourceManager()\n",
    "RM.list_resources()\n",
    "SG = RM.open_resource('GPIB0::1::INSTR')\n",
    "OS = RM.open_resource('GPIB0::10::INSTR')"
   ]
  },
  {
   "cell_type": "code",
   "execution_count": 183,
   "metadata": {},
   "outputs": [],
   "source": [
    "def freq(Device):\n",
    "    \n",
    "    frequency = Device.query(\"freq:cw?\")\n",
    "    \n",
    "    return float(frequency)\n",
    "\n",
    "def write_frequency(Device, Value, Units = \"MHZ\"):\n",
    "    \n",
    "    Device.write(\"freq:cw {} {}\".format(Value,Units))\n",
    "    \n",
    "    return\n",
    "\n",
    "def read_mv(OSCOPE):\n",
    "    return 1000*float(OS.query(\"MEASU:MEAS1:VAL?\").split(' ')[1].strip(\"\\n\"))\n",
    "\n",
    "def read_v(OSCOPE):\n",
    "    return float(OS.query(\"MEASU:MEAS1:VAL?\").split(' ')[1].strip(\"\\n\"))\n",
    "\n",
    "def mean_meas(OSCOPE, CHANNEL, MEASUREMENT, SCALE = False):\n",
    "    \n",
    "    if type(CHANNEL) and type(MEASUREMENT) != int:\n",
    "        print(\"Must be integers!\")\n",
    "    \n",
    "    if not SCALE == False:\n",
    "        OS.write(\"CH3:SCA {:.1E}\".format())\n",
    "        \n",
    "    OS.write(\"MEASU:MEAS{}:SOURCE1 CH{}\".format(MEASUREMENT, CHANNEL))\n",
    "    OS.write(\"MEASU:MEAS{}:UNI v\".format(MEASUREMENT))\n",
    "    OS.write(\"MEASU:MEAS{}:STATE ON\".format(MEASUREMENT))\n",
    "    time.sleep(1)\n",
    "    return OS.query(\"MEASU:meas{}:val?\".format(MEASUREMENT))"
   ]
  },
  {
   "cell_type": "code",
   "execution_count": 187,
   "metadata": {},
   "outputs": [
    {
     "data": {
      "text/plain": [
       "(6, <StatusCode.success: 0>)"
      ]
     },
     "execution_count": 187,
     "metadata": {},
     "output_type": "execute_result"
    }
   ],
   "source": [
    "SG.write(\"*wai\")"
   ]
  },
  {
   "cell_type": "code",
   "execution_count": 184,
   "metadata": {},
   "outputs": [
    {
     "data": {
      "text/plain": [
       "array([ 7.1768 ,  3.0143 ,  0.63882, -4.2157 , -5.4255 , -6.7156 ,\n",
       "       -1.903  ,  0.50224,  2.876  ,  7.1448 ,  6.0883 ,  3.7033 ,\n",
       "       -1.107  , -3.5166 , -6.8768 , -4.959  , -2.5899 ,  2.1957 ,\n",
       "        4.6602 ,  7.0233 ,  4.3864 ,  2.0007 , -0.48883, -5.2434 ,\n",
       "       -6.8416 ])"
      ]
     },
     "execution_count": 184,
     "metadata": {},
     "output_type": "execute_result"
    }
   ],
   "source": [
    "OS.write(\"CH3:SCA 5.0E-3\")\n",
    "OS.write(\"MEASU:MEAS1:SOURCE1 CH3\")\n",
    "OS.write(\"MEASU:MEAS1:UNI v\")\n",
    "OS.write(\"MEASU:MEAS1:STATE ON\")\n",
    "time.sleep(1)\n",
    "OS.query(\"MEASU:meas1:val?\")\n",
    "\n",
    "\n",
    "temp_list = []\n",
    "\n",
    "\n",
    "for i in range(25):\n",
    "    \n",
    "    temp_list.append(1000*float(OS.query(\"MEASU:MEAS1:VAL?\").split(' ')[1].strip(\"\\n\")))\n",
    "    #temp_list.append(1000*float(OS.query(\"CURSor:VBArs:HPOS1?\").split(' ')[1].strip(\"\\n\")))\n",
    "    time.sleep(0.5)\n",
    "    \n",
    "np.array(temp_list)"
   ]
  },
  {
   "cell_type": "code",
   "execution_count": null,
   "metadata": {},
   "outputs": [],
   "source": [
    "Start_Freq = float(SG.query(\"freq:cw?\"))\n",
    "SG.write(\"FM:STAT OFF\")\n",
    "\n",
    "print(\"Beginning frequency modulation in 5 seconds\")\n",
    "time.sleep(5)\n",
    "print(\"Beginning modulation\")\n",
    "SG.write(\"FM:STAT ON\")\n",
    "\n",
    "Start_Time = time.time()\n",
    "Ups = 0\n",
    "Downs = 0\n",
    "while time.time() - Start_Time < 100:\n",
    "    if Read_Bool(Client, 30001) == True:\n",
    "        Ups += 1\n",
    "        Downs = 0\n",
    "        if Ups > 10:\n",
    "            temp_freq = freq(SG)\n",
    "            write_frequency(SG, temp_freq + 10000 ,\"HZ\")\n",
    "            print(\"Walking frequency up\")\n",
    "            time.sleep(0.1)\n",
    "    if Read_Bool(Client, 30003) == True:\n",
    "        Downs += 1\n",
    "        Ups = 0\n",
    "        if Downs > 10:\n",
    "            temp_freq = freq(SG)\n",
    "            write_frequency(SG, temp_freq - 10000 ,\"HZ\")\n",
    "            print(\"Walking frequency down\")\n",
    "            time.sleep(0.1)\n",
    "    time.sleep(0.01)\n",
    "\n",
    "print(\"\\n\\n\\nModulation Over\")"
   ]
  },
  {
   "cell_type": "code",
   "execution_count": 191,
   "metadata": {},
   "outputs": [],
   "source": [
    "def write_frequency(Device, Value, Units = \"MHZ\"):\n",
    "    \n",
    "    Device.write(\"freq:cw {} {}\".format(Value,Units))\n",
    "    Device.write(\"*wai\")\n",
    "    \n",
    "    return\n",
    "temp = freq(SG)\n",
    "write_frequency(SG, temp + 200, \"HZ\")"
   ]
  },
  {
   "cell_type": "code",
   "execution_count": null,
   "metadata": {},
   "outputs": [],
   "source": []
  }
 ],
 "metadata": {
  "kernelspec": {
   "display_name": "Python 3",
   "language": "python",
   "name": "python3"
  },
  "language_info": {
   "codemirror_mode": {
    "name": "ipython",
    "version": 3
   },
   "file_extension": ".py",
   "mimetype": "text/x-python",
   "name": "python",
   "nbconvert_exporter": "python",
   "pygments_lexer": "ipython3",
   "version": "3.7.3"
  }
 },
 "nbformat": 4,
 "nbformat_minor": 4
}
