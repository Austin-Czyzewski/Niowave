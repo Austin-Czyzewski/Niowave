{
 "cells": [
  {
   "cell_type": "code",
   "execution_count": 1,
   "metadata": {},
   "outputs": [
    {
     "ename": "SystemExit",
     "evalue": "0",
     "output_type": "error",
     "traceback": [
      "An exception has occurred, use %tb to see the full traceback.\n",
      "\u001b[1;31mSystemExit\u001b[0m\u001b[1;31m:\u001b[0m 0\n"
     ]
    },
    {
     "name": "stderr",
     "output_type": "stream",
     "text": [
      "c:\\users\\aczyzewski\\appdata\\local\\programs\\python\\python37\\lib\\site-packages\\IPython\\core\\interactiveshell.py:3339: UserWarning: To exit: use 'exit', 'quit', or Ctrl-D.\n",
      "  warn(\"To exit: use 'exit', 'quit', or Ctrl-D.\", stacklevel=1)\n"
     ]
    }
   ],
   "source": [
    "from PyQt5.QtWidgets import (QWidget, QPushButton, QFrame, QApplication)\n",
    "from PyQt5.QtGui import QColor\n",
    "import sys\n",
    "\n",
    "class Example(QWidget):\n",
    "    \n",
    "    def __init__(self):\n",
    "        super().__init__()\n",
    "        \n",
    "        self.initUI()\n",
    "        \n",
    "        \n",
    "    def initUI(self):      \n",
    "\n",
    "        self.col = QColor(0, 0, 0)       \n",
    "\n",
    "        redb = QPushButton('Red', self)\n",
    "        redb.setCheckable(True)\n",
    "        redb.move(10, 10)\n",
    "\n",
    "        redb.clicked[bool].connect(self.setColor)\n",
    "\n",
    "        greenb = QPushButton('Green', self)\n",
    "        greenb.setCheckable(True)\n",
    "        greenb.move(10, 60)\n",
    "\n",
    "        greenb.clicked[bool].connect(self.setColor)\n",
    "\n",
    "        blueb = QPushButton('Blue', self)\n",
    "        blueb.setCheckable(True)\n",
    "        blueb.move(10, 110)\n",
    "\n",
    "        blueb.clicked[bool].connect(self.setColor)\n",
    "\n",
    "        self.square = QFrame(self)\n",
    "        self.square.setGeometry(800, 100, 500, 500)\n",
    "        self.square.setStyleSheet(\"QWidget { background-color: %s }\" %  \n",
    "            self.col.name())\n",
    "        \n",
    "        self.setGeometry(800, 800, 480, 370)\n",
    "        self.setWindowTitle('Toggle button')\n",
    "        self.show()\n",
    "        \n",
    "        \n",
    "    def setColor(self, pressed):\n",
    "        \n",
    "        source = self.sender()\n",
    "        \n",
    "        if pressed:\n",
    "            val = 150\n",
    "        else: val = 0\n",
    "                        \n",
    "        if source.text() == \"Red\":\n",
    "            self.col.setRed(val)                \n",
    "        elif source.text() == \"Green\":\n",
    "            self.col.setGreen(val)             \n",
    "        else:\n",
    "            self.col.setBlue(val) \n",
    "            \n",
    "        self.square.setStyleSheet(\"QFrame { background-color: %s }\" %\n",
    "            self.col.name())\n",
    "       \n",
    "       \n",
    "if __name__ == '__main__':\n",
    "    \n",
    "    app = QApplication(sys.argv)\n",
    "    ex = Example()\n",
    "    sys.exit(app.exec_())"
   ]
  },
  {
   "cell_type": "code",
   "execution_count": 1,
   "metadata": {},
   "outputs": [
    {
     "ename": "NameError",
     "evalue": "name 'root' is not defined",
     "output_type": "error",
     "traceback": [
      "\u001b[1;31m---------------------------------------------------------------------------\u001b[0m",
      "\u001b[1;31mNameError\u001b[0m                                 Traceback (most recent call last)",
      "\u001b[1;32m<ipython-input-1-c0cfc1b93a27>\u001b[0m in \u001b[0;36m<module>\u001b[1;34m\u001b[0m\n\u001b[0;32m      6\u001b[0m C1 = Checkbutton(top, text = \"Regulation\", variable = CheckVar1, \\\n\u001b[0;32m      7\u001b[0m                  \u001b[0monvalue\u001b[0m \u001b[1;33m=\u001b[0m \u001b[1;36m1\u001b[0m\u001b[1;33m,\u001b[0m \u001b[0moffvalue\u001b[0m \u001b[1;33m=\u001b[0m \u001b[1;36m0\u001b[0m\u001b[1;33m,\u001b[0m \u001b[0mheight\u001b[0m\u001b[1;33m=\u001b[0m\u001b[1;36m25\u001b[0m\u001b[1;33m,\u001b[0m\u001b[0;31m \u001b[0m\u001b[0;31m\\\u001b[0m\u001b[1;33m\u001b[0m\u001b[1;33m\u001b[0m\u001b[0m\n\u001b[1;32m----> 8\u001b[1;33m                  width = 20, command = root.destroy())\n\u001b[0m\u001b[0;32m      9\u001b[0m \u001b[1;33m\u001b[0m\u001b[0m\n\u001b[0;32m     10\u001b[0m \u001b[0mprint\u001b[0m\u001b[1;33m(\u001b[0m\u001b[0mC1\u001b[0m\u001b[1;33m.\u001b[0m\u001b[0mpack\u001b[0m\u001b[1;33m(\u001b[0m\u001b[1;33m)\u001b[0m\u001b[1;33m)\u001b[0m\u001b[1;33m\u001b[0m\u001b[1;33m\u001b[0m\u001b[0m\n",
      "\u001b[1;31mNameError\u001b[0m: name 'root' is not defined"
     ]
    }
   ],
   "source": [
    "from tkinter import *\n",
    "import tkinter\n",
    "\n",
    "top = tkinter.Tk()\n",
    "CheckVar1 = IntVar()\n",
    "C1 = Checkbutton(top, text = \"Regulation\", variable = CheckVar1, \\\n",
    "                 onvalue = 1, offvalue = 0, height=25, \\\n",
    "                 width = 20, command = root.destroy())\n",
    "\n",
    "print(C1.pack())\n",
    "top.mainloop()"
   ]
  },
  {
   "cell_type": "code",
   "execution_count": null,
   "metadata": {},
   "outputs": [],
   "source": []
  }
 ],
 "metadata": {
  "kernelspec": {
   "display_name": "Python 3",
   "language": "python",
   "name": "python3"
  },
  "language_info": {
   "codemirror_mode": {
    "name": "ipython",
    "version": 3
   },
   "file_extension": ".py",
   "mimetype": "text/x-python",
   "name": "python",
   "nbconvert_exporter": "python",
   "pygments_lexer": "ipython3",
   "version": "3.7.3"
  }
 },
 "nbformat": 4,
 "nbformat_minor": 4
}
