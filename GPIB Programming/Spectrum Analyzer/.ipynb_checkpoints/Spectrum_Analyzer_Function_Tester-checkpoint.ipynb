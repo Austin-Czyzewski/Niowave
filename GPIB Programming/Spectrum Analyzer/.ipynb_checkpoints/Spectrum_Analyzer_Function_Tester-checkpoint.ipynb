{
 "cells": [
  {
   "cell_type": "code",
   "execution_count": 1,
   "metadata": {},
   "outputs": [],
   "source": [
    "import numpy as np\n",
    "import pyvisa"
   ]
  },
  {
   "cell_type": "code",
   "execution_count": 2,
   "metadata": {},
   "outputs": [
    {
     "name": "stdout",
     "output_type": "stream",
     "text": [
      "('GPIB0::18::INSTR',)\n"
     ]
    }
   ],
   "source": [
    "RM = pyvisa.ResourceManager() #pyVISA device manager\n",
    "print(RM.list_resources()) #Printing out all detected device IDs"
   ]
  },
  {
   "cell_type": "code",
   "execution_count": 3,
   "metadata": {},
   "outputs": [
    {
     "data": {
      "text/plain": [
       "<StatusCode.success: 0>"
      ]
     },
     "execution_count": 3,
     "metadata": {},
     "output_type": "execute_result"
    }
   ],
   "source": [
    "SA = RM.open_resource('GPIB0::18::INSTR') #Opening the oscilloscope as an object\n",
    "SA.query('*IDN?')\n",
    "SA.control_ren(6)"
   ]
  },
  {
   "cell_type": "code",
   "execution_count": null,
   "metadata": {},
   "outputs": [],
   "source": []
  },
  {
   "cell_type": "code",
   "execution_count": 4,
   "metadata": {},
   "outputs": [
    {
     "name": "stdout",
     "output_type": "stream",
     "text": [
      "0.0036613941192626953\n"
     ]
    }
   ],
   "source": [
    "import time\n",
    "start = time.time()\n",
    "SA.write(\"FREQ:CENT 350000000\")\n",
    "SA.control_ren(6)\n",
    "print(time.time() - start)"
   ]
  },
  {
   "cell_type": "code",
   "execution_count": 5,
   "metadata": {},
   "outputs": [
    {
     "data": {
      "text/plain": [
       "<StatusCode.success: 0>"
      ]
     },
     "execution_count": 5,
     "metadata": {},
     "output_type": "execute_result"
    }
   ],
   "source": [
    "SA.write(\":HCOPy:DEVice:TYPE None\")\n",
    "SA.control_ren(6)\n",
    "    "
   ]
  },
  {
   "cell_type": "code",
   "execution_count": 6,
   "metadata": {},
   "outputs": [
    {
     "data": {
      "text/plain": [
       "'NONE\\n'"
      ]
     },
     "execution_count": 6,
     "metadata": {},
     "output_type": "execute_result"
    }
   ],
   "source": [
    "SA.query(\":HCOPY:DEVICE:TYPE?\")"
   ]
  },
  {
   "cell_type": "code",
   "execution_count": 7,
   "metadata": {},
   "outputs": [
    {
     "data": {
      "text/plain": [
       "(20, <StatusCode.success: 0>)"
      ]
     },
     "execution_count": 7,
     "metadata": {},
     "output_type": "execute_result"
    }
   ],
   "source": [
    "SA.write(\":HCOPy[:IMMediate]\")"
   ]
  },
  {
   "cell_type": "code",
   "execution_count": 8,
   "metadata": {},
   "outputs": [
    {
     "data": {
      "text/plain": [
       "(36, <StatusCode.success: 0>)"
      ]
     },
     "execution_count": 8,
     "metadata": {},
     "output_type": "execute_result"
    }
   ],
   "source": [
    "SA.write(':MMEMory:STORe:RESults \"A:ACP.CSV\"')"
   ]
  },
  {
   "cell_type": "code",
   "execution_count": 9,
   "metadata": {},
   "outputs": [
    {
     "data": {
      "text/plain": [
       "(39, <StatusCode.success: 0>)"
      ]
     },
     "execution_count": 9,
     "metadata": {},
     "output_type": "execute_result"
    }
   ],
   "source": [
    "SA.write('MMEM:STOR:TRAC TRACE3,\"C:mytrace.trc\"') #This will take TRACE3 and save it \n",
    "#into the analyzer as mytrace.trc"
   ]
  },
  {
   "cell_type": "code",
   "execution_count": 10,
   "metadata": {},
   "outputs": [
    {
     "name": "stdout",
     "output_type": "stream",
     "text": [
      "346220000.0 -70.587\n"
     ]
    }
   ],
   "source": [
    "# start = time.time()\n",
    "# freq,power = SA.query(\":CALC:MARK2:x?;:calc:mark2:y?\").split(';')\n",
    "# freq,power = float(freq), float(power)\n",
    "# print(time.time() - start)\n",
    "# print(freq,power)\n",
    "\n",
    "def dBm_to_Watts(dBm):\n",
    "    return 10**((dBm/10)-3)\n",
    "\n",
    "def Watts_to_dBm(Watts):\n",
    "    return 10*np.log10(1000*Watts)\n",
    "\n",
    "def Marker_Values(Device, Marker):\n",
    "    Marker = int(Marker)\n",
    "    if type(Marker) != list:\n",
    "        freq,power = Device.query(\":CALC:MARK{0}:x?;:calc:mark{0}:y?\".format(Marker)).split(';')\n",
    "        freq,power = float(freq), float(power)\n",
    "        return freq, power\n",
    "    else:\n",
    "        frequencies, powers = [],[]\n",
    "        for marker in Marker:\n",
    "            freq, power = Device.query(\":CALC:MARK{0}:x?;:calc:mark{0}:y?\".format(marker)).split(';')\n",
    "            freq,power = float(freq), float(power)\n",
    "            frequencies.append(freq)\n",
    "            powers.append(power)\n",
    "        return frequencies, powers\n",
    "\n",
    "Marker_2_Freq, Marker_2_Power = Marker_Values(SA, 2)\n",
    "print(Marker_2_Freq,Marker_2_Power)"
   ]
  },
  {
   "cell_type": "code",
   "execution_count": 3,
   "metadata": {},
   "outputs": [
    {
     "name": "stdout",
     "output_type": "stream",
     "text": [
      "[]\n",
      "It is a list\n"
     ]
    }
   ],
   "source": [
    "a = [1,2,3,45,6]\n",
    "frequencies, powers = [],[]\n",
    "if type(a) != list:\n",
    "    print('It is not a list')\n",
    "else:\n",
    "    print('It is a list')"
   ]
  },
  {
   "cell_type": "code",
   "execution_count": null,
   "metadata": {},
   "outputs": [],
   "source": [
    "SA.control_ren(6)\n",
    "SA.write(\":DISPlay:ANNotation:TITLe:DATA Title\")"
   ]
  },
  {
   "cell_type": "code",
   "execution_count": null,
   "metadata": {},
   "outputs": [],
   "source": []
  }
 ],
 "metadata": {
  "kernelspec": {
   "display_name": "Python 3",
   "language": "python",
   "name": "python3"
  },
  "language_info": {
   "codemirror_mode": {
    "name": "ipython",
    "version": 3
   },
   "file_extension": ".py",
   "mimetype": "text/x-python",
   "name": "python",
   "nbconvert_exporter": "python",
   "pygments_lexer": "ipython3",
   "version": "3.8.1"
  }
 },
 "nbformat": 4,
 "nbformat_minor": 4
}
