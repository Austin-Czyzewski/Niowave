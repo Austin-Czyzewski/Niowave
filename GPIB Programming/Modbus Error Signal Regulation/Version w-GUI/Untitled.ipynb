{
 "cells": [
  {
   "cell_type": "code",
   "execution_count": 16,
   "id": "matched-albert",
   "metadata": {},
   "outputs": [],
   "source": [
    "import GPIB_FUNCS_V2 as GPIB #Importing our GPIB communication functions for easier comprehension and use\n",
    "import pyvisa #import GPIB communication module\n",
    "import time #imports time to sleep program temporarily\n",
    "from tkinter import * #importing GUI library\n",
    "import tkinter\n",
    "\n",
    "\n",
    "Tunnel, IP, IF_Channel, Trigger_Channel , Trigger_Level,\\\n",
    "Read_Start_Voltage, Measurement, Step_size, Pulse_Step_size, \\\n",
    "Max_Threshold, Walk_Threshold, Pulse_Walk_Threshold, \\\n",
    "Wait_after_step, Wait_between_reads, Interlock_Threshold_mv, \\\n",
    "Loops_Debounce, Interlock_Debounce = GPIB.config_reader(\"east_tunnel_if_regulation_config.txt\", \"IF Regulation\")"
   ]
  },
  {
   "cell_type": "code",
   "execution_count": null,
   "id": "christian-assistant",
   "metadata": {},
   "outputs": [],
   "source": []
  }
 ],
 "metadata": {
  "kernelspec": {
   "display_name": "Python 3",
   "language": "python",
   "name": "python3"
  },
  "language_info": {
   "codemirror_mode": {
    "name": "ipython",
    "version": 3
   },
   "file_extension": ".py",
   "mimetype": "text/x-python",
   "name": "python",
   "nbconvert_exporter": "python",
   "pygments_lexer": "ipython3",
   "version": "3.9.2"
  }
 },
 "nbformat": 4,
 "nbformat_minor": 5
}
