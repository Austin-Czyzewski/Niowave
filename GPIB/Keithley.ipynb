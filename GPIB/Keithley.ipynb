{
 "cells": [
  {
   "cell_type": "code",
   "execution_count": 2,
   "metadata": {},
   "outputs": [],
   "source": [
    "import pyvisa \n",
    "import numpy as np\n",
    "import matplotlib.pyplot as plt\n",
    "import seaborn\n",
    "seaborn.set()"
   ]
  },
  {
   "cell_type": "code",
   "execution_count": null,
   "metadata": {},
   "outputs": [],
   "source": [
    "RM = pyvisa.ResourceManager()\n",
    "keithley = RM.open_resource(\"GPIB::0\")\n",
    "keithley.write(\"*rst; status:preset; *cls\")\n",
    "\n",
    "interval_in_ms = 500\n",
    "number_of_readings = 10\n",
    "\n",
    "for i in range(10):\n",
    "    keithley.write(\"status:measurement:enable 512; *sre 1\")\n",
    "    keithley.write(\"sample:count %d\" % number_of_readings)\n",
    "    keithley.write(\"trigger:source bus\")\n",
    "    keithley.write(\"trigger:delay %f\" % (interval_in_ms / 1000.0))\n",
    "    keithley.write(\"trace:points %d\" % number_of_readings)\n",
    "    keithley.write(\"trace:feed sense1; trace:feed:control next\")\n",
    "\n",
    "    keithley.write(\"initiate\")\n",
    "    keithley.assert_trigger()\n",
    "    keithley.wait_for_srq()\n",
    "\n",
    "    voltages = keithley.query_ascii_values(\"trace:data?\")\n",
    "    print(\"Average voltage: \", sum(voltages) / len(voltages))\n",
    "\n",
    "    keithley.query(\"status:measurement?\")\n",
    "    keithley.write(\"trace:clear; trace:feed:control next\")"
   ]
  },
  {
   "cell_type": "code",
   "execution_count": null,
   "metadata": {},
   "outputs": [],
   "source": [
    "RM = pyvisa.ResourceManager()\n",
    "keithley = RM.open_resource(\"GPIB::0\")\n",
    "keithley.write(\"*RST; status:preset; *CLS\")\n",
    "\n",
    "interval_in_ms = 500\n",
    "number_of_readings = 10\n",
    "\n",
    "for i in range(10):\n",
    "    keithley.write(\"status:measurement:enable 512; *SRE 1\")\n",
    "    keithley.write(\"sample:count {}\".format(int(number_of_readings)))\n",
    "    keithley.write(\"trigger:source bus\")\n",
    "    keithley.write(\"trigger:delay {}\".format((interval_in_ms / 1000.0)))\n",
    "    keithley.write(\"trace:points {}\".format(int(number_of_readings)))\n",
    "    keithley.write(\"trace:feed sense1; trace:feed:control next\")\n",
    "\n",
    "    keithley.write(\"initiate\")\n",
    "    keithley.assert_trigger()\n",
    "    keithley.wait_for_srq()\n",
    "\n",
    "    voltages = keithley.query_ascii_values(\"trace:data?\")\n",
    "    print(\"Average voltage: \", sum(voltages) / len(voltages))\n",
    "\n",
    "    keithley.query(\"status:measurement?\")\n",
    "    keithley.write(\"trace:clear; trace:feed:control next\")"
   ]
  },
  {
   "cell_type": "markdown",
   "metadata": {},
   "source": [
    "# HOMEBREWED CONTENT"
   ]
  },
  {
   "cell_type": "code",
   "execution_count": 6,
   "metadata": {},
   "outputs": [
    {
     "ename": "AttributeError",
     "evalue": "'int' object has no attribute 'interface_type'",
     "output_type": "error",
     "traceback": [
      "\u001b[1;31m---------------------------------------------------------------------------\u001b[0m",
      "\u001b[1;31mAttributeError\u001b[0m                            Traceback (most recent call last)",
      "\u001b[1;32m<ipython-input-6-c4c0e4f98005>\u001b[0m in \u001b[0;36m<module>\u001b[1;34m\u001b[0m\n\u001b[0;32m     10\u001b[0m \u001b[0mKeithley_STRING\u001b[0m \u001b[1;33m=\u001b[0m \u001b[0mstr\u001b[0m\u001b[1;33m(\u001b[0m\u001b[0mDevices\u001b[0m\u001b[1;33m)\u001b[0m\u001b[1;31m#[0]\u001b[0m\u001b[1;33m\u001b[0m\u001b[1;33m\u001b[0m\u001b[0m\n\u001b[0;32m     11\u001b[0m \u001b[1;33m\u001b[0m\u001b[0m\n\u001b[1;32m---> 12\u001b[1;33m \u001b[0mKeithley\u001b[0m \u001b[1;33m=\u001b[0m \u001b[0mRM\u001b[0m\u001b[1;33m.\u001b[0m\u001b[0mopen_resource\u001b[0m\u001b[1;33m(\u001b[0m\u001b[0mKeithley_STRING\u001b[0m\u001b[1;33m)\u001b[0m\u001b[1;33m\u001b[0m\u001b[1;33m\u001b[0m\u001b[0m\n\u001b[0m\u001b[0;32m     13\u001b[0m \u001b[1;33m\u001b[0m\u001b[0m\n",
      "\u001b[1;32mc:\\users\\aczyzewski\\appdata\\local\\programs\\python\\python38-32\\lib\\site-packages\\pyvisa\\highlevel.py\u001b[0m in \u001b[0;36mopen_resource\u001b[1;34m(self, resource_name, access_mode, open_timeout, resource_pyclass, **kwargs)\u001b[0m\n\u001b[0;32m   1751\u001b[0m \u001b[1;33m\u001b[0m\u001b[0m\n\u001b[0;32m   1752\u001b[0m             \u001b[1;32mtry\u001b[0m\u001b[1;33m:\u001b[0m\u001b[1;33m\u001b[0m\u001b[1;33m\u001b[0m\u001b[0m\n\u001b[1;32m-> 1753\u001b[1;33m                 \u001b[0mresource_pyclass\u001b[0m \u001b[1;33m=\u001b[0m \u001b[0mself\u001b[0m\u001b[1;33m.\u001b[0m\u001b[0m_resource_classes\u001b[0m\u001b[1;33m[\u001b[0m\u001b[1;33m(\u001b[0m\u001b[0minfo\u001b[0m\u001b[1;33m.\u001b[0m\u001b[0minterface_type\u001b[0m\u001b[1;33m,\u001b[0m \u001b[0minfo\u001b[0m\u001b[1;33m.\u001b[0m\u001b[0mresource_class\u001b[0m\u001b[1;33m)\u001b[0m\u001b[1;33m]\u001b[0m\u001b[1;33m\u001b[0m\u001b[1;33m\u001b[0m\u001b[0m\n\u001b[0m\u001b[0;32m   1754\u001b[0m             \u001b[1;32mexcept\u001b[0m \u001b[0mKeyError\u001b[0m\u001b[1;33m:\u001b[0m\u001b[1;33m\u001b[0m\u001b[1;33m\u001b[0m\u001b[0m\n\u001b[0;32m   1755\u001b[0m                 \u001b[0mresource_pyclass\u001b[0m \u001b[1;33m=\u001b[0m \u001b[0mself\u001b[0m\u001b[1;33m.\u001b[0m\u001b[0m_resource_classes\u001b[0m\u001b[1;33m[\u001b[0m\u001b[1;33m(\u001b[0m\u001b[0mconstants\u001b[0m\u001b[1;33m.\u001b[0m\u001b[0mInterfaceType\u001b[0m\u001b[1;33m.\u001b[0m\u001b[0munknown\u001b[0m\u001b[1;33m,\u001b[0m \u001b[1;34m''\u001b[0m\u001b[1;33m)\u001b[0m\u001b[1;33m]\u001b[0m\u001b[1;33m\u001b[0m\u001b[1;33m\u001b[0m\u001b[0m\n",
      "\u001b[1;31mAttributeError\u001b[0m: 'int' object has no attribute 'interface_type'"
     ]
    }
   ],
   "source": [
    "import pyvisa \n",
    "import numpy as np\n",
    "import matplotlib.pyplot as plt\n",
    "import seaborn\n",
    "seaborn.set()\n",
    "\n",
    "RM = pyvisa.ResourceManager()\n",
    "Devices = RM.list_resources()\n",
    "\n",
    "Keithley_STRING = str(Devices)#[0]\n",
    "\n",
    "Keithley = RM.open_resource(Keithley_STRING)\n",
    "\n",
    "Keithley.write(\"*rst; status:preset; *cls\") #Sending reset to avoid bugs with the GPIB interface. Only needs to be done on\n",
    "                                            # each new connection or restart of the computer\n"
   ]
  },
  {
   "cell_type": "code",
   "execution_count": null,
   "metadata": {},
   "outputs": [],
   "source": []
  }
 ],
 "metadata": {
  "kernelspec": {
   "display_name": "Python 3",
   "language": "python",
   "name": "python3"
  },
  "language_info": {
   "codemirror_mode": {
    "name": "ipython",
    "version": 3
   },
   "file_extension": ".py",
   "mimetype": "text/x-python",
   "name": "python",
   "nbconvert_exporter": "python",
   "pygments_lexer": "ipython3",
   "version": "3.8.1"
  }
 },
 "nbformat": 4,
 "nbformat_minor": 4
}
