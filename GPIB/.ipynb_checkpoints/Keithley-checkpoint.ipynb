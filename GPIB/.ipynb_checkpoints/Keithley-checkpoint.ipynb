{
 "cells": [
  {
   "cell_type": "code",
   "execution_count": 1,
   "metadata": {},
   "outputs": [],
   "source": [
    "import pyvisa \n",
    "import numpy as np\n",
    "import matplotlib.pyplot as plt\n",
    "import seaborn\n",
    "seaborn.set()"
   ]
  },
  {
   "cell_type": "code",
   "execution_count": 2,
   "metadata": {},
   "outputs": [
    {
     "ename": "ValueError",
     "evalue": "Please install linux-gpib to use this resource type.\nNo module named 'gpib'",
     "output_type": "error",
     "traceback": [
      "\u001b[1;31m---------------------------------------------------------------------------\u001b[0m",
      "\u001b[1;31mValueError\u001b[0m                                Traceback (most recent call last)",
      "\u001b[1;32m<ipython-input-2-0ad91c7b7dbb>\u001b[0m in \u001b[0;36m<module>\u001b[1;34m\u001b[0m\n\u001b[0;32m      1\u001b[0m \u001b[0mRM\u001b[0m \u001b[1;33m=\u001b[0m \u001b[0mpyvisa\u001b[0m\u001b[1;33m.\u001b[0m\u001b[0mResourceManager\u001b[0m\u001b[1;33m(\u001b[0m\u001b[1;33m)\u001b[0m\u001b[1;33m\u001b[0m\u001b[1;33m\u001b[0m\u001b[0m\n\u001b[1;32m----> 2\u001b[1;33m \u001b[0mkeithley\u001b[0m \u001b[1;33m=\u001b[0m \u001b[0mRM\u001b[0m\u001b[1;33m.\u001b[0m\u001b[0mopen_resource\u001b[0m\u001b[1;33m(\u001b[0m\u001b[1;34m\"GPIB::0\"\u001b[0m\u001b[1;33m)\u001b[0m\u001b[1;33m\u001b[0m\u001b[1;33m\u001b[0m\u001b[0m\n\u001b[0m\u001b[0;32m      3\u001b[0m \u001b[0mkeithley\u001b[0m\u001b[1;33m.\u001b[0m\u001b[0mwrite\u001b[0m\u001b[1;33m(\u001b[0m\u001b[1;34m\"*rst; status:preset; *cls\"\u001b[0m\u001b[1;33m)\u001b[0m\u001b[1;33m\u001b[0m\u001b[1;33m\u001b[0m\u001b[0m\n\u001b[0;32m      4\u001b[0m \u001b[1;33m\u001b[0m\u001b[0m\n\u001b[0;32m      5\u001b[0m \u001b[0minterval_in_ms\u001b[0m \u001b[1;33m=\u001b[0m \u001b[1;36m500\u001b[0m\u001b[1;33m\u001b[0m\u001b[1;33m\u001b[0m\u001b[0m\n",
      "\u001b[1;32mc:\\users\\aczyzewski\\appdata\\local\\programs\\python\\python38-32\\lib\\site-packages\\pyvisa\\highlevel.py\u001b[0m in \u001b[0;36mopen_resource\u001b[1;34m(self, resource_name, access_mode, open_timeout, resource_pyclass, **kwargs)\u001b[0m\n\u001b[0;32m   1769\u001b[0m                 \u001b[1;32mraise\u001b[0m \u001b[0mValueError\u001b[0m\u001b[1;33m(\u001b[0m\u001b[1;34m'%r is not a valid attribute for type %s'\u001b[0m \u001b[1;33m%\u001b[0m \u001b[1;33m(\u001b[0m\u001b[0mkey\u001b[0m\u001b[1;33m,\u001b[0m \u001b[0mres\u001b[0m\u001b[1;33m.\u001b[0m\u001b[0m__class__\u001b[0m\u001b[1;33m.\u001b[0m\u001b[0m__name__\u001b[0m\u001b[1;33m)\u001b[0m\u001b[1;33m)\u001b[0m\u001b[1;33m\u001b[0m\u001b[1;33m\u001b[0m\u001b[0m\n\u001b[0;32m   1770\u001b[0m \u001b[1;33m\u001b[0m\u001b[0m\n\u001b[1;32m-> 1771\u001b[1;33m         \u001b[0mres\u001b[0m\u001b[1;33m.\u001b[0m\u001b[0mopen\u001b[0m\u001b[1;33m(\u001b[0m\u001b[0maccess_mode\u001b[0m\u001b[1;33m,\u001b[0m \u001b[0mopen_timeout\u001b[0m\u001b[1;33m)\u001b[0m\u001b[1;33m\u001b[0m\u001b[1;33m\u001b[0m\u001b[0m\n\u001b[0m\u001b[0;32m   1772\u001b[0m \u001b[1;33m\u001b[0m\u001b[0m\n\u001b[0;32m   1773\u001b[0m         \u001b[0mself\u001b[0m\u001b[1;33m.\u001b[0m\u001b[0m_created_resources\u001b[0m\u001b[1;33m.\u001b[0m\u001b[0madd\u001b[0m\u001b[1;33m(\u001b[0m\u001b[0mres\u001b[0m\u001b[1;33m)\u001b[0m\u001b[1;33m\u001b[0m\u001b[1;33m\u001b[0m\u001b[0m\n",
      "\u001b[1;32mc:\\users\\aczyzewski\\appdata\\local\\programs\\python\\python38-32\\lib\\site-packages\\pyvisa\\resources\\resource.py\u001b[0m in \u001b[0;36mopen\u001b[1;34m(self, access_mode, open_timeout)\u001b[0m\n\u001b[0;32m    216\u001b[0m         \u001b[0mlogger\u001b[0m\u001b[1;33m.\u001b[0m\u001b[0mdebug\u001b[0m\u001b[1;33m(\u001b[0m\u001b[1;34m'%s - opening ...'\u001b[0m\u001b[1;33m,\u001b[0m \u001b[0mself\u001b[0m\u001b[1;33m.\u001b[0m\u001b[0m_resource_name\u001b[0m\u001b[1;33m,\u001b[0m \u001b[0mextra\u001b[0m\u001b[1;33m=\u001b[0m\u001b[0mself\u001b[0m\u001b[1;33m.\u001b[0m\u001b[0m_logging_extra\u001b[0m\u001b[1;33m)\u001b[0m\u001b[1;33m\u001b[0m\u001b[1;33m\u001b[0m\u001b[0m\n\u001b[0;32m    217\u001b[0m         \u001b[1;32mwith\u001b[0m \u001b[0mself\u001b[0m\u001b[1;33m.\u001b[0m\u001b[0m_resource_manager\u001b[0m\u001b[1;33m.\u001b[0m\u001b[0mignore_warning\u001b[0m\u001b[1;33m(\u001b[0m\u001b[0mconstants\u001b[0m\u001b[1;33m.\u001b[0m\u001b[0mVI_SUCCESS_DEV_NPRESENT\u001b[0m\u001b[1;33m)\u001b[0m\u001b[1;33m:\u001b[0m\u001b[1;33m\u001b[0m\u001b[1;33m\u001b[0m\u001b[0m\n\u001b[1;32m--> 218\u001b[1;33m             \u001b[0mself\u001b[0m\u001b[1;33m.\u001b[0m\u001b[0msession\u001b[0m\u001b[1;33m,\u001b[0m \u001b[0mstatus\u001b[0m \u001b[1;33m=\u001b[0m \u001b[0mself\u001b[0m\u001b[1;33m.\u001b[0m\u001b[0m_resource_manager\u001b[0m\u001b[1;33m.\u001b[0m\u001b[0mopen_bare_resource\u001b[0m\u001b[1;33m(\u001b[0m\u001b[0mself\u001b[0m\u001b[1;33m.\u001b[0m\u001b[0m_resource_name\u001b[0m\u001b[1;33m,\u001b[0m \u001b[0maccess_mode\u001b[0m\u001b[1;33m,\u001b[0m \u001b[0mopen_timeout\u001b[0m\u001b[1;33m)\u001b[0m\u001b[1;33m\u001b[0m\u001b[1;33m\u001b[0m\u001b[0m\n\u001b[0m\u001b[0;32m    219\u001b[0m \u001b[1;33m\u001b[0m\u001b[0m\n\u001b[0;32m    220\u001b[0m             \u001b[1;32mif\u001b[0m \u001b[0mstatus\u001b[0m \u001b[1;33m==\u001b[0m \u001b[0mconstants\u001b[0m\u001b[1;33m.\u001b[0m\u001b[0mVI_SUCCESS_DEV_NPRESENT\u001b[0m\u001b[1;33m:\u001b[0m\u001b[1;33m\u001b[0m\u001b[1;33m\u001b[0m\u001b[0m\n",
      "\u001b[1;32mc:\\users\\aczyzewski\\appdata\\local\\programs\\python\\python38-32\\lib\\site-packages\\pyvisa\\highlevel.py\u001b[0m in \u001b[0;36mopen_bare_resource\u001b[1;34m(self, resource_name, access_mode, open_timeout)\u001b[0m\n\u001b[0;32m   1723\u001b[0m         \u001b[1;33m:\u001b[0m\u001b[1;32mreturn\u001b[0m\u001b[1;33m:\u001b[0m \u001b[0mUnique\u001b[0m \u001b[0mlogical\u001b[0m \u001b[0midentifier\u001b[0m \u001b[0mreference\u001b[0m \u001b[0mto\u001b[0m \u001b[0ma\u001b[0m \u001b[0msession\u001b[0m\u001b[1;33m.\u001b[0m\u001b[1;33m\u001b[0m\u001b[1;33m\u001b[0m\u001b[0m\n\u001b[0;32m   1724\u001b[0m         \"\"\"\n\u001b[1;32m-> 1725\u001b[1;33m         \u001b[1;32mreturn\u001b[0m \u001b[0mself\u001b[0m\u001b[1;33m.\u001b[0m\u001b[0mvisalib\u001b[0m\u001b[1;33m.\u001b[0m\u001b[0mopen\u001b[0m\u001b[1;33m(\u001b[0m\u001b[0mself\u001b[0m\u001b[1;33m.\u001b[0m\u001b[0msession\u001b[0m\u001b[1;33m,\u001b[0m \u001b[0mresource_name\u001b[0m\u001b[1;33m,\u001b[0m \u001b[0maccess_mode\u001b[0m\u001b[1;33m,\u001b[0m \u001b[0mopen_timeout\u001b[0m\u001b[1;33m)\u001b[0m\u001b[1;33m\u001b[0m\u001b[1;33m\u001b[0m\u001b[0m\n\u001b[0m\u001b[0;32m   1726\u001b[0m \u001b[1;33m\u001b[0m\u001b[0m\n\u001b[0;32m   1727\u001b[0m     def open_resource(self, resource_name,\n",
      "\u001b[1;32mc:\\users\\aczyzewski\\appdata\\local\\programs\\python\\python38-32\\lib\\site-packages\\pyvisa-py\\highlevel.py\u001b[0m in \u001b[0;36mopen\u001b[1;34m(self, session, resource_name, access_mode, open_timeout)\u001b[0m\n\u001b[0;32m    192\u001b[0m         \u001b[0mcls\u001b[0m \u001b[1;33m=\u001b[0m \u001b[0msessions\u001b[0m\u001b[1;33m.\u001b[0m\u001b[0mSession\u001b[0m\u001b[1;33m.\u001b[0m\u001b[0mget_session_class\u001b[0m\u001b[1;33m(\u001b[0m\u001b[0mparsed\u001b[0m\u001b[1;33m.\u001b[0m\u001b[0minterface_type_const\u001b[0m\u001b[1;33m,\u001b[0m \u001b[0mparsed\u001b[0m\u001b[1;33m.\u001b[0m\u001b[0mresource_class\u001b[0m\u001b[1;33m)\u001b[0m\u001b[1;33m\u001b[0m\u001b[1;33m\u001b[0m\u001b[0m\n\u001b[0;32m    193\u001b[0m \u001b[1;33m\u001b[0m\u001b[0m\n\u001b[1;32m--> 194\u001b[1;33m         \u001b[0msess\u001b[0m \u001b[1;33m=\u001b[0m \u001b[0mcls\u001b[0m\u001b[1;33m(\u001b[0m\u001b[0msession\u001b[0m\u001b[1;33m,\u001b[0m \u001b[0mresource_name\u001b[0m\u001b[1;33m,\u001b[0m \u001b[0mparsed\u001b[0m\u001b[1;33m,\u001b[0m \u001b[0mopen_timeout\u001b[0m\u001b[1;33m)\u001b[0m\u001b[1;33m\u001b[0m\u001b[1;33m\u001b[0m\u001b[0m\n\u001b[0m\u001b[0;32m    195\u001b[0m \u001b[1;33m\u001b[0m\u001b[0m\n\u001b[0;32m    196\u001b[0m         \u001b[1;32mreturn\u001b[0m \u001b[0mself\u001b[0m\u001b[1;33m.\u001b[0m\u001b[0m_register\u001b[0m\u001b[1;33m(\u001b[0m\u001b[0msess\u001b[0m\u001b[1;33m)\u001b[0m\u001b[1;33m,\u001b[0m \u001b[0mStatusCode\u001b[0m\u001b[1;33m.\u001b[0m\u001b[0msuccess\u001b[0m\u001b[1;33m\u001b[0m\u001b[1;33m\u001b[0m\u001b[0m\n",
      "\u001b[1;32mc:\\users\\aczyzewski\\appdata\\local\\programs\\python\\python38-32\\lib\\site-packages\\pyvisa-py\\sessions.py\u001b[0m in \u001b[0;36m__init__\u001b[1;34m(self, *args, **kwargs)\u001b[0m\n\u001b[0;32m    168\u001b[0m \u001b[1;33m\u001b[0m\u001b[0m\n\u001b[0;32m    169\u001b[0m             \u001b[1;32mdef\u001b[0m \u001b[0m__init__\u001b[0m\u001b[1;33m(\u001b[0m\u001b[0mself\u001b[0m\u001b[1;33m,\u001b[0m \u001b[1;33m*\u001b[0m\u001b[0margs\u001b[0m\u001b[1;33m,\u001b[0m \u001b[1;33m**\u001b[0m\u001b[0mkwargs\u001b[0m\u001b[1;33m)\u001b[0m\u001b[1;33m:\u001b[0m\u001b[1;33m\u001b[0m\u001b[1;33m\u001b[0m\u001b[0m\n\u001b[1;32m--> 170\u001b[1;33m                 \u001b[1;32mraise\u001b[0m \u001b[0mValueError\u001b[0m\u001b[1;33m(\u001b[0m\u001b[0mmsg\u001b[0m\u001b[1;33m)\u001b[0m\u001b[1;33m\u001b[0m\u001b[1;33m\u001b[0m\u001b[0m\n\u001b[0m\u001b[0;32m    171\u001b[0m \u001b[1;33m\u001b[0m\u001b[0m\n\u001b[0;32m    172\u001b[0m         \u001b[0m_internal\u001b[0m\u001b[1;33m.\u001b[0m\u001b[0msession_issue\u001b[0m \u001b[1;33m=\u001b[0m \u001b[0mmsg\u001b[0m\u001b[1;33m\u001b[0m\u001b[1;33m\u001b[0m\u001b[0m\n",
      "\u001b[1;31mValueError\u001b[0m: Please install linux-gpib to use this resource type.\nNo module named 'gpib'"
     ]
    }
   ],
   "source": [
    "RM = pyvisa.ResourceManager()\n",
    "keithley = RM.open_resource(\"GPIB::0\")\n",
    "keithley.write(\"*rst; status:preset; *cls\")\n",
    "\n",
    "interval_in_ms = 500\n",
    "number_of_readings = 10\n",
    "\n",
    "for i in range(10):\n",
    "    keithley.write(\"status:measurement:enable 512; *sre 1\")\n",
    "    keithley.write(\"sample:count %d\" % number_of_readings)\n",
    "    keithley.write(\"trigger:source bus\")\n",
    "    keithley.write(\"trigger:delay %f\" % (interval_in_ms / 1000.0))\n",
    "    keithley.write(\"trace:points %d\" % number_of_readings)\n",
    "    keithley.write(\"trace:feed sense1; trace:feed:control next\")\n",
    "\n",
    "    keithley.write(\"initiate\")\n",
    "    keithley.assert_trigger()\n",
    "    keithley.wait_for_srq()\n",
    "\n",
    "    voltages = keithley.query_ascii_values(\"trace:data?\")\n",
    "    print(\"Average voltage: \", sum(voltages) / len(voltages))\n",
    "\n",
    "    keithley.query(\"status:measurement?\")\n",
    "    keithley.write(\"trace:clear; trace:feed:control next\")"
   ]
  },
  {
   "cell_type": "code",
   "execution_count": null,
   "metadata": {},
   "outputs": [],
   "source": [
    "RM = pyvisa.ResourceManager()\n",
    "keithley = RM.open_resource(\"GPIB::0\")\n",
    "keithley.write(\"*RST; status:preset; *CLS\")\n",
    "\n",
    "interval_in_ms = 500\n",
    "number_of_readings = 10\n",
    "\n",
    "for i in range(10):\n",
    "    keithley.write(\"status:measurement:enable 512; *SRE 1\")\n",
    "    keithley.write(\"sample:count {}\".format(int(number_of_readings)))\n",
    "    keithley.write(\"trigger:source bus\")\n",
    "    keithley.write(\"trigger:delay {}\".format((interval_in_ms / 1000.0)))\n",
    "    keithley.write(\"trace:points {}\".format(int(number_of_readings)))\n",
    "    keithley.write(\"trace:feed sense1; trace:feed:control next\")\n",
    "\n",
    "    keithley.write(\"initiate\")\n",
    "    keithley.assert_trigger()\n",
    "    keithley.wait_for_srq()\n",
    "\n",
    "    voltages = keithley.query_ascii_values(\"trace:data?\")\n",
    "    print(\"Average voltage: \", sum(voltages) / len(voltages))\n",
    "\n",
    "    keithley.query(\"status:measurement?\")\n",
    "    keithley.write(\"trace:clear; trace:feed:control next\")"
   ]
  },
  {
   "cell_type": "markdown",
   "metadata": {},
   "source": [
    "# HOMEBREWED CONTENT"
   ]
  },
  {
   "cell_type": "code",
   "execution_count": null,
   "metadata": {},
   "outputs": [],
   "source": [
    "import pyvisa \n",
    "import numpy as np\n",
    "import matplotlib.pyplot as plt\n",
    "import seaborn\n",
    "seaborn.set()\n",
    "\n",
    "RM = pyvisa.ResourceManager()\n",
    "Devices = RM.list_resources()\n",
    "\n",
    "Keithley_STRING = str(Devices)#[0]\n",
    "\n",
    "Keithley = RM.open_resource(Keithley_STRING)\n",
    "\n",
    "Keithley.write(\"*rst; status:preset; *cls\") #Sending reset to avoid bugs with the GPIB interface. Only needs to be done on\n",
    "                                            # each new connection or restart of the computer\n"
   ]
  },
  {
   "cell_type": "markdown",
   "metadata": {},
   "source": [
    "# Signal Generator Code:"
   ]
  },
  {
   "cell_type": "code",
   "execution_count": 6,
   "metadata": {},
   "outputs": [
    {
     "ename": "SyntaxError",
     "evalue": "EOF while scanning triple-quoted string literal (<ipython-input-6-d34745ad0ec6>, line 77)",
     "output_type": "error",
     "traceback": [
      "\u001b[1;36m  File \u001b[1;32m\"<ipython-input-6-d34745ad0ec6>\"\u001b[1;36m, line \u001b[1;32m77\u001b[0m\n\u001b[1;33m    write_freq(siggen, freq/1e6 - .00001)\u001b[0m\n\u001b[1;37m                                         \n^\u001b[0m\n\u001b[1;31mSyntaxError\u001b[0m\u001b[1;31m:\u001b[0m EOF while scanning triple-quoted string literal\n"
     ]
    }
   ],
   "source": [
    "import pyvisa \n",
    "import numpy as np\n",
    "import matplotlib.pyplot as plt\n",
    "import seaborn\n",
    "seaborn.set()\n",
    "\n",
    "RM = pyvisa.ResourceManager()\n",
    "\n",
    "Devices = RM.list_resources()\n",
    "\n",
    "Sig_Gen_STRING = str(Devices)#[0]\n",
    "\n",
    "siggen = RM.open_resource(Sig_Gen_STRING)\n",
    "\n",
    "\n",
    "#siggen.write(\"*rst; status:preset; *cls\") #Sending reset to avoid bugs with the GPIB interface. Only needs to be done on\n",
    "                                            # each new connection or restart of the computer\n",
    "\n",
    "#############################################\n",
    "# Reading the CW frequency, this will always be the read since we don't pulse the signal generator\n",
    "#############################################\n",
    "\n",
    "siggen.write(\"freq:cw?\")\n",
    "\n",
    "# or\n",
    "\n",
    "def read_freq(Instrument):\n",
    "    \n",
    "    Frequency = Instrument.write(\"freq:cw?\")\n",
    "    \n",
    "    return Frequency\n",
    "\n",
    "# or just \n",
    "\n",
    "Frequency = siggen.write(\"freq:cw?\")\n",
    "\n",
    "\n",
    "#############################################\n",
    "# Writing to the CW frequency\n",
    "#############################################\n",
    "\n",
    "siggen.write(\"freq:cw 350.15005 MHZ\") #This writes 350.15005 MHZ to the signal generator\n",
    "\n",
    "# or\n",
    "\n",
    "def write_freq(Instrument, Frequency, Units = \"MHZ\"):\n",
    "    \n",
    "    Command_Line = \"freq:cw\" + \" \" + Frequency + \" \" + Units\n",
    "    \n",
    "    Instrument.write(Command_Line)\n",
    "    \n",
    "    return\n",
    "\n",
    "############################################################\n",
    "#\n",
    "# With these resources the following would read the frequency, determine if it was above or below 350 MHZ, then walk towards it until you reach it\n",
    "#\n",
    "############################################################\n",
    "\n",
    "siggen = RM.open_resource(Sig_Gen_STRING)\n",
    "\n",
    "freq = read_freq(siggen)\n",
    "\n",
    "print(freq)\n",
    "\n",
    "\"\"\"\n",
    "while True:\n",
    "    \n",
    "    if freq > 350e6:\n",
    "        write_freq(siggen, freq/1e6 + .00001)\n",
    "\n",
    "    if freq == 350e6:\n",
    "        print(\"You've got 350 MHZ\")\n",
    "        break\n",
    "    \n",
    "    else:\n",
    "        write_freq(siggen, freq/1e6 - .00001)\n",
    "\"\"\""
   ]
  },
  {
   "cell_type": "code",
   "execution_count": null,
   "metadata": {},
   "outputs": [],
   "source": []
  }
 ],
 "metadata": {
  "kernelspec": {
   "display_name": "Python 3",
   "language": "python",
   "name": "python3"
  },
  "language_info": {
   "codemirror_mode": {
    "name": "ipython",
    "version": 3
   },
   "file_extension": ".py",
   "mimetype": "text/x-python",
   "name": "python",
   "nbconvert_exporter": "python",
   "pygments_lexer": "ipython3",
   "version": "3.8.1"
  }
 },
 "nbformat": 4,
 "nbformat_minor": 4
}
