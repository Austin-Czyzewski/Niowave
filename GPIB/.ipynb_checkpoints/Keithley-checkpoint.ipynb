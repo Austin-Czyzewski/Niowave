{
 "cells": [
  {
   "cell_type": "code",
   "execution_count": 2,
   "metadata": {},
   "outputs": [],
   "source": [
    "import pyvisa as pv\n",
    "import numpy as np\n",
    "import matplotlib.pyplot as plt\n",
    "import seaborn\n",
    "seaborn.set()"
   ]
  },
  {
   "cell_type": "code",
   "execution_count": null,
   "metadata": {},
   "outputs": [],
   "source": [
    "RM = pyvisa.ResourceManager()\n",
    "keithley = rm.open_resource(\"GPIB::0\")\n",
    "keithley.write(\"*rst; status:preset; *cls\")\n",
    "\n",
    "interval_in_ms = 500\n",
    "number_of_readings = 10\n",
    "\n",
    "keithley.write(\"status:measurement:enable 512; *sre 1\")\n",
    "keithley.write(\"sample:count %d\" % number_of_readings)\n",
    "keithley.write(\"trigger:source bus\")\n",
    "keithley.write(\"trigger:delay %f\" % (interval_in_ms / 1000.0))\n",
    "keithley.write(\"trace:points %d\" % number_of_readings)\n",
    "keithley.write(\"trace:feed sense1; trace:feed:control next\")\n",
    "\n",
    "keithley.write(\"initiate\")\n",
    "keithley.assert_trigger()\n",
    "keithley.wait_for_srq()\n",
    "\n",
    "voltages = keithley.query_ascii_values(\"trace:data?\")\n",
    "print(\"Average voltage: \", sum(voltages) / len(voltages))\n",
    "\n",
    "keithley.query(\"status:measurement?\")\n",
    "keithley.write(\"trace:clear; trace:feed:control next\")"
   ]
  }
 ],
 "metadata": {
  "kernelspec": {
   "display_name": "Python 3",
   "language": "python",
   "name": "python3"
  },
  "language_info": {
   "codemirror_mode": {
    "name": "ipython",
    "version": 3
   },
   "file_extension": ".py",
   "mimetype": "text/x-python",
   "name": "python",
   "nbconvert_exporter": "python",
   "pygments_lexer": "ipython3",
   "version": "3.8.1"
  }
 },
 "nbformat": 4,
 "nbformat_minor": 4
}
